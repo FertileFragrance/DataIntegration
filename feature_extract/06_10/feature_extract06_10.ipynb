{
 "cells": [
  {
   "cell_type": "code",
   "execution_count": 5,
   "outputs": [],
   "source": [
    "import pandas as pd\n",
    "from clickhouse_driver import Client\n",
    "host=\"192.168.1.101\"\n",
    "port=9099\n",
    "user=\"sjjc\"\n",
    "password=\"taosan506\"\n",
    "database=\"dm\"\n",
    "send_receive_timeout=10\n",
    "client = Client(host=host, port=port, user=user, password=password, database=database,\n",
    "                        send_receive_timeout=send_receive_timeout)"
   ],
   "metadata": {
    "collapsed": false,
    "pycharm": {
     "name": "#%%\n"
    }
   }
  },
  {
   "cell_type": "code",
   "execution_count": 6,
   "outputs": [],
   "source": [
    "# 用户基本信息处理，选出所有的列来\n",
    "sql = \"\"\"\n",
    "select uid from dm.pri_cust_base_info order by uid\n",
    "\"\"\"\n",
    "a = client.execute(sql)"
   ],
   "metadata": {
    "collapsed": false,
    "pycharm": {
     "name": "#%%\n"
    }
   }
  },
  {
   "cell_type": "code",
   "execution_count": 7,
   "outputs": [],
   "source": [
    "name_attribute = ['uid']\n",
    "data=pd.DataFrame(columns=name_attribute,data=a)\n",
    "data.set_index('uid',inplace=True)"
   ],
   "metadata": {
    "collapsed": false,
    "pycharm": {
     "name": "#%%\n"
    }
   }
  },
  {
   "cell_type": "code",
   "execution_count": 8,
   "outputs": [],
   "source": [
    "# 持有贷记卡张数\n",
    "data_len = len(data)"
   ],
   "metadata": {
    "collapsed": false,
    "pycharm": {
     "name": "#%%\n"
    }
   }
  },
  {
   "cell_type": "code",
   "execution_count": 9,
   "outputs": [],
   "source": [
    "def exec_eql_and_concat(data, sql, attr_list, default_na):\n",
    "    # 执行sql\n",
    "    data_list = client.execute(sql)\n",
    "    # 转为df\n",
    "    new_data_df = pd.DataFrame(columns=attr_list,data=data_list)\n",
    "    # 按uid拼接\n",
    "    new_data_df.set_index(\"uid\", inplace=True)\n",
    "    data1 = data.join(new_data_df,how='left',sort=False)\n",
    "    # 补全空缺值\n",
    "    data1.fillna(default_na,inplace=True)\n",
    "    # 返回\n",
    "    return data1"
   ],
   "metadata": {
    "collapsed": false,
    "pycharm": {
     "name": "#%%\n"
    }
   }
  },
  {
   "cell_type": "code",
   "execution_count": 67,
   "outputs": [],
   "source": [
    "select_djk_num = \"\"\"\n",
    "select uid, count(card_no) from dm.dm_v_as_djk_info group by uid order by uid;\n",
    "\"\"\"\n",
    "data = exec_eql_and_concat(data,select_djk_num,['uid','djk_num'],{'djk_num':0})"
   ],
   "metadata": {
    "collapsed": false,
    "pycharm": {
     "name": "#%%\n"
    }
   }
  },
  {
   "cell_type": "code",
   "execution_count": 68,
   "outputs": [
    {
     "data": {
      "text/plain": "             djk_num  normal_djk_num\ncount  376186.000000   376186.000000\nmean        0.051358        0.029443\nstd         0.233359        0.170345\nmin         0.000000        0.000000\n25%         0.000000        0.000000\n50%         0.000000        0.000000\n75%         0.000000        0.000000\nmax         7.000000        4.000000",
      "text/html": "<div>\n<style scoped>\n    .dataframe tbody tr th:only-of-type {\n        vertical-align: middle;\n    }\n\n    .dataframe tbody tr th {\n        vertical-align: top;\n    }\n\n    .dataframe thead th {\n        text-align: right;\n    }\n</style>\n<table border=\"1\" class=\"dataframe\">\n  <thead>\n    <tr style=\"text-align: right;\">\n      <th></th>\n      <th>djk_num</th>\n      <th>normal_djk_num</th>\n    </tr>\n  </thead>\n  <tbody>\n    <tr>\n      <th>count</th>\n      <td>376186.000000</td>\n      <td>376186.000000</td>\n    </tr>\n    <tr>\n      <th>mean</th>\n      <td>0.051358</td>\n      <td>0.029443</td>\n    </tr>\n    <tr>\n      <th>std</th>\n      <td>0.233359</td>\n      <td>0.170345</td>\n    </tr>\n    <tr>\n      <th>min</th>\n      <td>0.000000</td>\n      <td>0.000000</td>\n    </tr>\n    <tr>\n      <th>25%</th>\n      <td>0.000000</td>\n      <td>0.000000</td>\n    </tr>\n    <tr>\n      <th>50%</th>\n      <td>0.000000</td>\n      <td>0.000000</td>\n    </tr>\n    <tr>\n      <th>75%</th>\n      <td>0.000000</td>\n      <td>0.000000</td>\n    </tr>\n    <tr>\n      <th>max</th>\n      <td>7.000000</td>\n      <td>4.000000</td>\n    </tr>\n  </tbody>\n</table>\n</div>"
     },
     "execution_count": 68,
     "metadata": {},
     "output_type": "execute_result"
    }
   ],
   "source": [
    "normal_djk_sql = \"\"\"\n",
    "select uid, count(card_no) from dm.dm_v_as_djk_info where card_sts_name='正常' group by uid order by uid\n",
    "\"\"\"\n",
    "data = exec_eql_and_concat(data,normal_djk_sql,['uid','normal_djk_num'],{'normal_djk_num':0})\n",
    "data.describe()"
   ],
   "metadata": {
    "collapsed": false,
    "pycharm": {
     "name": "#%%\n"
    }
   }
  },
  {
   "cell_type": "code",
   "execution_count": 69,
   "outputs": [
    {
     "data": {
      "text/plain": "             djk_num  normal_djk_num  abnormal_djk_num\ncount  376186.000000   376186.000000     376186.000000\nmean        0.051358        0.029443          0.002103\nstd         0.233359        0.170345          0.045807\nmin         0.000000        0.000000          0.000000\n25%         0.000000        0.000000          0.000000\n50%         0.000000        0.000000          0.000000\n75%         0.000000        0.000000          0.000000\nmax         7.000000        4.000000          1.000000",
      "text/html": "<div>\n<style scoped>\n    .dataframe tbody tr th:only-of-type {\n        vertical-align: middle;\n    }\n\n    .dataframe tbody tr th {\n        vertical-align: top;\n    }\n\n    .dataframe thead th {\n        text-align: right;\n    }\n</style>\n<table border=\"1\" class=\"dataframe\">\n  <thead>\n    <tr style=\"text-align: right;\">\n      <th></th>\n      <th>djk_num</th>\n      <th>normal_djk_num</th>\n      <th>abnormal_djk_num</th>\n    </tr>\n  </thead>\n  <tbody>\n    <tr>\n      <th>count</th>\n      <td>376186.000000</td>\n      <td>376186.000000</td>\n      <td>376186.000000</td>\n    </tr>\n    <tr>\n      <th>mean</th>\n      <td>0.051358</td>\n      <td>0.029443</td>\n      <td>0.002103</td>\n    </tr>\n    <tr>\n      <th>std</th>\n      <td>0.233359</td>\n      <td>0.170345</td>\n      <td>0.045807</td>\n    </tr>\n    <tr>\n      <th>min</th>\n      <td>0.000000</td>\n      <td>0.000000</td>\n      <td>0.000000</td>\n    </tr>\n    <tr>\n      <th>25%</th>\n      <td>0.000000</td>\n      <td>0.000000</td>\n      <td>0.000000</td>\n    </tr>\n    <tr>\n      <th>50%</th>\n      <td>0.000000</td>\n      <td>0.000000</td>\n      <td>0.000000</td>\n    </tr>\n    <tr>\n      <th>75%</th>\n      <td>0.000000</td>\n      <td>0.000000</td>\n      <td>0.000000</td>\n    </tr>\n    <tr>\n      <th>max</th>\n      <td>7.000000</td>\n      <td>4.000000</td>\n      <td>1.000000</td>\n    </tr>\n  </tbody>\n</table>\n</div>"
     },
     "execution_count": 69,
     "metadata": {},
     "output_type": "execute_result"
    }
   ],
   "source": [
    "# 用户逾期/止付卡片\n",
    "abnormal_djk_num_sql = \"\"\"\n",
    "select uid, count(card_no) from dm.dm_v_as_djk_info where card_sts_name='银行止付卡片' or card_sts_name='因逾期停息停滞纳金' or card_sts_name='因逾期而停用卡片' group by uid order by uid\n",
    "\"\"\"\n",
    "data = exec_eql_and_concat(data,abnormal_djk_num_sql,['uid','abnormal_djk_num'],{'abnormal_djk_num':0})\n",
    "data.describe()"
   ],
   "metadata": {
    "collapsed": false,
    "pycharm": {
     "name": "#%%\n"
    }
   }
  },
  {
   "cell_type": "code",
   "execution_count": 69,
   "outputs": [],
   "source": [],
   "metadata": {
    "collapsed": false,
    "pycharm": {
     "name": "#%%\n"
    }
   }
  },
  {
   "cell_type": "code",
   "execution_count": 70,
   "outputs": [
    {
     "data": {
      "text/plain": "             djk_num  normal_djk_num  abnormal_djk_num\ncount  376186.000000   376186.000000     376186.000000\nmean        0.051358        0.029443          0.002103\nstd         0.233359        0.170345          0.045807\nmin         0.000000        0.000000          0.000000\n25%         0.000000        0.000000          0.000000\n50%         0.000000        0.000000          0.000000\n75%         0.000000        0.000000          0.000000\nmax         7.000000        4.000000          1.000000",
      "text/html": "<div>\n<style scoped>\n    .dataframe tbody tr th:only-of-type {\n        vertical-align: middle;\n    }\n\n    .dataframe tbody tr th {\n        vertical-align: top;\n    }\n\n    .dataframe thead th {\n        text-align: right;\n    }\n</style>\n<table border=\"1\" class=\"dataframe\">\n  <thead>\n    <tr style=\"text-align: right;\">\n      <th></th>\n      <th>djk_num</th>\n      <th>normal_djk_num</th>\n      <th>abnormal_djk_num</th>\n    </tr>\n  </thead>\n  <tbody>\n    <tr>\n      <th>count</th>\n      <td>376186.000000</td>\n      <td>376186.000000</td>\n      <td>376186.000000</td>\n    </tr>\n    <tr>\n      <th>mean</th>\n      <td>0.051358</td>\n      <td>0.029443</td>\n      <td>0.002103</td>\n    </tr>\n    <tr>\n      <th>std</th>\n      <td>0.233359</td>\n      <td>0.170345</td>\n      <td>0.045807</td>\n    </tr>\n    <tr>\n      <th>min</th>\n      <td>0.000000</td>\n      <td>0.000000</td>\n      <td>0.000000</td>\n    </tr>\n    <tr>\n      <th>25%</th>\n      <td>0.000000</td>\n      <td>0.000000</td>\n      <td>0.000000</td>\n    </tr>\n    <tr>\n      <th>50%</th>\n      <td>0.000000</td>\n      <td>0.000000</td>\n      <td>0.000000</td>\n    </tr>\n    <tr>\n      <th>75%</th>\n      <td>0.000000</td>\n      <td>0.000000</td>\n      <td>0.000000</td>\n    </tr>\n    <tr>\n      <th>max</th>\n      <td>7.000000</td>\n      <td>4.000000</td>\n      <td>1.000000</td>\n    </tr>\n  </tbody>\n</table>\n</div>"
     },
     "execution_count": 70,
     "metadata": {},
     "output_type": "execute_result"
    }
   ],
   "source": [
    "bal_duebill_sql = \"\"\"select uid, min(bal) as bal_duebill from dm.dm_v_tr_duebill_mx group by uid order by uid;\"\"\"\n",
    "data = exec_eql_and_concat(data,bal_duebill_sql,['uid','bal_duebill'],{'bal_duebill':0})\n",
    "data.describe()\n"
   ],
   "metadata": {
    "collapsed": false,
    "pycharm": {
     "name": "#%%\n"
    }
   }
  },
  {
   "cell_type": "code",
   "execution_count": 71,
   "outputs": [
    {
     "data": {
      "text/plain": "             djk_num  normal_djk_num  abnormal_djk_num\ncount  376186.000000   376186.000000     376186.000000\nmean        0.051358        0.029443          0.002103\nstd         0.233359        0.170345          0.045807\nmin         0.000000        0.000000          0.000000\n25%         0.000000        0.000000          0.000000\n50%         0.000000        0.000000          0.000000\n75%         0.000000        0.000000          0.000000\nmax         7.000000        4.000000          1.000000",
      "text/html": "<div>\n<style scoped>\n    .dataframe tbody tr th:only-of-type {\n        vertical-align: middle;\n    }\n\n    .dataframe tbody tr th {\n        vertical-align: top;\n    }\n\n    .dataframe thead th {\n        text-align: right;\n    }\n</style>\n<table border=\"1\" class=\"dataframe\">\n  <thead>\n    <tr style=\"text-align: right;\">\n      <th></th>\n      <th>djk_num</th>\n      <th>normal_djk_num</th>\n      <th>abnormal_djk_num</th>\n    </tr>\n  </thead>\n  <tbody>\n    <tr>\n      <th>count</th>\n      <td>376186.000000</td>\n      <td>376186.000000</td>\n      <td>376186.000000</td>\n    </tr>\n    <tr>\n      <th>mean</th>\n      <td>0.051358</td>\n      <td>0.029443</td>\n      <td>0.002103</td>\n    </tr>\n    <tr>\n      <th>std</th>\n      <td>0.233359</td>\n      <td>0.170345</td>\n      <td>0.045807</td>\n    </tr>\n    <tr>\n      <th>min</th>\n      <td>0.000000</td>\n      <td>0.000000</td>\n      <td>0.000000</td>\n    </tr>\n    <tr>\n      <th>25%</th>\n      <td>0.000000</td>\n      <td>0.000000</td>\n      <td>0.000000</td>\n    </tr>\n    <tr>\n      <th>50%</th>\n      <td>0.000000</td>\n      <td>0.000000</td>\n      <td>0.000000</td>\n    </tr>\n    <tr>\n      <th>75%</th>\n      <td>0.000000</td>\n      <td>0.000000</td>\n      <td>0.000000</td>\n    </tr>\n    <tr>\n      <th>max</th>\n      <td>7.000000</td>\n      <td>4.000000</td>\n      <td>1.000000</td>\n    </tr>\n  </tbody>\n</table>\n</div>"
     },
     "execution_count": 71,
     "metadata": {},
     "output_type": "execute_result"
    }
   ],
   "source": [
    "normal_bal_duebill_sql = \"\"\"select uid, min(norm_bal) norm_bal from dm.dm_v_tr_duebill_mx group by uid order by uid;\"\"\"\n",
    "data = exec_eql_and_concat(data,normal_bal_duebill_sql,['uid','normal_bal_duebill'],{'normal_bal_duebill':0})\n",
    "data.describe()"
   ],
   "metadata": {
    "collapsed": false,
    "pycharm": {
     "name": "#%%\n"
    }
   }
  },
  {
   "cell_type": "code",
   "execution_count": 72,
   "outputs": [
    {
     "data": {
      "text/plain": "             djk_num  normal_djk_num  abnormal_djk_num  online_tran_duebill\ncount  376186.000000   376186.000000     376186.000000        376186.000000\nmean        0.051358        0.029443          0.002103             0.245185\nstd         0.233359        0.170345          0.045807             3.990931\nmin         0.000000        0.000000          0.000000             0.000000\n25%         0.000000        0.000000          0.000000             0.000000\n50%         0.000000        0.000000          0.000000             0.000000\n75%         0.000000        0.000000          0.000000             0.000000\nmax         7.000000        4.000000          1.000000          1471.000000",
      "text/html": "<div>\n<style scoped>\n    .dataframe tbody tr th:only-of-type {\n        vertical-align: middle;\n    }\n\n    .dataframe tbody tr th {\n        vertical-align: top;\n    }\n\n    .dataframe thead th {\n        text-align: right;\n    }\n</style>\n<table border=\"1\" class=\"dataframe\">\n  <thead>\n    <tr style=\"text-align: right;\">\n      <th></th>\n      <th>djk_num</th>\n      <th>normal_djk_num</th>\n      <th>abnormal_djk_num</th>\n      <th>online_tran_duebill</th>\n    </tr>\n  </thead>\n  <tbody>\n    <tr>\n      <th>count</th>\n      <td>376186.000000</td>\n      <td>376186.000000</td>\n      <td>376186.000000</td>\n      <td>376186.000000</td>\n    </tr>\n    <tr>\n      <th>mean</th>\n      <td>0.051358</td>\n      <td>0.029443</td>\n      <td>0.002103</td>\n      <td>0.245185</td>\n    </tr>\n    <tr>\n      <th>std</th>\n      <td>0.233359</td>\n      <td>0.170345</td>\n      <td>0.045807</td>\n      <td>3.990931</td>\n    </tr>\n    <tr>\n      <th>min</th>\n      <td>0.000000</td>\n      <td>0.000000</td>\n      <td>0.000000</td>\n      <td>0.000000</td>\n    </tr>\n    <tr>\n      <th>25%</th>\n      <td>0.000000</td>\n      <td>0.000000</td>\n      <td>0.000000</td>\n      <td>0.000000</td>\n    </tr>\n    <tr>\n      <th>50%</th>\n      <td>0.000000</td>\n      <td>0.000000</td>\n      <td>0.000000</td>\n      <td>0.000000</td>\n    </tr>\n    <tr>\n      <th>75%</th>\n      <td>0.000000</td>\n      <td>0.000000</td>\n      <td>0.000000</td>\n      <td>0.000000</td>\n    </tr>\n    <tr>\n      <th>max</th>\n      <td>7.000000</td>\n      <td>4.000000</td>\n      <td>1.000000</td>\n      <td>1471.000000</td>\n    </tr>\n  </tbody>\n</table>\n</div>"
     },
     "execution_count": 72,
     "metadata": {},
     "output_type": "execute_result"
    }
   ],
   "source": [
    "online_tran_duebill_sql = \"\"\"select uid,  count(*) as online_tran_duebill from dm.dm_v_tr_duebill_mx where loan_channel = '手机银行' or loan_channel = '网上银行' group by uid  order by uid;\n",
    "\"\"\"\n",
    "data = exec_eql_and_concat(data,online_tran_duebill_sql,['uid','online_tran_duebill'],{'online_tran_duebill':0})\n",
    "data.describe()\n",
    "\n"
   ],
   "metadata": {
    "collapsed": false,
    "pycharm": {
     "name": "#%%\n"
    }
   }
  },
  {
   "cell_type": "code",
   "execution_count": 73,
   "outputs": [
    {
     "data": {
      "text/plain": "             djk_num  normal_djk_num  abnormal_djk_num  online_tran_duebill  \\\ncount  376186.000000   376186.000000     376186.000000        376186.000000   \nmean        0.051358        0.029443          0.002103             0.245185   \nstd         0.233359        0.170345          0.045807             3.990931   \nmin         0.000000        0.000000          0.000000             0.000000   \n25%         0.000000        0.000000          0.000000             0.000000   \n50%         0.000000        0.000000          0.000000             0.000000   \n75%         0.000000        0.000000          0.000000             0.000000   \nmax         7.000000        4.000000          1.000000          1471.000000   \n\n       offline_tran_duebill  \ncount         376186.000000  \nmean               0.052304  \nstd                0.589840  \nmin                0.000000  \n25%                0.000000  \n50%                0.000000  \n75%                0.000000  \nmax               62.000000  ",
      "text/html": "<div>\n<style scoped>\n    .dataframe tbody tr th:only-of-type {\n        vertical-align: middle;\n    }\n\n    .dataframe tbody tr th {\n        vertical-align: top;\n    }\n\n    .dataframe thead th {\n        text-align: right;\n    }\n</style>\n<table border=\"1\" class=\"dataframe\">\n  <thead>\n    <tr style=\"text-align: right;\">\n      <th></th>\n      <th>djk_num</th>\n      <th>normal_djk_num</th>\n      <th>abnormal_djk_num</th>\n      <th>online_tran_duebill</th>\n      <th>offline_tran_duebill</th>\n    </tr>\n  </thead>\n  <tbody>\n    <tr>\n      <th>count</th>\n      <td>376186.000000</td>\n      <td>376186.000000</td>\n      <td>376186.000000</td>\n      <td>376186.000000</td>\n      <td>376186.000000</td>\n    </tr>\n    <tr>\n      <th>mean</th>\n      <td>0.051358</td>\n      <td>0.029443</td>\n      <td>0.002103</td>\n      <td>0.245185</td>\n      <td>0.052304</td>\n    </tr>\n    <tr>\n      <th>std</th>\n      <td>0.233359</td>\n      <td>0.170345</td>\n      <td>0.045807</td>\n      <td>3.990931</td>\n      <td>0.589840</td>\n    </tr>\n    <tr>\n      <th>min</th>\n      <td>0.000000</td>\n      <td>0.000000</td>\n      <td>0.000000</td>\n      <td>0.000000</td>\n      <td>0.000000</td>\n    </tr>\n    <tr>\n      <th>25%</th>\n      <td>0.000000</td>\n      <td>0.000000</td>\n      <td>0.000000</td>\n      <td>0.000000</td>\n      <td>0.000000</td>\n    </tr>\n    <tr>\n      <th>50%</th>\n      <td>0.000000</td>\n      <td>0.000000</td>\n      <td>0.000000</td>\n      <td>0.000000</td>\n      <td>0.000000</td>\n    </tr>\n    <tr>\n      <th>75%</th>\n      <td>0.000000</td>\n      <td>0.000000</td>\n      <td>0.000000</td>\n      <td>0.000000</td>\n      <td>0.000000</td>\n    </tr>\n    <tr>\n      <th>max</th>\n      <td>7.000000</td>\n      <td>4.000000</td>\n      <td>1.000000</td>\n      <td>1471.000000</td>\n      <td>62.000000</td>\n    </tr>\n  </tbody>\n</table>\n</div>"
     },
     "execution_count": 73,
     "metadata": {},
     "output_type": "execute_result"
    }
   ],
   "source": [
    "offline_tran_duebill_sql = \"\"\"select uid,  count(*) as offline_tran_duebill from dm.dm_v_tr_duebill_mx where loan_channel = '柜面' group by uid order by uid;\n",
    "\"\"\"\n",
    "data = exec_eql_and_concat(data,offline_tran_duebill_sql,['uid','offline_tran_duebill'],{'offline_tran_duebill':0})\n",
    "data.describe()"
   ],
   "metadata": {
    "collapsed": false,
    "pycharm": {
     "name": "#%%\n"
    }
   }
  },
  {
   "cell_type": "code",
   "execution_count": 73,
   "outputs": [],
   "source": [],
   "metadata": {
    "collapsed": false,
    "pycharm": {
     "name": "#%%\n"
    }
   }
  },
  {
   "cell_type": "code",
   "execution_count": 74,
   "outputs": [
    {
     "data": {
      "text/plain": "             djk_num  normal_djk_num  abnormal_djk_num  online_tran_duebill  \\\ncount  376186.000000   376186.000000     376186.000000        376186.000000   \nmean        0.051358        0.029443          0.002103             0.245185   \nstd         0.233359        0.170345          0.045807             3.990931   \nmin         0.000000        0.000000          0.000000             0.000000   \n25%         0.000000        0.000000          0.000000             0.000000   \n50%         0.000000        0.000000          0.000000             0.000000   \n75%         0.000000        0.000000          0.000000             0.000000   \nmax         7.000000        4.000000          1.000000          1471.000000   \n\n       offline_tran_duebill    has_car_etc  \ncount         376186.000000  376186.000000  \nmean               0.052304       0.025022  \nstd                0.589840       0.156193  \nmin                0.000000       0.000000  \n25%                0.000000       0.000000  \n50%                0.000000       0.000000  \n75%                0.000000       0.000000  \nmax               62.000000       1.000000  ",
      "text/html": "<div>\n<style scoped>\n    .dataframe tbody tr th:only-of-type {\n        vertical-align: middle;\n    }\n\n    .dataframe tbody tr th {\n        vertical-align: top;\n    }\n\n    .dataframe thead th {\n        text-align: right;\n    }\n</style>\n<table border=\"1\" class=\"dataframe\">\n  <thead>\n    <tr style=\"text-align: right;\">\n      <th></th>\n      <th>djk_num</th>\n      <th>normal_djk_num</th>\n      <th>abnormal_djk_num</th>\n      <th>online_tran_duebill</th>\n      <th>offline_tran_duebill</th>\n      <th>has_car_etc</th>\n    </tr>\n  </thead>\n  <tbody>\n    <tr>\n      <th>count</th>\n      <td>376186.000000</td>\n      <td>376186.000000</td>\n      <td>376186.000000</td>\n      <td>376186.000000</td>\n      <td>376186.000000</td>\n      <td>376186.000000</td>\n    </tr>\n    <tr>\n      <th>mean</th>\n      <td>0.051358</td>\n      <td>0.029443</td>\n      <td>0.002103</td>\n      <td>0.245185</td>\n      <td>0.052304</td>\n      <td>0.025022</td>\n    </tr>\n    <tr>\n      <th>std</th>\n      <td>0.233359</td>\n      <td>0.170345</td>\n      <td>0.045807</td>\n      <td>3.990931</td>\n      <td>0.589840</td>\n      <td>0.156193</td>\n    </tr>\n    <tr>\n      <th>min</th>\n      <td>0.000000</td>\n      <td>0.000000</td>\n      <td>0.000000</td>\n      <td>0.000000</td>\n      <td>0.000000</td>\n      <td>0.000000</td>\n    </tr>\n    <tr>\n      <th>25%</th>\n      <td>0.000000</td>\n      <td>0.000000</td>\n      <td>0.000000</td>\n      <td>0.000000</td>\n      <td>0.000000</td>\n      <td>0.000000</td>\n    </tr>\n    <tr>\n      <th>50%</th>\n      <td>0.000000</td>\n      <td>0.000000</td>\n      <td>0.000000</td>\n      <td>0.000000</td>\n      <td>0.000000</td>\n      <td>0.000000</td>\n    </tr>\n    <tr>\n      <th>75%</th>\n      <td>0.000000</td>\n      <td>0.000000</td>\n      <td>0.000000</td>\n      <td>0.000000</td>\n      <td>0.000000</td>\n      <td>0.000000</td>\n    </tr>\n    <tr>\n      <th>max</th>\n      <td>7.000000</td>\n      <td>4.000000</td>\n      <td>1.000000</td>\n      <td>1471.000000</td>\n      <td>62.000000</td>\n      <td>1.000000</td>\n    </tr>\n  </tbody>\n</table>\n</div>"
     },
     "execution_count": 74,
     "metadata": {},
     "output_type": "execute_result"
    }
   ],
   "source": [
    "has_car_etc_sql =\"\"\"select uid, 1 as has_car_etc from dm_v_tr_etc_mx group by uid order by uid;\"\"\"\n",
    "data = exec_eql_and_concat(data,has_car_etc_sql,['uid','has_car_etc'],{'has_car_etc':0})\n",
    "data.describe()"
   ],
   "metadata": {
    "collapsed": false,
    "pycharm": {
     "name": "#%%\n"
    }
   }
  },
  {
   "cell_type": "code",
   "execution_count": 75,
   "outputs": [
    {
     "data": {
      "text/plain": "             djk_num  normal_djk_num  abnormal_djk_num  online_tran_duebill  \\\ncount  376186.000000   376186.000000     376186.000000        376186.000000   \nmean        0.051358        0.029443          0.002103             0.245185   \nstd         0.233359        0.170345          0.045807             3.990931   \nmin         0.000000        0.000000          0.000000             0.000000   \n25%         0.000000        0.000000          0.000000             0.000000   \n50%         0.000000        0.000000          0.000000             0.000000   \n75%         0.000000        0.000000          0.000000             0.000000   \nmax         7.000000        4.000000          1.000000          1471.000000   \n\n       offline_tran_duebill    has_car_etc  has_personal_bank_grwy  \ncount         376186.000000  376186.000000           376186.000000  \nmean               0.052304       0.025022                0.000011  \nstd                0.589840       0.156193                0.003261  \nmin                0.000000       0.000000                0.000000  \n25%                0.000000       0.000000                0.000000  \n50%                0.000000       0.000000                0.000000  \n75%                0.000000       0.000000                0.000000  \nmax               62.000000       1.000000                1.000000  ",
      "text/html": "<div>\n<style scoped>\n    .dataframe tbody tr th:only-of-type {\n        vertical-align: middle;\n    }\n\n    .dataframe tbody tr th {\n        vertical-align: top;\n    }\n\n    .dataframe thead th {\n        text-align: right;\n    }\n</style>\n<table border=\"1\" class=\"dataframe\">\n  <thead>\n    <tr style=\"text-align: right;\">\n      <th></th>\n      <th>djk_num</th>\n      <th>normal_djk_num</th>\n      <th>abnormal_djk_num</th>\n      <th>online_tran_duebill</th>\n      <th>offline_tran_duebill</th>\n      <th>has_car_etc</th>\n      <th>has_personal_bank_grwy</th>\n    </tr>\n  </thead>\n  <tbody>\n    <tr>\n      <th>count</th>\n      <td>376186.000000</td>\n      <td>376186.000000</td>\n      <td>376186.000000</td>\n      <td>376186.000000</td>\n      <td>376186.000000</td>\n      <td>376186.000000</td>\n      <td>376186.000000</td>\n    </tr>\n    <tr>\n      <th>mean</th>\n      <td>0.051358</td>\n      <td>0.029443</td>\n      <td>0.002103</td>\n      <td>0.245185</td>\n      <td>0.052304</td>\n      <td>0.025022</td>\n      <td>0.000011</td>\n    </tr>\n    <tr>\n      <th>std</th>\n      <td>0.233359</td>\n      <td>0.170345</td>\n      <td>0.045807</td>\n      <td>3.990931</td>\n      <td>0.589840</td>\n      <td>0.156193</td>\n      <td>0.003261</td>\n    </tr>\n    <tr>\n      <th>min</th>\n      <td>0.000000</td>\n      <td>0.000000</td>\n      <td>0.000000</td>\n      <td>0.000000</td>\n      <td>0.000000</td>\n      <td>0.000000</td>\n      <td>0.000000</td>\n    </tr>\n    <tr>\n      <th>25%</th>\n      <td>0.000000</td>\n      <td>0.000000</td>\n      <td>0.000000</td>\n      <td>0.000000</td>\n      <td>0.000000</td>\n      <td>0.000000</td>\n      <td>0.000000</td>\n    </tr>\n    <tr>\n      <th>50%</th>\n      <td>0.000000</td>\n      <td>0.000000</td>\n      <td>0.000000</td>\n      <td>0.000000</td>\n      <td>0.000000</td>\n      <td>0.000000</td>\n      <td>0.000000</td>\n    </tr>\n    <tr>\n      <th>75%</th>\n      <td>0.000000</td>\n      <td>0.000000</td>\n      <td>0.000000</td>\n      <td>0.000000</td>\n      <td>0.000000</td>\n      <td>0.000000</td>\n      <td>0.000000</td>\n    </tr>\n    <tr>\n      <th>max</th>\n      <td>7.000000</td>\n      <td>4.000000</td>\n      <td>1.000000</td>\n      <td>1471.000000</td>\n      <td>62.000000</td>\n      <td>1.000000</td>\n      <td>1.000000</td>\n    </tr>\n  </tbody>\n</table>\n</div>"
     },
     "execution_count": 75,
     "metadata": {},
     "output_type": "execute_result"
    }
   ],
   "source": [
    "has_personal_bank_grwy_sql = \"\"\"select uid, 1 as has_personal_bank_grwy from dm.dm_v_tr_grwy_mx group by uid order by uid;\n",
    " \"\"\"\n",
    "data = exec_eql_and_concat(data,has_personal_bank_grwy_sql,['uid','has_personal_bank_grwy'],{'has_personal_bank_grwy':0})\n",
    "data.describe()"
   ],
   "metadata": {
    "collapsed": false,
    "pycharm": {
     "name": "#%%\n"
    }
   }
  },
  {
   "cell_type": "code",
   "execution_count": 76,
   "outputs": [
    {
     "data": {
      "text/plain": "             djk_num  normal_djk_num  abnormal_djk_num  online_tran_duebill  \\\ncount  376186.000000   376186.000000     376186.000000        376186.000000   \nmean        0.051358        0.029443          0.002103             0.245185   \nstd         0.233359        0.170345          0.045807             3.990931   \nmin         0.000000        0.000000          0.000000             0.000000   \n25%         0.000000        0.000000          0.000000             0.000000   \n50%         0.000000        0.000000          0.000000             0.000000   \n75%         0.000000        0.000000          0.000000             0.000000   \nmax         7.000000        4.000000          1.000000          1471.000000   \n\n       offline_tran_duebill    has_car_etc  has_personal_bank_grwy  \\\ncount         376186.000000  376186.000000           376186.000000   \nmean               0.052304       0.025022                0.000011   \nstd                0.589840       0.156193                0.003261   \nmin                0.000000       0.000000                0.000000   \n25%                0.000000       0.000000                0.000000   \n50%                0.000000       0.000000                0.000000   \n75%                0.000000       0.000000                0.000000   \nmax               62.000000       1.000000                1.000000   \n\n       MCA_times_grwy  \ncount   376186.000000  \nmean         0.000098  \nstd          0.039770  \nmin          0.000000  \n25%          0.000000  \n50%          0.000000  \n75%          0.000000  \nmax         21.000000  ",
      "text/html": "<div>\n<style scoped>\n    .dataframe tbody tr th:only-of-type {\n        vertical-align: middle;\n    }\n\n    .dataframe tbody tr th {\n        vertical-align: top;\n    }\n\n    .dataframe thead th {\n        text-align: right;\n    }\n</style>\n<table border=\"1\" class=\"dataframe\">\n  <thead>\n    <tr style=\"text-align: right;\">\n      <th></th>\n      <th>djk_num</th>\n      <th>normal_djk_num</th>\n      <th>abnormal_djk_num</th>\n      <th>online_tran_duebill</th>\n      <th>offline_tran_duebill</th>\n      <th>has_car_etc</th>\n      <th>has_personal_bank_grwy</th>\n      <th>MCA_times_grwy</th>\n    </tr>\n  </thead>\n  <tbody>\n    <tr>\n      <th>count</th>\n      <td>376186.000000</td>\n      <td>376186.000000</td>\n      <td>376186.000000</td>\n      <td>376186.000000</td>\n      <td>376186.000000</td>\n      <td>376186.000000</td>\n      <td>376186.000000</td>\n      <td>376186.000000</td>\n    </tr>\n    <tr>\n      <th>mean</th>\n      <td>0.051358</td>\n      <td>0.029443</td>\n      <td>0.002103</td>\n      <td>0.245185</td>\n      <td>0.052304</td>\n      <td>0.025022</td>\n      <td>0.000011</td>\n      <td>0.000098</td>\n    </tr>\n    <tr>\n      <th>std</th>\n      <td>0.233359</td>\n      <td>0.170345</td>\n      <td>0.045807</td>\n      <td>3.990931</td>\n      <td>0.589840</td>\n      <td>0.156193</td>\n      <td>0.003261</td>\n      <td>0.039770</td>\n    </tr>\n    <tr>\n      <th>min</th>\n      <td>0.000000</td>\n      <td>0.000000</td>\n      <td>0.000000</td>\n      <td>0.000000</td>\n      <td>0.000000</td>\n      <td>0.000000</td>\n      <td>0.000000</td>\n      <td>0.000000</td>\n    </tr>\n    <tr>\n      <th>25%</th>\n      <td>0.000000</td>\n      <td>0.000000</td>\n      <td>0.000000</td>\n      <td>0.000000</td>\n      <td>0.000000</td>\n      <td>0.000000</td>\n      <td>0.000000</td>\n      <td>0.000000</td>\n    </tr>\n    <tr>\n      <th>50%</th>\n      <td>0.000000</td>\n      <td>0.000000</td>\n      <td>0.000000</td>\n      <td>0.000000</td>\n      <td>0.000000</td>\n      <td>0.000000</td>\n      <td>0.000000</td>\n      <td>0.000000</td>\n    </tr>\n    <tr>\n      <th>75%</th>\n      <td>0.000000</td>\n      <td>0.000000</td>\n      <td>0.000000</td>\n      <td>0.000000</td>\n      <td>0.000000</td>\n      <td>0.000000</td>\n      <td>0.000000</td>\n      <td>0.000000</td>\n    </tr>\n    <tr>\n      <th>max</th>\n      <td>7.000000</td>\n      <td>4.000000</td>\n      <td>1.000000</td>\n      <td>1471.000000</td>\n      <td>62.000000</td>\n      <td>1.000000</td>\n      <td>1.000000</td>\n      <td>21.000000</td>\n    </tr>\n  </tbody>\n</table>\n</div>"
     },
     "execution_count": 76,
     "metadata": {},
     "output_type": "execute_result"
    }
   ],
   "source": [
    "MCA_times_grwy_sql = \"\"\"select uid, count(*) as MCA_times_grwy from dm.dm_v_tr_grwy_mx  where sys_type = 'MCA' group by uid order by uid;\n",
    "\"\"\"\n",
    "data = exec_eql_and_concat(data,MCA_times_grwy_sql,['uid','MCA_times_grwy'],{'MCA_times_grwy':0})\n",
    "data.describe()"
   ],
   "metadata": {
    "collapsed": false,
    "pycharm": {
     "name": "#%%\n"
    }
   }
  },
  {
   "cell_type": "code",
   "execution_count": 77,
   "outputs": [
    {
     "data": {
      "text/plain": "             djk_num  normal_djk_num  abnormal_djk_num  online_tran_duebill  \\\ncount  376186.000000   376186.000000     376186.000000        376186.000000   \nmean        0.051358        0.029443          0.002103             0.245185   \nstd         0.233359        0.170345          0.045807             3.990931   \nmin         0.000000        0.000000          0.000000             0.000000   \n25%         0.000000        0.000000          0.000000             0.000000   \n50%         0.000000        0.000000          0.000000             0.000000   \n75%         0.000000        0.000000          0.000000             0.000000   \nmax         7.000000        4.000000          1.000000          1471.000000   \n\n       offline_tran_duebill    has_car_etc  has_personal_bank_grwy  \\\ncount         376186.000000  376186.000000           376186.000000   \nmean               0.052304       0.025022                0.000011   \nstd                0.589840       0.156193                0.003261   \nmin                0.000000       0.000000                0.000000   \n25%                0.000000       0.000000                0.000000   \n50%                0.000000       0.000000                0.000000   \n75%                0.000000       0.000000                0.000000   \nmax               62.000000       1.000000                1.000000   \n\n       MCA_times_grwy  Core_times_grwy  \ncount   376186.000000    376186.000000  \nmean         0.000098         0.000080  \nstd          0.039770         0.040334  \nmin          0.000000         0.000000  \n25%          0.000000         0.000000  \n50%          0.000000         0.000000  \n75%          0.000000         0.000000  \nmax         21.000000        24.000000  ",
      "text/html": "<div>\n<style scoped>\n    .dataframe tbody tr th:only-of-type {\n        vertical-align: middle;\n    }\n\n    .dataframe tbody tr th {\n        vertical-align: top;\n    }\n\n    .dataframe thead th {\n        text-align: right;\n    }\n</style>\n<table border=\"1\" class=\"dataframe\">\n  <thead>\n    <tr style=\"text-align: right;\">\n      <th></th>\n      <th>djk_num</th>\n      <th>normal_djk_num</th>\n      <th>abnormal_djk_num</th>\n      <th>online_tran_duebill</th>\n      <th>offline_tran_duebill</th>\n      <th>has_car_etc</th>\n      <th>has_personal_bank_grwy</th>\n      <th>MCA_times_grwy</th>\n      <th>Core_times_grwy</th>\n    </tr>\n  </thead>\n  <tbody>\n    <tr>\n      <th>count</th>\n      <td>376186.000000</td>\n      <td>376186.000000</td>\n      <td>376186.000000</td>\n      <td>376186.000000</td>\n      <td>376186.000000</td>\n      <td>376186.000000</td>\n      <td>376186.000000</td>\n      <td>376186.000000</td>\n      <td>376186.000000</td>\n    </tr>\n    <tr>\n      <th>mean</th>\n      <td>0.051358</td>\n      <td>0.029443</td>\n      <td>0.002103</td>\n      <td>0.245185</td>\n      <td>0.052304</td>\n      <td>0.025022</td>\n      <td>0.000011</td>\n      <td>0.000098</td>\n      <td>0.000080</td>\n    </tr>\n    <tr>\n      <th>std</th>\n      <td>0.233359</td>\n      <td>0.170345</td>\n      <td>0.045807</td>\n      <td>3.990931</td>\n      <td>0.589840</td>\n      <td>0.156193</td>\n      <td>0.003261</td>\n      <td>0.039770</td>\n      <td>0.040334</td>\n    </tr>\n    <tr>\n      <th>min</th>\n      <td>0.000000</td>\n      <td>0.000000</td>\n      <td>0.000000</td>\n      <td>0.000000</td>\n      <td>0.000000</td>\n      <td>0.000000</td>\n      <td>0.000000</td>\n      <td>0.000000</td>\n      <td>0.000000</td>\n    </tr>\n    <tr>\n      <th>25%</th>\n      <td>0.000000</td>\n      <td>0.000000</td>\n      <td>0.000000</td>\n      <td>0.000000</td>\n      <td>0.000000</td>\n      <td>0.000000</td>\n      <td>0.000000</td>\n      <td>0.000000</td>\n      <td>0.000000</td>\n    </tr>\n    <tr>\n      <th>50%</th>\n      <td>0.000000</td>\n      <td>0.000000</td>\n      <td>0.000000</td>\n      <td>0.000000</td>\n      <td>0.000000</td>\n      <td>0.000000</td>\n      <td>0.000000</td>\n      <td>0.000000</td>\n      <td>0.000000</td>\n    </tr>\n    <tr>\n      <th>75%</th>\n      <td>0.000000</td>\n      <td>0.000000</td>\n      <td>0.000000</td>\n      <td>0.000000</td>\n      <td>0.000000</td>\n      <td>0.000000</td>\n      <td>0.000000</td>\n      <td>0.000000</td>\n      <td>0.000000</td>\n    </tr>\n    <tr>\n      <th>max</th>\n      <td>7.000000</td>\n      <td>4.000000</td>\n      <td>1.000000</td>\n      <td>1471.000000</td>\n      <td>62.000000</td>\n      <td>1.000000</td>\n      <td>1.000000</td>\n      <td>21.000000</td>\n      <td>24.000000</td>\n    </tr>\n  </tbody>\n</table>\n</div>"
     },
     "execution_count": 77,
     "metadata": {},
     "output_type": "execute_result"
    }
   ],
   "source": [
    "Core_times_grwy_sql = \"\"\"select uid, count(*) as Core_times_grwy from dm.dm_v_tr_grwy_mx  where sys_type = 'Core' group by uid order by uid;\n",
    "\"\"\"\n",
    "data = exec_eql_and_concat(data,Core_times_grwy_sql,['uid','Core_times_grwy'],{'Core_times_grwy':0})\n",
    "data.describe()"
   ],
   "metadata": {
    "collapsed": false,
    "pycharm": {
     "name": "#%%\n"
    }
   }
  },
  {
   "cell_type": "code",
   "execution_count": 78,
   "outputs": [
    {
     "data": {
      "text/plain": "             djk_num  normal_djk_num  abnormal_djk_num  online_tran_duebill  \\\ncount  376186.000000   376186.000000     376186.000000        376186.000000   \nmean        0.051358        0.029443          0.002103             0.245185   \nstd         0.233359        0.170345          0.045807             3.990931   \nmin         0.000000        0.000000          0.000000             0.000000   \n25%         0.000000        0.000000          0.000000             0.000000   \n50%         0.000000        0.000000          0.000000             0.000000   \n75%         0.000000        0.000000          0.000000             0.000000   \nmax         7.000000        4.000000          1.000000          1471.000000   \n\n       offline_tran_duebill    has_car_etc  has_personal_bank_grwy  \\\ncount         376186.000000  376186.000000           376186.000000   \nmean               0.052304       0.025022                0.000011   \nstd                0.589840       0.156193                0.003261   \nmin                0.000000       0.000000                0.000000   \n25%                0.000000       0.000000                0.000000   \n50%                0.000000       0.000000                0.000000   \n75%                0.000000       0.000000                0.000000   \nmax               62.000000       1.000000                1.000000   \n\n       MCA_times_grwy  Core_times_grwy  has_social_security_gzdf  \ncount   376186.000000    376186.000000             376186.000000  \nmean         0.000098         0.000080                  0.230958  \nstd          0.039770         0.040334                  0.421446  \nmin          0.000000         0.000000                  0.000000  \n25%          0.000000         0.000000                  0.000000  \n50%          0.000000         0.000000                  0.000000  \n75%          0.000000         0.000000                  0.000000  \nmax         21.000000        24.000000                  1.000000  ",
      "text/html": "<div>\n<style scoped>\n    .dataframe tbody tr th:only-of-type {\n        vertical-align: middle;\n    }\n\n    .dataframe tbody tr th {\n        vertical-align: top;\n    }\n\n    .dataframe thead th {\n        text-align: right;\n    }\n</style>\n<table border=\"1\" class=\"dataframe\">\n  <thead>\n    <tr style=\"text-align: right;\">\n      <th></th>\n      <th>djk_num</th>\n      <th>normal_djk_num</th>\n      <th>abnormal_djk_num</th>\n      <th>online_tran_duebill</th>\n      <th>offline_tran_duebill</th>\n      <th>has_car_etc</th>\n      <th>has_personal_bank_grwy</th>\n      <th>MCA_times_grwy</th>\n      <th>Core_times_grwy</th>\n      <th>has_social_security_gzdf</th>\n    </tr>\n  </thead>\n  <tbody>\n    <tr>\n      <th>count</th>\n      <td>376186.000000</td>\n      <td>376186.000000</td>\n      <td>376186.000000</td>\n      <td>376186.000000</td>\n      <td>376186.000000</td>\n      <td>376186.000000</td>\n      <td>376186.000000</td>\n      <td>376186.000000</td>\n      <td>376186.000000</td>\n      <td>376186.000000</td>\n    </tr>\n    <tr>\n      <th>mean</th>\n      <td>0.051358</td>\n      <td>0.029443</td>\n      <td>0.002103</td>\n      <td>0.245185</td>\n      <td>0.052304</td>\n      <td>0.025022</td>\n      <td>0.000011</td>\n      <td>0.000098</td>\n      <td>0.000080</td>\n      <td>0.230958</td>\n    </tr>\n    <tr>\n      <th>std</th>\n      <td>0.233359</td>\n      <td>0.170345</td>\n      <td>0.045807</td>\n      <td>3.990931</td>\n      <td>0.589840</td>\n      <td>0.156193</td>\n      <td>0.003261</td>\n      <td>0.039770</td>\n      <td>0.040334</td>\n      <td>0.421446</td>\n    </tr>\n    <tr>\n      <th>min</th>\n      <td>0.000000</td>\n      <td>0.000000</td>\n      <td>0.000000</td>\n      <td>0.000000</td>\n      <td>0.000000</td>\n      <td>0.000000</td>\n      <td>0.000000</td>\n      <td>0.000000</td>\n      <td>0.000000</td>\n      <td>0.000000</td>\n    </tr>\n    <tr>\n      <th>25%</th>\n      <td>0.000000</td>\n      <td>0.000000</td>\n      <td>0.000000</td>\n      <td>0.000000</td>\n      <td>0.000000</td>\n      <td>0.000000</td>\n      <td>0.000000</td>\n      <td>0.000000</td>\n      <td>0.000000</td>\n      <td>0.000000</td>\n    </tr>\n    <tr>\n      <th>50%</th>\n      <td>0.000000</td>\n      <td>0.000000</td>\n      <td>0.000000</td>\n      <td>0.000000</td>\n      <td>0.000000</td>\n      <td>0.000000</td>\n      <td>0.000000</td>\n      <td>0.000000</td>\n      <td>0.000000</td>\n      <td>0.000000</td>\n    </tr>\n    <tr>\n      <th>75%</th>\n      <td>0.000000</td>\n      <td>0.000000</td>\n      <td>0.000000</td>\n      <td>0.000000</td>\n      <td>0.000000</td>\n      <td>0.000000</td>\n      <td>0.000000</td>\n      <td>0.000000</td>\n      <td>0.000000</td>\n      <td>0.000000</td>\n    </tr>\n    <tr>\n      <th>max</th>\n      <td>7.000000</td>\n      <td>4.000000</td>\n      <td>1.000000</td>\n      <td>1471.000000</td>\n      <td>62.000000</td>\n      <td>1.000000</td>\n      <td>1.000000</td>\n      <td>21.000000</td>\n      <td>24.000000</td>\n      <td>1.000000</td>\n    </tr>\n  </tbody>\n</table>\n</div>"
     },
     "execution_count": 78,
     "metadata": {},
     "output_type": "execute_result"
    }
   ],
   "source": [
    "has_social_security_gzdf = \"\"\"select uid, 1 as has_social_security_gzdf from dm.dm_v_tr_gzdf_mx where is_secu_card = '1' group by uid order by uid;\n",
    "\"\"\"\n",
    "data = exec_eql_and_concat(data,has_social_security_gzdf,['uid','has_social_security_gzdf'],{'has_social_security_gzdf':0})\n",
    "data.describe()"
   ],
   "metadata": {
    "collapsed": false,
    "pycharm": {
     "name": "#%%\n"
    }
   }
  },
  {
   "cell_type": "code",
   "execution_count": 79,
   "outputs": [
    {
     "data": {
      "text/plain": "             djk_num  normal_djk_num  abnormal_djk_num  online_tran_duebill  \\\ncount  376186.000000   376186.000000     376186.000000        376186.000000   \nmean        0.051358        0.029443          0.002103             0.245185   \nstd         0.233359        0.170345          0.045807             3.990931   \nmin         0.000000        0.000000          0.000000             0.000000   \n25%         0.000000        0.000000          0.000000             0.000000   \n50%         0.000000        0.000000          0.000000             0.000000   \n75%         0.000000        0.000000          0.000000             0.000000   \nmax         7.000000        4.000000          1.000000          1471.000000   \n\n       offline_tran_duebill    has_car_etc  has_personal_bank_grwy  \\\ncount         376186.000000  376186.000000           376186.000000   \nmean               0.052304       0.025022                0.000011   \nstd                0.589840       0.156193                0.003261   \nmin                0.000000       0.000000                0.000000   \n25%                0.000000       0.000000                0.000000   \n50%                0.000000       0.000000                0.000000   \n75%                0.000000       0.000000                0.000000   \nmax               62.000000       1.000000                1.000000   \n\n       MCA_times_grwy  Core_times_grwy  has_social_security_gzdf  \ncount   376186.000000    376186.000000             376186.000000  \nmean         0.000098         0.000080                  0.230958  \nstd          0.039770         0.040334                  0.421446  \nmin          0.000000         0.000000                  0.000000  \n25%          0.000000         0.000000                  0.000000  \n50%          0.000000         0.000000                  0.000000  \n75%          0.000000         0.000000                  0.000000  \nmax         21.000000        24.000000                  1.000000  ",
      "text/html": "<div>\n<style scoped>\n    .dataframe tbody tr th:only-of-type {\n        vertical-align: middle;\n    }\n\n    .dataframe tbody tr th {\n        vertical-align: top;\n    }\n\n    .dataframe thead th {\n        text-align: right;\n    }\n</style>\n<table border=\"1\" class=\"dataframe\">\n  <thead>\n    <tr style=\"text-align: right;\">\n      <th></th>\n      <th>djk_num</th>\n      <th>normal_djk_num</th>\n      <th>abnormal_djk_num</th>\n      <th>online_tran_duebill</th>\n      <th>offline_tran_duebill</th>\n      <th>has_car_etc</th>\n      <th>has_personal_bank_grwy</th>\n      <th>MCA_times_grwy</th>\n      <th>Core_times_grwy</th>\n      <th>has_social_security_gzdf</th>\n    </tr>\n  </thead>\n  <tbody>\n    <tr>\n      <th>count</th>\n      <td>376186.000000</td>\n      <td>376186.000000</td>\n      <td>376186.000000</td>\n      <td>376186.000000</td>\n      <td>376186.000000</td>\n      <td>376186.000000</td>\n      <td>376186.000000</td>\n      <td>376186.000000</td>\n      <td>376186.000000</td>\n      <td>376186.000000</td>\n    </tr>\n    <tr>\n      <th>mean</th>\n      <td>0.051358</td>\n      <td>0.029443</td>\n      <td>0.002103</td>\n      <td>0.245185</td>\n      <td>0.052304</td>\n      <td>0.025022</td>\n      <td>0.000011</td>\n      <td>0.000098</td>\n      <td>0.000080</td>\n      <td>0.230958</td>\n    </tr>\n    <tr>\n      <th>std</th>\n      <td>0.233359</td>\n      <td>0.170345</td>\n      <td>0.045807</td>\n      <td>3.990931</td>\n      <td>0.589840</td>\n      <td>0.156193</td>\n      <td>0.003261</td>\n      <td>0.039770</td>\n      <td>0.040334</td>\n      <td>0.421446</td>\n    </tr>\n    <tr>\n      <th>min</th>\n      <td>0.000000</td>\n      <td>0.000000</td>\n      <td>0.000000</td>\n      <td>0.000000</td>\n      <td>0.000000</td>\n      <td>0.000000</td>\n      <td>0.000000</td>\n      <td>0.000000</td>\n      <td>0.000000</td>\n      <td>0.000000</td>\n    </tr>\n    <tr>\n      <th>25%</th>\n      <td>0.000000</td>\n      <td>0.000000</td>\n      <td>0.000000</td>\n      <td>0.000000</td>\n      <td>0.000000</td>\n      <td>0.000000</td>\n      <td>0.000000</td>\n      <td>0.000000</td>\n      <td>0.000000</td>\n      <td>0.000000</td>\n    </tr>\n    <tr>\n      <th>50%</th>\n      <td>0.000000</td>\n      <td>0.000000</td>\n      <td>0.000000</td>\n      <td>0.000000</td>\n      <td>0.000000</td>\n      <td>0.000000</td>\n      <td>0.000000</td>\n      <td>0.000000</td>\n      <td>0.000000</td>\n      <td>0.000000</td>\n    </tr>\n    <tr>\n      <th>75%</th>\n      <td>0.000000</td>\n      <td>0.000000</td>\n      <td>0.000000</td>\n      <td>0.000000</td>\n      <td>0.000000</td>\n      <td>0.000000</td>\n      <td>0.000000</td>\n      <td>0.000000</td>\n      <td>0.000000</td>\n      <td>0.000000</td>\n    </tr>\n    <tr>\n      <th>max</th>\n      <td>7.000000</td>\n      <td>4.000000</td>\n      <td>1.000000</td>\n      <td>1471.000000</td>\n      <td>62.000000</td>\n      <td>1.000000</td>\n      <td>1.000000</td>\n      <td>21.000000</td>\n      <td>24.000000</td>\n      <td>1.000000</td>\n    </tr>\n  </tbody>\n</table>\n</div>"
     },
     "execution_count": 79,
     "metadata": {},
     "output_type": "execute_result"
    }
   ],
   "source": [
    "bal_huanb = \"\"\"select uid, min(bal) as bal_huanb from dm.dm_v_tr_huanb_mx group by uid order by uid;\n",
    "\"\"\"\n",
    "data = exec_eql_and_concat(data,bal_huanb,['uid','bal_huanb'],{'bal_huanb':0})\n",
    "data.describe()"
   ],
   "metadata": {
    "collapsed": false,
    "pycharm": {
     "name": "#%%\n"
    }
   }
  },
  {
   "cell_type": "code",
   "execution_count": 80,
   "outputs": [
    {
     "data": {
      "text/plain": "             djk_num  normal_djk_num  abnormal_djk_num  online_tran_duebill  \\\ncount  376186.000000   376186.000000     376186.000000        376186.000000   \nmean        0.051358        0.029443          0.002103             0.245185   \nstd         0.233359        0.170345          0.045807             3.990931   \nmin         0.000000        0.000000          0.000000             0.000000   \n25%         0.000000        0.000000          0.000000             0.000000   \n50%         0.000000        0.000000          0.000000             0.000000   \n75%         0.000000        0.000000          0.000000             0.000000   \nmax         7.000000        4.000000          1.000000          1471.000000   \n\n       offline_tran_duebill    has_car_etc  has_personal_bank_grwy  \\\ncount         376186.000000  376186.000000           376186.000000   \nmean               0.052304       0.025022                0.000011   \nstd                0.589840       0.156193                0.003261   \nmin                0.000000       0.000000                0.000000   \n25%                0.000000       0.000000                0.000000   \n50%                0.000000       0.000000                0.000000   \n75%                0.000000       0.000000                0.000000   \nmax               62.000000       1.000000                1.000000   \n\n       MCA_times_grwy  Core_times_grwy  has_social_security_gzdf  \\\ncount   376186.000000    376186.000000             376186.000000   \nmean         0.000098         0.000080                  0.230958   \nstd          0.039770         0.040334                  0.421446   \nmin          0.000000         0.000000                  0.000000   \n25%          0.000000         0.000000                  0.000000   \n50%          0.000000         0.000000                  0.000000   \n75%          0.000000         0.000000                  0.000000   \nmax         21.000000        24.000000                  1.000000   \n\n       max_pay_times_huanb  \ncount        376186.000000  \nmean              0.425712  \nstd               5.428617  \nmin               0.000000  \n25%               0.000000  \n50%               0.000000  \n75%               0.000000  \nmax             175.000000  ",
      "text/html": "<div>\n<style scoped>\n    .dataframe tbody tr th:only-of-type {\n        vertical-align: middle;\n    }\n\n    .dataframe tbody tr th {\n        vertical-align: top;\n    }\n\n    .dataframe thead th {\n        text-align: right;\n    }\n</style>\n<table border=\"1\" class=\"dataframe\">\n  <thead>\n    <tr style=\"text-align: right;\">\n      <th></th>\n      <th>djk_num</th>\n      <th>normal_djk_num</th>\n      <th>abnormal_djk_num</th>\n      <th>online_tran_duebill</th>\n      <th>offline_tran_duebill</th>\n      <th>has_car_etc</th>\n      <th>has_personal_bank_grwy</th>\n      <th>MCA_times_grwy</th>\n      <th>Core_times_grwy</th>\n      <th>has_social_security_gzdf</th>\n      <th>max_pay_times_huanb</th>\n    </tr>\n  </thead>\n  <tbody>\n    <tr>\n      <th>count</th>\n      <td>376186.000000</td>\n      <td>376186.000000</td>\n      <td>376186.000000</td>\n      <td>376186.000000</td>\n      <td>376186.000000</td>\n      <td>376186.000000</td>\n      <td>376186.000000</td>\n      <td>376186.000000</td>\n      <td>376186.000000</td>\n      <td>376186.000000</td>\n      <td>376186.000000</td>\n    </tr>\n    <tr>\n      <th>mean</th>\n      <td>0.051358</td>\n      <td>0.029443</td>\n      <td>0.002103</td>\n      <td>0.245185</td>\n      <td>0.052304</td>\n      <td>0.025022</td>\n      <td>0.000011</td>\n      <td>0.000098</td>\n      <td>0.000080</td>\n      <td>0.230958</td>\n      <td>0.425712</td>\n    </tr>\n    <tr>\n      <th>std</th>\n      <td>0.233359</td>\n      <td>0.170345</td>\n      <td>0.045807</td>\n      <td>3.990931</td>\n      <td>0.589840</td>\n      <td>0.156193</td>\n      <td>0.003261</td>\n      <td>0.039770</td>\n      <td>0.040334</td>\n      <td>0.421446</td>\n      <td>5.428617</td>\n    </tr>\n    <tr>\n      <th>min</th>\n      <td>0.000000</td>\n      <td>0.000000</td>\n      <td>0.000000</td>\n      <td>0.000000</td>\n      <td>0.000000</td>\n      <td>0.000000</td>\n      <td>0.000000</td>\n      <td>0.000000</td>\n      <td>0.000000</td>\n      <td>0.000000</td>\n      <td>0.000000</td>\n    </tr>\n    <tr>\n      <th>25%</th>\n      <td>0.000000</td>\n      <td>0.000000</td>\n      <td>0.000000</td>\n      <td>0.000000</td>\n      <td>0.000000</td>\n      <td>0.000000</td>\n      <td>0.000000</td>\n      <td>0.000000</td>\n      <td>0.000000</td>\n      <td>0.000000</td>\n      <td>0.000000</td>\n    </tr>\n    <tr>\n      <th>50%</th>\n      <td>0.000000</td>\n      <td>0.000000</td>\n      <td>0.000000</td>\n      <td>0.000000</td>\n      <td>0.000000</td>\n      <td>0.000000</td>\n      <td>0.000000</td>\n      <td>0.000000</td>\n      <td>0.000000</td>\n      <td>0.000000</td>\n      <td>0.000000</td>\n    </tr>\n    <tr>\n      <th>75%</th>\n      <td>0.000000</td>\n      <td>0.000000</td>\n      <td>0.000000</td>\n      <td>0.000000</td>\n      <td>0.000000</td>\n      <td>0.000000</td>\n      <td>0.000000</td>\n      <td>0.000000</td>\n      <td>0.000000</td>\n      <td>0.000000</td>\n      <td>0.000000</td>\n    </tr>\n    <tr>\n      <th>max</th>\n      <td>7.000000</td>\n      <td>4.000000</td>\n      <td>1.000000</td>\n      <td>1471.000000</td>\n      <td>62.000000</td>\n      <td>1.000000</td>\n      <td>1.000000</td>\n      <td>21.000000</td>\n      <td>24.000000</td>\n      <td>1.000000</td>\n      <td>175.000000</td>\n    </tr>\n  </tbody>\n</table>\n</div>"
     },
     "execution_count": 80,
     "metadata": {},
     "output_type": "execute_result"
    }
   ],
   "source": [
    "max_pay_times_huanb_sql = \"\"\"select uid, max(pay_term) as max_pay_times_huanb from dm.dm_v_tr_huanb_mx group by uid order by uid;\n",
    "\"\"\"\n",
    "data = exec_eql_and_concat(data,max_pay_times_huanb_sql,['uid','max_pay_times_huanb'],{'max_pay_times_huanb':0})\n",
    "data.describe()"
   ],
   "metadata": {
    "collapsed": false,
    "pycharm": {
     "name": "#%%\n"
    }
   }
  },
  {
   "cell_type": "code",
   "execution_count": 81,
   "outputs": [
    {
     "data": {
      "text/plain": "             djk_num  normal_djk_num  abnormal_djk_num  online_tran_duebill  \\\ncount  376186.000000   376186.000000     376186.000000        376186.000000   \nmean        0.051358        0.029443          0.002103             0.245185   \nstd         0.233359        0.170345          0.045807             3.990931   \nmin         0.000000        0.000000          0.000000             0.000000   \n25%         0.000000        0.000000          0.000000             0.000000   \n50%         0.000000        0.000000          0.000000             0.000000   \n75%         0.000000        0.000000          0.000000             0.000000   \nmax         7.000000        4.000000          1.000000          1471.000000   \n\n       offline_tran_duebill    has_car_etc  has_personal_bank_grwy  \\\ncount         376186.000000  376186.000000           376186.000000   \nmean               0.052304       0.025022                0.000011   \nstd                0.589840       0.156193                0.003261   \nmin                0.000000       0.000000                0.000000   \n25%                0.000000       0.000000                0.000000   \n50%                0.000000       0.000000                0.000000   \n75%                0.000000       0.000000                0.000000   \nmax               62.000000       1.000000                1.000000   \n\n       MCA_times_grwy  Core_times_grwy  has_social_security_gzdf  \\\ncount   376186.000000    376186.000000             376186.000000   \nmean         0.000098         0.000080                  0.230958   \nstd          0.039770         0.040334                  0.421446   \nmin          0.000000         0.000000                  0.000000   \n25%          0.000000         0.000000                  0.000000   \n50%          0.000000         0.000000                  0.000000   \n75%          0.000000         0.000000                  0.000000   \nmax         21.000000        24.000000                  1.000000   \n\n       max_pay_times_huanb  tran_times_huanb  \ncount        376186.000000     376186.000000  \nmean              0.425712          0.347248  \nstd               5.428617          3.805687  \nmin               0.000000          0.000000  \n25%               0.000000          0.000000  \n50%               0.000000          0.000000  \n75%               0.000000          0.000000  \nmax             175.000000        825.000000  ",
      "text/html": "<div>\n<style scoped>\n    .dataframe tbody tr th:only-of-type {\n        vertical-align: middle;\n    }\n\n    .dataframe tbody tr th {\n        vertical-align: top;\n    }\n\n    .dataframe thead th {\n        text-align: right;\n    }\n</style>\n<table border=\"1\" class=\"dataframe\">\n  <thead>\n    <tr style=\"text-align: right;\">\n      <th></th>\n      <th>djk_num</th>\n      <th>normal_djk_num</th>\n      <th>abnormal_djk_num</th>\n      <th>online_tran_duebill</th>\n      <th>offline_tran_duebill</th>\n      <th>has_car_etc</th>\n      <th>has_personal_bank_grwy</th>\n      <th>MCA_times_grwy</th>\n      <th>Core_times_grwy</th>\n      <th>has_social_security_gzdf</th>\n      <th>max_pay_times_huanb</th>\n      <th>tran_times_huanb</th>\n    </tr>\n  </thead>\n  <tbody>\n    <tr>\n      <th>count</th>\n      <td>376186.000000</td>\n      <td>376186.000000</td>\n      <td>376186.000000</td>\n      <td>376186.000000</td>\n      <td>376186.000000</td>\n      <td>376186.000000</td>\n      <td>376186.000000</td>\n      <td>376186.000000</td>\n      <td>376186.000000</td>\n      <td>376186.000000</td>\n      <td>376186.000000</td>\n      <td>376186.000000</td>\n    </tr>\n    <tr>\n      <th>mean</th>\n      <td>0.051358</td>\n      <td>0.029443</td>\n      <td>0.002103</td>\n      <td>0.245185</td>\n      <td>0.052304</td>\n      <td>0.025022</td>\n      <td>0.000011</td>\n      <td>0.000098</td>\n      <td>0.000080</td>\n      <td>0.230958</td>\n      <td>0.425712</td>\n      <td>0.347248</td>\n    </tr>\n    <tr>\n      <th>std</th>\n      <td>0.233359</td>\n      <td>0.170345</td>\n      <td>0.045807</td>\n      <td>3.990931</td>\n      <td>0.589840</td>\n      <td>0.156193</td>\n      <td>0.003261</td>\n      <td>0.039770</td>\n      <td>0.040334</td>\n      <td>0.421446</td>\n      <td>5.428617</td>\n      <td>3.805687</td>\n    </tr>\n    <tr>\n      <th>min</th>\n      <td>0.000000</td>\n      <td>0.000000</td>\n      <td>0.000000</td>\n      <td>0.000000</td>\n      <td>0.000000</td>\n      <td>0.000000</td>\n      <td>0.000000</td>\n      <td>0.000000</td>\n      <td>0.000000</td>\n      <td>0.000000</td>\n      <td>0.000000</td>\n      <td>0.000000</td>\n    </tr>\n    <tr>\n      <th>25%</th>\n      <td>0.000000</td>\n      <td>0.000000</td>\n      <td>0.000000</td>\n      <td>0.000000</td>\n      <td>0.000000</td>\n      <td>0.000000</td>\n      <td>0.000000</td>\n      <td>0.000000</td>\n      <td>0.000000</td>\n      <td>0.000000</td>\n      <td>0.000000</td>\n      <td>0.000000</td>\n    </tr>\n    <tr>\n      <th>50%</th>\n      <td>0.000000</td>\n      <td>0.000000</td>\n      <td>0.000000</td>\n      <td>0.000000</td>\n      <td>0.000000</td>\n      <td>0.000000</td>\n      <td>0.000000</td>\n      <td>0.000000</td>\n      <td>0.000000</td>\n      <td>0.000000</td>\n      <td>0.000000</td>\n      <td>0.000000</td>\n    </tr>\n    <tr>\n      <th>75%</th>\n      <td>0.000000</td>\n      <td>0.000000</td>\n      <td>0.000000</td>\n      <td>0.000000</td>\n      <td>0.000000</td>\n      <td>0.000000</td>\n      <td>0.000000</td>\n      <td>0.000000</td>\n      <td>0.000000</td>\n      <td>0.000000</td>\n      <td>0.000000</td>\n      <td>0.000000</td>\n    </tr>\n    <tr>\n      <th>max</th>\n      <td>7.000000</td>\n      <td>4.000000</td>\n      <td>1.000000</td>\n      <td>1471.000000</td>\n      <td>62.000000</td>\n      <td>1.000000</td>\n      <td>1.000000</td>\n      <td>21.000000</td>\n      <td>24.000000</td>\n      <td>1.000000</td>\n      <td>175.000000</td>\n      <td>825.000000</td>\n    </tr>\n  </tbody>\n</table>\n</div>"
     },
     "execution_count": 81,
     "metadata": {},
     "output_type": "execute_result"
    }
   ],
   "source": [
    "tran_amt_huanb = \"\"\"select uid, sum(tran_amt) as tran_amt_huanb from dm.dm_v_tr_huanb_mx group by uid order by uid;\n",
    "\"\"\"\n",
    "data = exec_eql_and_concat(data,tran_amt_huanb,['uid','tran_amt_huanb'],{'tran_amt_huanb':0})\n",
    "data.describe()\n",
    "tran_times_huanb = \"\"\"select uid, count(*) as tran_times_huanb from dm.dm_v_tr_huanb_mx group by uid order by uid;\n",
    "\"\"\"\n",
    "data = exec_eql_and_concat(data,tran_times_huanb,['uid','tran_times_huanb'],{'tran_times_huanb':0})\n",
    "data.describe()"
   ],
   "metadata": {
    "collapsed": false,
    "pycharm": {
     "name": "#%%\n"
    }
   }
  },
  {
   "cell_type": "code",
   "execution_count": 82,
   "outputs": [
    {
     "data": {
      "text/plain": "             djk_num  normal_djk_num  abnormal_djk_num  online_tran_duebill  \\\ncount  376186.000000   376186.000000     376186.000000        376186.000000   \nmean        0.051358        0.029443          0.002103             0.245185   \nstd         0.233359        0.170345          0.045807             3.990931   \nmin         0.000000        0.000000          0.000000             0.000000   \n25%         0.000000        0.000000          0.000000             0.000000   \n50%         0.000000        0.000000          0.000000             0.000000   \n75%         0.000000        0.000000          0.000000             0.000000   \nmax         7.000000        4.000000          1.000000          1471.000000   \n\n       offline_tran_duebill    has_car_etc  has_personal_bank_grwy  \\\ncount         376186.000000  376186.000000           376186.000000   \nmean               0.052304       0.025022                0.000011   \nstd                0.589840       0.156193                0.003261   \nmin                0.000000       0.000000                0.000000   \n25%                0.000000       0.000000                0.000000   \n50%                0.000000       0.000000                0.000000   \n75%                0.000000       0.000000                0.000000   \nmax               62.000000       1.000000                1.000000   \n\n       MCA_times_grwy  Core_times_grwy  has_social_security_gzdf  \\\ncount   376186.000000    376186.000000             376186.000000   \nmean         0.000098         0.000080                  0.230958   \nstd          0.039770         0.040334                  0.421446   \nmin          0.000000         0.000000                  0.000000   \n25%          0.000000         0.000000                  0.000000   \n50%          0.000000         0.000000                  0.000000   \n75%          0.000000         0.000000                  0.000000   \nmax         21.000000        24.000000                  1.000000   \n\n       max_pay_times_huanb  tran_times_huanb  tran_times_duebill  \ncount        376186.000000     376186.000000       376186.000000  \nmean              0.425712          0.347248            0.393927  \nstd               5.428617          3.805687            4.319643  \nmin               0.000000          0.000000            0.000000  \n25%               0.000000          0.000000            0.000000  \n50%               0.000000          0.000000            0.000000  \n75%               0.000000          0.000000            0.000000  \nmax             175.000000        825.000000         1471.000000  ",
      "text/html": "<div>\n<style scoped>\n    .dataframe tbody tr th:only-of-type {\n        vertical-align: middle;\n    }\n\n    .dataframe tbody tr th {\n        vertical-align: top;\n    }\n\n    .dataframe thead th {\n        text-align: right;\n    }\n</style>\n<table border=\"1\" class=\"dataframe\">\n  <thead>\n    <tr style=\"text-align: right;\">\n      <th></th>\n      <th>djk_num</th>\n      <th>normal_djk_num</th>\n      <th>abnormal_djk_num</th>\n      <th>online_tran_duebill</th>\n      <th>offline_tran_duebill</th>\n      <th>has_car_etc</th>\n      <th>has_personal_bank_grwy</th>\n      <th>MCA_times_grwy</th>\n      <th>Core_times_grwy</th>\n      <th>has_social_security_gzdf</th>\n      <th>max_pay_times_huanb</th>\n      <th>tran_times_huanb</th>\n      <th>tran_times_duebill</th>\n    </tr>\n  </thead>\n  <tbody>\n    <tr>\n      <th>count</th>\n      <td>376186.000000</td>\n      <td>376186.000000</td>\n      <td>376186.000000</td>\n      <td>376186.000000</td>\n      <td>376186.000000</td>\n      <td>376186.000000</td>\n      <td>376186.000000</td>\n      <td>376186.000000</td>\n      <td>376186.000000</td>\n      <td>376186.000000</td>\n      <td>376186.000000</td>\n      <td>376186.000000</td>\n      <td>376186.000000</td>\n    </tr>\n    <tr>\n      <th>mean</th>\n      <td>0.051358</td>\n      <td>0.029443</td>\n      <td>0.002103</td>\n      <td>0.245185</td>\n      <td>0.052304</td>\n      <td>0.025022</td>\n      <td>0.000011</td>\n      <td>0.000098</td>\n      <td>0.000080</td>\n      <td>0.230958</td>\n      <td>0.425712</td>\n      <td>0.347248</td>\n      <td>0.393927</td>\n    </tr>\n    <tr>\n      <th>std</th>\n      <td>0.233359</td>\n      <td>0.170345</td>\n      <td>0.045807</td>\n      <td>3.990931</td>\n      <td>0.589840</td>\n      <td>0.156193</td>\n      <td>0.003261</td>\n      <td>0.039770</td>\n      <td>0.040334</td>\n      <td>0.421446</td>\n      <td>5.428617</td>\n      <td>3.805687</td>\n      <td>4.319643</td>\n    </tr>\n    <tr>\n      <th>min</th>\n      <td>0.000000</td>\n      <td>0.000000</td>\n      <td>0.000000</td>\n      <td>0.000000</td>\n      <td>0.000000</td>\n      <td>0.000000</td>\n      <td>0.000000</td>\n      <td>0.000000</td>\n      <td>0.000000</td>\n      <td>0.000000</td>\n      <td>0.000000</td>\n      <td>0.000000</td>\n      <td>0.000000</td>\n    </tr>\n    <tr>\n      <th>25%</th>\n      <td>0.000000</td>\n      <td>0.000000</td>\n      <td>0.000000</td>\n      <td>0.000000</td>\n      <td>0.000000</td>\n      <td>0.000000</td>\n      <td>0.000000</td>\n      <td>0.000000</td>\n      <td>0.000000</td>\n      <td>0.000000</td>\n      <td>0.000000</td>\n      <td>0.000000</td>\n      <td>0.000000</td>\n    </tr>\n    <tr>\n      <th>50%</th>\n      <td>0.000000</td>\n      <td>0.000000</td>\n      <td>0.000000</td>\n      <td>0.000000</td>\n      <td>0.000000</td>\n      <td>0.000000</td>\n      <td>0.000000</td>\n      <td>0.000000</td>\n      <td>0.000000</td>\n      <td>0.000000</td>\n      <td>0.000000</td>\n      <td>0.000000</td>\n      <td>0.000000</td>\n    </tr>\n    <tr>\n      <th>75%</th>\n      <td>0.000000</td>\n      <td>0.000000</td>\n      <td>0.000000</td>\n      <td>0.000000</td>\n      <td>0.000000</td>\n      <td>0.000000</td>\n      <td>0.000000</td>\n      <td>0.000000</td>\n      <td>0.000000</td>\n      <td>0.000000</td>\n      <td>0.000000</td>\n      <td>0.000000</td>\n      <td>0.000000</td>\n    </tr>\n    <tr>\n      <th>max</th>\n      <td>7.000000</td>\n      <td>4.000000</td>\n      <td>1.000000</td>\n      <td>1471.000000</td>\n      <td>62.000000</td>\n      <td>1.000000</td>\n      <td>1.000000</td>\n      <td>21.000000</td>\n      <td>24.000000</td>\n      <td>1.000000</td>\n      <td>175.000000</td>\n      <td>825.000000</td>\n      <td>1471.000000</td>\n    </tr>\n  </tbody>\n</table>\n</div>"
     },
     "execution_count": 82,
     "metadata": {},
     "output_type": "execute_result"
    }
   ],
   "source": [
    "tran_amt_duebill = \"\"\"select uid, sum(buss_amt) as tran_amt_duebill from dm.dm_v_tr_duebill_mx group by uid order by uid;\n",
    "\"\"\"\n",
    "data = exec_eql_and_concat(data,tran_amt_duebill,['uid','tran_amt_duebill'],{'tran_amt_duebill':0})\n",
    "tran_times_duebill = \"\"\"select uid, count(*) as tran_times_duebill from dm.dm_v_tr_duebill_mx group by uid order by uid;\n",
    "\"\"\"\n",
    "data = exec_eql_and_concat(data,tran_times_duebill,['uid','tran_times_duebill'],{'tran_times_duebill':0})\n",
    "data.describe()"
   ],
   "metadata": {
    "collapsed": false,
    "pycharm": {
     "name": "#%%\n"
    }
   }
  },
  {
   "cell_type": "code",
   "execution_count": 83,
   "outputs": [
    {
     "data": {
      "text/plain": "             djk_num  normal_djk_num  abnormal_djk_num  online_tran_duebill  \\\ncount  376186.000000   376186.000000     376186.000000        376186.000000   \nmean        0.051358        0.029443          0.002103             0.245185   \nstd         0.233359        0.170345          0.045807             3.990931   \nmin         0.000000        0.000000          0.000000             0.000000   \n25%         0.000000        0.000000          0.000000             0.000000   \n50%         0.000000        0.000000          0.000000             0.000000   \n75%         0.000000        0.000000          0.000000             0.000000   \nmax         7.000000        4.000000          1.000000          1471.000000   \n\n       offline_tran_duebill    has_car_etc  has_personal_bank_grwy  \\\ncount         376186.000000  376186.000000           376186.000000   \nmean               0.052304       0.025022                0.000011   \nstd                0.589840       0.156193                0.003261   \nmin                0.000000       0.000000                0.000000   \n25%                0.000000       0.000000                0.000000   \n50%                0.000000       0.000000                0.000000   \n75%                0.000000       0.000000                0.000000   \nmax               62.000000       1.000000                1.000000   \n\n       MCA_times_grwy  Core_times_grwy  has_social_security_gzdf  \\\ncount   376186.000000    376186.000000             376186.000000   \nmean         0.000098         0.000080                  0.230958   \nstd          0.039770         0.040334                  0.421446   \nmin          0.000000         0.000000                  0.000000   \n25%          0.000000         0.000000                  0.000000   \n50%          0.000000         0.000000                  0.000000   \n75%          0.000000         0.000000                  0.000000   \nmax         21.000000        24.000000                  1.000000   \n\n       max_pay_times_huanb  tran_times_huanb  tran_times_duebill  \\\ncount        376186.000000     376186.000000       376186.000000   \nmean              0.425712          0.347248            0.393927   \nstd               5.428617          3.805687            4.319643   \nmin               0.000000          0.000000            0.000000   \n25%               0.000000          0.000000            0.000000   \n50%               0.000000          0.000000            0.000000   \n75%               0.000000          0.000000            0.000000   \nmax             175.000000        825.000000         1471.000000   \n\n       tran_times_etc  \ncount   376186.000000  \nmean         0.978245  \nstd         34.949180  \nmin          0.000000  \n25%          0.000000  \n50%          0.000000  \n75%          0.000000  \nmax      17384.000000  ",
      "text/html": "<div>\n<style scoped>\n    .dataframe tbody tr th:only-of-type {\n        vertical-align: middle;\n    }\n\n    .dataframe tbody tr th {\n        vertical-align: top;\n    }\n\n    .dataframe thead th {\n        text-align: right;\n    }\n</style>\n<table border=\"1\" class=\"dataframe\">\n  <thead>\n    <tr style=\"text-align: right;\">\n      <th></th>\n      <th>djk_num</th>\n      <th>normal_djk_num</th>\n      <th>abnormal_djk_num</th>\n      <th>online_tran_duebill</th>\n      <th>offline_tran_duebill</th>\n      <th>has_car_etc</th>\n      <th>has_personal_bank_grwy</th>\n      <th>MCA_times_grwy</th>\n      <th>Core_times_grwy</th>\n      <th>has_social_security_gzdf</th>\n      <th>max_pay_times_huanb</th>\n      <th>tran_times_huanb</th>\n      <th>tran_times_duebill</th>\n      <th>tran_times_etc</th>\n    </tr>\n  </thead>\n  <tbody>\n    <tr>\n      <th>count</th>\n      <td>376186.000000</td>\n      <td>376186.000000</td>\n      <td>376186.000000</td>\n      <td>376186.000000</td>\n      <td>376186.000000</td>\n      <td>376186.000000</td>\n      <td>376186.000000</td>\n      <td>376186.000000</td>\n      <td>376186.000000</td>\n      <td>376186.000000</td>\n      <td>376186.000000</td>\n      <td>376186.000000</td>\n      <td>376186.000000</td>\n      <td>376186.000000</td>\n    </tr>\n    <tr>\n      <th>mean</th>\n      <td>0.051358</td>\n      <td>0.029443</td>\n      <td>0.002103</td>\n      <td>0.245185</td>\n      <td>0.052304</td>\n      <td>0.025022</td>\n      <td>0.000011</td>\n      <td>0.000098</td>\n      <td>0.000080</td>\n      <td>0.230958</td>\n      <td>0.425712</td>\n      <td>0.347248</td>\n      <td>0.393927</td>\n      <td>0.978245</td>\n    </tr>\n    <tr>\n      <th>std</th>\n      <td>0.233359</td>\n      <td>0.170345</td>\n      <td>0.045807</td>\n      <td>3.990931</td>\n      <td>0.589840</td>\n      <td>0.156193</td>\n      <td>0.003261</td>\n      <td>0.039770</td>\n      <td>0.040334</td>\n      <td>0.421446</td>\n      <td>5.428617</td>\n      <td>3.805687</td>\n      <td>4.319643</td>\n      <td>34.949180</td>\n    </tr>\n    <tr>\n      <th>min</th>\n      <td>0.000000</td>\n      <td>0.000000</td>\n      <td>0.000000</td>\n      <td>0.000000</td>\n      <td>0.000000</td>\n      <td>0.000000</td>\n      <td>0.000000</td>\n      <td>0.000000</td>\n      <td>0.000000</td>\n      <td>0.000000</td>\n      <td>0.000000</td>\n      <td>0.000000</td>\n      <td>0.000000</td>\n      <td>0.000000</td>\n    </tr>\n    <tr>\n      <th>25%</th>\n      <td>0.000000</td>\n      <td>0.000000</td>\n      <td>0.000000</td>\n      <td>0.000000</td>\n      <td>0.000000</td>\n      <td>0.000000</td>\n      <td>0.000000</td>\n      <td>0.000000</td>\n      <td>0.000000</td>\n      <td>0.000000</td>\n      <td>0.000000</td>\n      <td>0.000000</td>\n      <td>0.000000</td>\n      <td>0.000000</td>\n    </tr>\n    <tr>\n      <th>50%</th>\n      <td>0.000000</td>\n      <td>0.000000</td>\n      <td>0.000000</td>\n      <td>0.000000</td>\n      <td>0.000000</td>\n      <td>0.000000</td>\n      <td>0.000000</td>\n      <td>0.000000</td>\n      <td>0.000000</td>\n      <td>0.000000</td>\n      <td>0.000000</td>\n      <td>0.000000</td>\n      <td>0.000000</td>\n      <td>0.000000</td>\n    </tr>\n    <tr>\n      <th>75%</th>\n      <td>0.000000</td>\n      <td>0.000000</td>\n      <td>0.000000</td>\n      <td>0.000000</td>\n      <td>0.000000</td>\n      <td>0.000000</td>\n      <td>0.000000</td>\n      <td>0.000000</td>\n      <td>0.000000</td>\n      <td>0.000000</td>\n      <td>0.000000</td>\n      <td>0.000000</td>\n      <td>0.000000</td>\n      <td>0.000000</td>\n    </tr>\n    <tr>\n      <th>max</th>\n      <td>7.000000</td>\n      <td>4.000000</td>\n      <td>1.000000</td>\n      <td>1471.000000</td>\n      <td>62.000000</td>\n      <td>1.000000</td>\n      <td>1.000000</td>\n      <td>21.000000</td>\n      <td>24.000000</td>\n      <td>1.000000</td>\n      <td>175.000000</td>\n      <td>825.000000</td>\n      <td>1471.000000</td>\n      <td>17384.000000</td>\n    </tr>\n  </tbody>\n</table>\n</div>"
     },
     "execution_count": 83,
     "metadata": {},
     "output_type": "execute_result"
    }
   ],
   "source": [
    "tran_amt_etc = \"\"\"select uid, sum(tran_amt_fen) as tran_amt_etc from dm.dm_v_tr_etc_mx group by uid order by uid;\n",
    "\"\"\"\n",
    "data = exec_eql_and_concat(data,tran_amt_etc,['uid','tran_amt_etc'],{'tran_amt_etc':0})\n",
    "tran_times_etc = \"\"\"select uid, count(*) as tran_times_etc from dm.dm_v_tr_etc_mx group by uid order by uid;\n",
    "\"\"\"\n",
    "data = exec_eql_and_concat(data,tran_times_etc,['uid','tran_times_etc'],{'tran_times_etc':0})\n",
    "data.describe()"
   ],
   "metadata": {
    "collapsed": false,
    "pycharm": {
     "name": "#%%\n"
    }
   }
  },
  {
   "cell_type": "code",
   "execution_count": 84,
   "outputs": [
    {
     "data": {
      "text/plain": "             djk_num  normal_djk_num  abnormal_djk_num  online_tran_duebill  \\\ncount  376186.000000   376186.000000     376186.000000        376186.000000   \nmean        0.051358        0.029443          0.002103             0.245185   \nstd         0.233359        0.170345          0.045807             3.990931   \nmin         0.000000        0.000000          0.000000             0.000000   \n25%         0.000000        0.000000          0.000000             0.000000   \n50%         0.000000        0.000000          0.000000             0.000000   \n75%         0.000000        0.000000          0.000000             0.000000   \nmax         7.000000        4.000000          1.000000          1471.000000   \n\n       offline_tran_duebill    has_car_etc  has_personal_bank_grwy  \\\ncount         376186.000000  376186.000000           376186.000000   \nmean               0.052304       0.025022                0.000011   \nstd                0.589840       0.156193                0.003261   \nmin                0.000000       0.000000                0.000000   \n25%                0.000000       0.000000                0.000000   \n50%                0.000000       0.000000                0.000000   \n75%                0.000000       0.000000                0.000000   \nmax               62.000000       1.000000                1.000000   \n\n       MCA_times_grwy  Core_times_grwy  has_social_security_gzdf  \\\ncount   376186.000000    376186.000000             376186.000000   \nmean         0.000098         0.000080                  0.230958   \nstd          0.039770         0.040334                  0.421446   \nmin          0.000000         0.000000                  0.000000   \n25%          0.000000         0.000000                  0.000000   \n50%          0.000000         0.000000                  0.000000   \n75%          0.000000         0.000000                  0.000000   \nmax         21.000000        24.000000                  1.000000   \n\n       max_pay_times_huanb  tran_times_huanb  tran_times_duebill  \\\ncount        376186.000000     376186.000000       376186.000000   \nmean              0.425712          0.347248            0.393927   \nstd               5.428617          3.805687            4.319643   \nmin               0.000000          0.000000            0.000000   \n25%               0.000000          0.000000            0.000000   \n50%               0.000000          0.000000            0.000000   \n75%               0.000000          0.000000            0.000000   \nmax             175.000000        825.000000         1471.000000   \n\n       tran_times_etc  tran_times_grwy  \ncount   376186.000000    376186.000000  \nmean         0.978245         0.000178  \nstd         34.949180         0.073550  \nmin          0.000000         0.000000  \n25%          0.000000         0.000000  \n50%          0.000000         0.000000  \n75%          0.000000         0.000000  \nmax      17384.000000        36.000000  ",
      "text/html": "<div>\n<style scoped>\n    .dataframe tbody tr th:only-of-type {\n        vertical-align: middle;\n    }\n\n    .dataframe tbody tr th {\n        vertical-align: top;\n    }\n\n    .dataframe thead th {\n        text-align: right;\n    }\n</style>\n<table border=\"1\" class=\"dataframe\">\n  <thead>\n    <tr style=\"text-align: right;\">\n      <th></th>\n      <th>djk_num</th>\n      <th>normal_djk_num</th>\n      <th>abnormal_djk_num</th>\n      <th>online_tran_duebill</th>\n      <th>offline_tran_duebill</th>\n      <th>has_car_etc</th>\n      <th>has_personal_bank_grwy</th>\n      <th>MCA_times_grwy</th>\n      <th>Core_times_grwy</th>\n      <th>has_social_security_gzdf</th>\n      <th>max_pay_times_huanb</th>\n      <th>tran_times_huanb</th>\n      <th>tran_times_duebill</th>\n      <th>tran_times_etc</th>\n      <th>tran_times_grwy</th>\n    </tr>\n  </thead>\n  <tbody>\n    <tr>\n      <th>count</th>\n      <td>376186.000000</td>\n      <td>376186.000000</td>\n      <td>376186.000000</td>\n      <td>376186.000000</td>\n      <td>376186.000000</td>\n      <td>376186.000000</td>\n      <td>376186.000000</td>\n      <td>376186.000000</td>\n      <td>376186.000000</td>\n      <td>376186.000000</td>\n      <td>376186.000000</td>\n      <td>376186.000000</td>\n      <td>376186.000000</td>\n      <td>376186.000000</td>\n      <td>376186.000000</td>\n    </tr>\n    <tr>\n      <th>mean</th>\n      <td>0.051358</td>\n      <td>0.029443</td>\n      <td>0.002103</td>\n      <td>0.245185</td>\n      <td>0.052304</td>\n      <td>0.025022</td>\n      <td>0.000011</td>\n      <td>0.000098</td>\n      <td>0.000080</td>\n      <td>0.230958</td>\n      <td>0.425712</td>\n      <td>0.347248</td>\n      <td>0.393927</td>\n      <td>0.978245</td>\n      <td>0.000178</td>\n    </tr>\n    <tr>\n      <th>std</th>\n      <td>0.233359</td>\n      <td>0.170345</td>\n      <td>0.045807</td>\n      <td>3.990931</td>\n      <td>0.589840</td>\n      <td>0.156193</td>\n      <td>0.003261</td>\n      <td>0.039770</td>\n      <td>0.040334</td>\n      <td>0.421446</td>\n      <td>5.428617</td>\n      <td>3.805687</td>\n      <td>4.319643</td>\n      <td>34.949180</td>\n      <td>0.073550</td>\n    </tr>\n    <tr>\n      <th>min</th>\n      <td>0.000000</td>\n      <td>0.000000</td>\n      <td>0.000000</td>\n      <td>0.000000</td>\n      <td>0.000000</td>\n      <td>0.000000</td>\n      <td>0.000000</td>\n      <td>0.000000</td>\n      <td>0.000000</td>\n      <td>0.000000</td>\n      <td>0.000000</td>\n      <td>0.000000</td>\n      <td>0.000000</td>\n      <td>0.000000</td>\n      <td>0.000000</td>\n    </tr>\n    <tr>\n      <th>25%</th>\n      <td>0.000000</td>\n      <td>0.000000</td>\n      <td>0.000000</td>\n      <td>0.000000</td>\n      <td>0.000000</td>\n      <td>0.000000</td>\n      <td>0.000000</td>\n      <td>0.000000</td>\n      <td>0.000000</td>\n      <td>0.000000</td>\n      <td>0.000000</td>\n      <td>0.000000</td>\n      <td>0.000000</td>\n      <td>0.000000</td>\n      <td>0.000000</td>\n    </tr>\n    <tr>\n      <th>50%</th>\n      <td>0.000000</td>\n      <td>0.000000</td>\n      <td>0.000000</td>\n      <td>0.000000</td>\n      <td>0.000000</td>\n      <td>0.000000</td>\n      <td>0.000000</td>\n      <td>0.000000</td>\n      <td>0.000000</td>\n      <td>0.000000</td>\n      <td>0.000000</td>\n      <td>0.000000</td>\n      <td>0.000000</td>\n      <td>0.000000</td>\n      <td>0.000000</td>\n    </tr>\n    <tr>\n      <th>75%</th>\n      <td>0.000000</td>\n      <td>0.000000</td>\n      <td>0.000000</td>\n      <td>0.000000</td>\n      <td>0.000000</td>\n      <td>0.000000</td>\n      <td>0.000000</td>\n      <td>0.000000</td>\n      <td>0.000000</td>\n      <td>0.000000</td>\n      <td>0.000000</td>\n      <td>0.000000</td>\n      <td>0.000000</td>\n      <td>0.000000</td>\n      <td>0.000000</td>\n    </tr>\n    <tr>\n      <th>max</th>\n      <td>7.000000</td>\n      <td>4.000000</td>\n      <td>1.000000</td>\n      <td>1471.000000</td>\n      <td>62.000000</td>\n      <td>1.000000</td>\n      <td>1.000000</td>\n      <td>21.000000</td>\n      <td>24.000000</td>\n      <td>1.000000</td>\n      <td>175.000000</td>\n      <td>825.000000</td>\n      <td>1471.000000</td>\n      <td>17384.000000</td>\n      <td>36.000000</td>\n    </tr>\n  </tbody>\n</table>\n</div>"
     },
     "execution_count": 84,
     "metadata": {},
     "output_type": "execute_result"
    }
   ],
   "source": [
    "tran_amt_grwy = \"\"\"select uid, sum(tran_amt) as tran_amt_grwy from dm.dm_v_tr_grwy_mx group by uid order by uid;\n",
    "\"\"\"\n",
    "data = exec_eql_and_concat(data,tran_amt_grwy,['uid','tran_amt_grwy'],{'tran_amt_grwy':0})\n",
    "tran_times_grwy = \"\"\"select uid, count(*) as tran_times_grwy from dm.dm_v_tr_grwy_mx group by uid order by uid;\n",
    "\"\"\"\n",
    "data = exec_eql_and_concat(data,tran_times_grwy,['uid','tran_times_grwy'],{'tran_times_grwy':0})\n",
    "data.describe()"
   ],
   "metadata": {
    "collapsed": false,
    "pycharm": {
     "name": "#%%\n"
    }
   }
  },
  {
   "cell_type": "code",
   "execution_count": 85,
   "outputs": [
    {
     "data": {
      "text/plain": "             djk_num  normal_djk_num  abnormal_djk_num  online_tran_duebill  \\\ncount  376186.000000   376186.000000     376186.000000        376186.000000   \nmean        0.051358        0.029443          0.002103             0.245185   \nstd         0.233359        0.170345          0.045807             3.990931   \nmin         0.000000        0.000000          0.000000             0.000000   \n25%         0.000000        0.000000          0.000000             0.000000   \n50%         0.000000        0.000000          0.000000             0.000000   \n75%         0.000000        0.000000          0.000000             0.000000   \nmax         7.000000        4.000000          1.000000          1471.000000   \n\n       offline_tran_duebill    has_car_etc  has_personal_bank_grwy  \\\ncount         376186.000000  376186.000000           376186.000000   \nmean               0.052304       0.025022                0.000011   \nstd                0.589840       0.156193                0.003261   \nmin                0.000000       0.000000                0.000000   \n25%                0.000000       0.000000                0.000000   \n50%                0.000000       0.000000                0.000000   \n75%                0.000000       0.000000                0.000000   \nmax               62.000000       1.000000                1.000000   \n\n       MCA_times_grwy  Core_times_grwy  has_social_security_gzdf  \\\ncount   376186.000000    376186.000000             376186.000000   \nmean         0.000098         0.000080                  0.230958   \nstd          0.039770         0.040334                  0.421446   \nmin          0.000000         0.000000                  0.000000   \n25%          0.000000         0.000000                  0.000000   \n50%          0.000000         0.000000                  0.000000   \n75%          0.000000         0.000000                  0.000000   \nmax         21.000000        24.000000                  1.000000   \n\n       max_pay_times_huanb  tran_times_huanb  tran_times_duebill  \\\ncount        376186.000000     376186.000000       376186.000000   \nmean              0.425712          0.347248            0.393927   \nstd               5.428617          3.805687            4.319643   \nmin               0.000000          0.000000            0.000000   \n25%               0.000000          0.000000            0.000000   \n50%               0.000000          0.000000            0.000000   \n75%               0.000000          0.000000            0.000000   \nmax             175.000000        825.000000         1471.000000   \n\n       tran_times_etc  tran_times_grwy  tran_times_gzdf  \ncount   376186.000000    376186.000000    376186.000000  \nmean         0.978245         0.000178         1.554359  \nstd         34.949180         0.073550         4.542923  \nmin          0.000000         0.000000         0.000000  \n25%          0.000000         0.000000         0.000000  \n50%          0.000000         0.000000         0.000000  \n75%          0.000000         0.000000         1.000000  \nmax      17384.000000        36.000000       424.000000  ",
      "text/html": "<div>\n<style scoped>\n    .dataframe tbody tr th:only-of-type {\n        vertical-align: middle;\n    }\n\n    .dataframe tbody tr th {\n        vertical-align: top;\n    }\n\n    .dataframe thead th {\n        text-align: right;\n    }\n</style>\n<table border=\"1\" class=\"dataframe\">\n  <thead>\n    <tr style=\"text-align: right;\">\n      <th></th>\n      <th>djk_num</th>\n      <th>normal_djk_num</th>\n      <th>abnormal_djk_num</th>\n      <th>online_tran_duebill</th>\n      <th>offline_tran_duebill</th>\n      <th>has_car_etc</th>\n      <th>has_personal_bank_grwy</th>\n      <th>MCA_times_grwy</th>\n      <th>Core_times_grwy</th>\n      <th>has_social_security_gzdf</th>\n      <th>max_pay_times_huanb</th>\n      <th>tran_times_huanb</th>\n      <th>tran_times_duebill</th>\n      <th>tran_times_etc</th>\n      <th>tran_times_grwy</th>\n      <th>tran_times_gzdf</th>\n    </tr>\n  </thead>\n  <tbody>\n    <tr>\n      <th>count</th>\n      <td>376186.000000</td>\n      <td>376186.000000</td>\n      <td>376186.000000</td>\n      <td>376186.000000</td>\n      <td>376186.000000</td>\n      <td>376186.000000</td>\n      <td>376186.000000</td>\n      <td>376186.000000</td>\n      <td>376186.000000</td>\n      <td>376186.000000</td>\n      <td>376186.000000</td>\n      <td>376186.000000</td>\n      <td>376186.000000</td>\n      <td>376186.000000</td>\n      <td>376186.000000</td>\n      <td>376186.000000</td>\n    </tr>\n    <tr>\n      <th>mean</th>\n      <td>0.051358</td>\n      <td>0.029443</td>\n      <td>0.002103</td>\n      <td>0.245185</td>\n      <td>0.052304</td>\n      <td>0.025022</td>\n      <td>0.000011</td>\n      <td>0.000098</td>\n      <td>0.000080</td>\n      <td>0.230958</td>\n      <td>0.425712</td>\n      <td>0.347248</td>\n      <td>0.393927</td>\n      <td>0.978245</td>\n      <td>0.000178</td>\n      <td>1.554359</td>\n    </tr>\n    <tr>\n      <th>std</th>\n      <td>0.233359</td>\n      <td>0.170345</td>\n      <td>0.045807</td>\n      <td>3.990931</td>\n      <td>0.589840</td>\n      <td>0.156193</td>\n      <td>0.003261</td>\n      <td>0.039770</td>\n      <td>0.040334</td>\n      <td>0.421446</td>\n      <td>5.428617</td>\n      <td>3.805687</td>\n      <td>4.319643</td>\n      <td>34.949180</td>\n      <td>0.073550</td>\n      <td>4.542923</td>\n    </tr>\n    <tr>\n      <th>min</th>\n      <td>0.000000</td>\n      <td>0.000000</td>\n      <td>0.000000</td>\n      <td>0.000000</td>\n      <td>0.000000</td>\n      <td>0.000000</td>\n      <td>0.000000</td>\n      <td>0.000000</td>\n      <td>0.000000</td>\n      <td>0.000000</td>\n      <td>0.000000</td>\n      <td>0.000000</td>\n      <td>0.000000</td>\n      <td>0.000000</td>\n      <td>0.000000</td>\n      <td>0.000000</td>\n    </tr>\n    <tr>\n      <th>25%</th>\n      <td>0.000000</td>\n      <td>0.000000</td>\n      <td>0.000000</td>\n      <td>0.000000</td>\n      <td>0.000000</td>\n      <td>0.000000</td>\n      <td>0.000000</td>\n      <td>0.000000</td>\n      <td>0.000000</td>\n      <td>0.000000</td>\n      <td>0.000000</td>\n      <td>0.000000</td>\n      <td>0.000000</td>\n      <td>0.000000</td>\n      <td>0.000000</td>\n      <td>0.000000</td>\n    </tr>\n    <tr>\n      <th>50%</th>\n      <td>0.000000</td>\n      <td>0.000000</td>\n      <td>0.000000</td>\n      <td>0.000000</td>\n      <td>0.000000</td>\n      <td>0.000000</td>\n      <td>0.000000</td>\n      <td>0.000000</td>\n      <td>0.000000</td>\n      <td>0.000000</td>\n      <td>0.000000</td>\n      <td>0.000000</td>\n      <td>0.000000</td>\n      <td>0.000000</td>\n      <td>0.000000</td>\n      <td>0.000000</td>\n    </tr>\n    <tr>\n      <th>75%</th>\n      <td>0.000000</td>\n      <td>0.000000</td>\n      <td>0.000000</td>\n      <td>0.000000</td>\n      <td>0.000000</td>\n      <td>0.000000</td>\n      <td>0.000000</td>\n      <td>0.000000</td>\n      <td>0.000000</td>\n      <td>0.000000</td>\n      <td>0.000000</td>\n      <td>0.000000</td>\n      <td>0.000000</td>\n      <td>0.000000</td>\n      <td>0.000000</td>\n      <td>1.000000</td>\n    </tr>\n    <tr>\n      <th>max</th>\n      <td>7.000000</td>\n      <td>4.000000</td>\n      <td>1.000000</td>\n      <td>1471.000000</td>\n      <td>62.000000</td>\n      <td>1.000000</td>\n      <td>1.000000</td>\n      <td>21.000000</td>\n      <td>24.000000</td>\n      <td>1.000000</td>\n      <td>175.000000</td>\n      <td>825.000000</td>\n      <td>1471.000000</td>\n      <td>17384.000000</td>\n      <td>36.000000</td>\n      <td>424.000000</td>\n    </tr>\n  </tbody>\n</table>\n</div>"
     },
     "execution_count": 85,
     "metadata": {},
     "output_type": "execute_result"
    }
   ],
   "source": [
    "tran_amt_gzdf = \"\"\"select uid, sum(tran_amt) as tran_amt_gzdf from dm.dm_v_tr_gzdf_mx group by uid order by uid;\n",
    "\"\"\"\n",
    "data = exec_eql_and_concat(data,tran_amt_gzdf,['uid','tran_amt_gzdf'],{'tran_amt_gzdf':0.0})\n",
    "tran_times_gzdf = \"\"\"select uid, count(*) as tran_times_gzdf from dm.dm_v_tr_gzdf_mx group by uid order by uid;\n",
    "\"\"\"\n",
    "data = exec_eql_and_concat(data,tran_times_gzdf,['uid','tran_times_gzdf'],{'tran_times_gzdf':0})\n",
    "data.describe()"
   ],
   "metadata": {
    "collapsed": false,
    "pycharm": {
     "name": "#%%\n"
    }
   }
  },
  {
   "cell_type": "code",
   "execution_count": 86,
   "outputs": [],
   "source": [
    "data.to_csv('data.csv',index=True, encoding='utf-8')"
   ],
   "metadata": {
    "collapsed": false,
    "pycharm": {
     "name": "#%%\n"
    }
   }
  },
  {
   "cell_type": "code",
   "execution_count": 10,
   "outputs": [],
   "source": [
    "# 表中就一个月份\n",
    "csv_data = pd.read_csv('result.csv',encoding='utf-8')\n",
    "month_shop_times_sql = \"\"\"select uid, count(*) as month_shop_avg from dm.dm_v_tr_shop_mx group by uid order by uid;\n",
    "\"\"\"\n",
    "csv_data = exec_eql_and_concat(csv_data,month_shop_times_sql,['uid','month_shop_avg'],{'month_shop_times':0})\n"
   ],
   "metadata": {
    "collapsed": false,
    "pycharm": {
     "name": "#%%\n"
    }
   }
  },
  {
   "cell_type": "markdown",
   "source": [],
   "metadata": {
    "collapsed": false,
    "pycharm": {
     "name": "#%% md\n"
    }
   }
  }
 ],
 "metadata": {
  "kernelspec": {
   "display_name": "Python 3",
   "language": "python",
   "name": "python3"
  },
  "language_info": {
   "codemirror_mode": {
    "name": "ipython",
    "version": 2
   },
   "file_extension": ".py",
   "mimetype": "text/x-python",
   "name": "python",
   "nbconvert_exporter": "python",
   "pygments_lexer": "ipython2",
   "version": "2.7.6"
  }
 },
 "nbformat": 4,
 "nbformat_minor": 0
}