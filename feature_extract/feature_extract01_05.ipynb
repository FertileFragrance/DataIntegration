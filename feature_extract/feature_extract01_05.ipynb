{
 "cells": [
  {
   "cell_type": "code",
   "execution_count": 1,
   "outputs": [],
   "source": [
    "import pandas as pd\n",
    "from clickhouse_driver import Client\n",
    "\n",
    "host = \"localhost\"\n",
    "port = 9099\n",
    "user = \"sjjc\"\n",
    "password = \"taosan506\"\n",
    "database = \"dm\"\n",
    "send_receive_timeout = 10\n",
    "client = Client(host=host, port=port, user=user, password=password, database=database,\n",
    "                send_receive_timeout=send_receive_timeout)"
   ],
   "metadata": {
    "collapsed": false,
    "pycharm": {
     "name": "#%%\n"
    }
   }
  },
  {
   "cell_type": "code",
   "execution_count": 2,
   "outputs": [],
   "source": [
    "# 用户基本信息处理，选出所有的列来\n",
    "sql = \"\"\"\n",
    "select uid from dm.pri_cust_base_info order by uid\n",
    "\"\"\"\n",
    "a = client.execute(sql)"
   ],
   "metadata": {
    "collapsed": false,
    "pycharm": {
     "name": "#%%\n"
    }
   }
  },
  {
   "cell_type": "code",
   "execution_count": 3,
   "outputs": [],
   "source": [
    "name_attribute = ['uid']\n",
    "data = pd.DataFrame(columns=name_attribute, data=a)\n",
    "data.set_index('uid', inplace=True)"
   ],
   "metadata": {
    "collapsed": false,
    "pycharm": {
     "name": "#%%\n"
    }
   }
  },
  {
   "cell_type": "code",
   "execution_count": 4,
   "outputs": [],
   "source": [
    "# 持有贷记卡张数\n",
    "data_len = len(data)"
   ],
   "metadata": {
    "collapsed": false,
    "pycharm": {
     "name": "#%%\n"
    }
   }
  },
  {
   "cell_type": "code",
   "execution_count": 5,
   "outputs": [],
   "source": [
    "def exec_eql_and_concat(data, sql, attr_list, default_na):\n",
    "    # 执行sql\n",
    "    data_list = client.execute(sql)\n",
    "    # 转为df\n",
    "    new_data_df = pd.DataFrame(columns=attr_list, data=data_list)\n",
    "    # 按uid拼接\n",
    "    new_data_df.set_index('uid', inplace=True)\n",
    "    data1 = pd.merge(data,new_data_df,how='left',left_index=True, right_index = True,sort=False,copy=True)\n",
    "    # data1 = data.join(new_data_df, how='left',left_index=True, right_index = True, sort=False)\n",
    "    # 补全空缺值\n",
    "    data1.fillna(default_na, inplace=True)\n",
    "    # 返回\n",
    "    return data1"
   ],
   "metadata": {
    "collapsed": false,
    "pycharm": {
     "name": "#%%\n"
    }
   }
  },
  {
   "cell_type": "code",
   "execution_count": 6,
   "outputs": [],
   "source": [
    "select_djk_num = \"\"\"\n",
    "select uid, count(card_no) from dm.dm_v_as_djk_info group by uid order by uid;\n",
    "\"\"\"\n",
    "data = exec_eql_and_concat(data, select_djk_num, ['uid', 'djk_num'], {'djk_num': 0})"
   ],
   "metadata": {
    "collapsed": false,
    "pycharm": {
     "name": "#%%\n"
    }
   }
  },
  {
   "cell_type": "code",
   "execution_count": 7,
   "outputs": [],
   "source": [
    "normal_djk_sql = \"\"\"\n",
    "select uid, count(card_no) from dm.dm_v_as_djk_info where card_sts_name='正常' group by uid order by uid\n",
    "\"\"\"\n",
    "data = exec_eql_and_concat(data, normal_djk_sql, ['uid', 'normal_djk_num'], {'normal_djk_num': 0})"
   ],
   "metadata": {
    "collapsed": false,
    "pycharm": {
     "name": "#%%\n"
    }
   }
  },
  {
   "cell_type": "code",
   "execution_count": 8,
   "outputs": [],
   "source": [
    "# 用户逾期/止付卡片\n",
    "abnormal_djk_num_sql = \"\"\"\n",
    "select uid, count(card_no) from dm.dm_v_as_djk_info where card_sts_name='银行止付卡片' or card_sts_name='因逾期停息停滞纳金' or card_sts_name='因逾期而停用卡片' group by uid order by uid\n",
    "\"\"\"\n",
    "data = exec_eql_and_concat(data, abnormal_djk_num_sql, ['uid', 'abnormal_djk_num'], {'abnormal_djk_num': 0})"
   ],
   "metadata": {
    "collapsed": false,
    "pycharm": {
     "name": "#%%\n"
    }
   }
  },
  {
   "cell_type": "code",
   "execution_count": 9,
   "outputs": [],
   "source": [
    "not_using_djk_sql = \"\"\"\n",
    "select uid,1 from dm.dm_v_as_djk_info where card_sts_name!='正常' and uid not in (select uid from dm.dm_v_as_djk_info where card_sts_name='正常') group by uid\n",
    "\"\"\"\n",
    "data = exec_eql_and_concat(data, not_using_djk_sql, ['uid', 'not_using_djk'], {'not_using_djk': 0})"
   ],
   "metadata": {
    "collapsed": false,
    "pycharm": {
     "name": "#%%\n"
    }
   }
  },
  {
   "cell_type": "code",
   "execution_count": 10,
   "outputs": [],
   "source": [
    "djk_credit_sum_sql = \"\"\"\n",
    "select uid, sum(cred_limit) from dm.dm_v_as_djk_info where card_sts_name='正常' group by uid order by uid\n",
    "\"\"\"\n",
    "data = exec_eql_and_concat(data, djk_credit_sum_sql, ['uid', 'djk_credit'], {'djk_credit': 0})"
   ],
   "metadata": {
    "collapsed": false,
    "pycharm": {
     "name": "#%%\n"
    }
   }
  },
  {
   "cell_type": "code",
   "execution_count": 11,
   "outputs": [],
   "source": [
    "djk_deposit_sum_sql = \"\"\"\n",
    "select uid, sum(deposit) from dm.dm_v_as_djk_info where card_sts_name='正常' group by uid order by uid\n",
    "\"\"\"\n",
    "data = exec_eql_and_concat(data, djk_deposit_sum_sql, ['uid', 'djk_deposit'], {'djk_deposit': 0})"
   ],
   "metadata": {
    "collapsed": false,
    "pycharm": {
     "name": "#%%\n"
    }
   }
  },
  {
   "cell_type": "code",
   "execution_count": 12,
   "outputs": [],
   "source": [
    "djk_over_draft_sum_sql = \"\"\"\n",
    "select uid, sum(over_draft) from dm.dm_v_as_djk_info group by uid order by uid\n",
    "\"\"\"\n",
    "data = exec_eql_and_concat(data, djk_over_draft_sum_sql, ['uid', 'djk_over_draft'], {'djk_over_draft': 0})"
   ],
   "metadata": {
    "collapsed": false,
    "pycharm": {
     "name": "#%%\n"
    }
   }
  },
  {
   "cell_type": "code",
   "execution_count": 13,
   "outputs": [],
   "source": [
    "djk_dlay_amt_sum_sql = \"\"\"\n",
    "select uid, sum(dlay_amt) from dm.dm_v_as_djk_info group by uid order by uid\n",
    "\"\"\"\n",
    "data = exec_eql_and_concat(data, djk_dlay_amt_sum_sql, ['uid', 'djk_dlay_amt'], {'djk_dlay_amt': 0})"
   ],
   "metadata": {
    "collapsed": false,
    "pycharm": {
     "name": "#%%\n"
    }
   }
  },
  {
   "cell_type": "code",
   "execution_count": 14,
   "outputs": [],
   "source": [
    "# 绑定还款账号数量\n",
    "djk_bankacct_num_sql = \"\"\"\n",
    "select uid,count(bankacct) c from (\n",
    "    select distinct bankacct,uid,bankacct_bal\n",
    "    from dm_v_as_djk_info\n",
    "    where bankacct!='\"\"')\n",
    "group by uid order by uid;\n",
    "\"\"\"\n",
    "data = exec_eql_and_concat(data, djk_bankacct_num_sql, ['uid', 'djk_bankacct_num'], {'djk_bankacct_num': 0})"
   ],
   "metadata": {
    "collapsed": false,
    "pycharm": {
     "name": "#%%\n"
    }
   }
  },
  {
   "cell_type": "code",
   "execution_count": 15,
   "outputs": [],
   "source": [
    "# 绑定还款账号中总金额\n",
    "djk_bankacct_sum_sql = \"\"\"\n",
    "select uid, sum(bankacct_bal) s\n",
    "from (\n",
    "    select distinct bankacct,uid,bankacct_bal\n",
    "    from dm_v_as_djk_info\n",
    "    where bankacct!='\"\"')\n",
    "group by uid order by uid\n",
    "\"\"\"\n",
    "data = exec_eql_and_concat(data, djk_bankacct_sum_sql, ['uid', 'djk_bankacct_sum'], {'djk_bankacct_sum': 0})"
   ],
   "metadata": {
    "collapsed": false,
    "pycharm": {
     "name": "#%%\n"
    }
   }
  },
  {
   "cell_type": "code",
   "execution_count": 16,
   "outputs": [],
   "source": [
    "# 绑定了etc\n",
    "djk_is_etc_sql = \"\"\"\n",
    "select uid,1 from dm.dm_v_as_djk_info where uid in (select uid from dm.dm_v_as_djk_info where is_etc='Y') group by uid;\n",
    "\"\"\"\n",
    "data = exec_eql_and_concat(data, djk_is_etc_sql, ['uid', 'djk_is_etc'], {'djk_is_etc': 0})"
   ],
   "metadata": {
    "collapsed": false,
    "pycharm": {
     "name": "#%%\n"
    }
   }
  },
  {
   "cell_type": "code",
   "execution_count": 17,
   "outputs": [],
   "source": [
    "# 渠道属于网络\n",
    "djk_mode_online_sql = \"\"\"\n",
    "select uid,1 from dm.dm_v_as_djk_info where uid  in (select uid from dm.dm_v_as_djk_info where issue_mode_name!='') group by uid;\n",
    "\"\"\"\n",
    "data = exec_eql_and_concat(data, djk_mode_online_sql, ['uid', 'djk_mode_online'], {'djk_mode_online': 0})"
   ],
   "metadata": {
    "collapsed": false,
    "pycharm": {
     "name": "#%%\n"
    }
   }
  },
  {
   "cell_type": "code",
   "execution_count": 18,
   "outputs": [],
   "source": [
    "# 历史总计逾期期数\n",
    "djk_sum_dlay_mths_sql = \"\"\"\n",
    "select uid, sum(dlay_mths) from dm.dm_v_as_djk_info group by uid order by uid\n",
    "\"\"\"\n",
    "data = exec_eql_and_concat(data, djk_sum_dlay_mths_sql, ['uid', 'djk_sum_dlay_mths'], {'djk_sum_dlay_mths': 0})"
   ],
   "metadata": {
    "collapsed": false,
    "pycharm": {
     "name": "#%%\n"
    }
   }
  },
  {
   "cell_type": "markdown",
   "source": [
    "以上完成了对djk_info表的特征提取\n",
    "如下进行djkfq表的特征提取"
   ],
   "metadata": {
    "collapsed": false,
    "pycharm": {
     "name": "#%% md\n"
    }
   }
  },
  {
   "cell_type": "code",
   "execution_count": 19,
   "outputs": [],
   "source": [
    "# 分期付款总金额\n",
    "djkfq_total_amt_sql = \"\"\"\n",
    "select uid, sum(total_amt) from dm_v_as_djkfq_info group by uid order by uid\n",
    "\"\"\"\n",
    "data = exec_eql_and_concat(data, djkfq_total_amt_sql, ['uid', 'djkfq_total_amt'], {'djkfq_total_amt': 0})"
   ],
   "metadata": {
    "collapsed": false,
    "pycharm": {
     "name": "#%%\n"
    }
   }
  },
  {
   "cell_type": "code",
   "execution_count": 20,
   "outputs": [],
   "source": [
    "# 分期付款总笔数\n",
    "djkfq_total_num_sql = \"\"\"\n",
    "select uid, count(mp_number) from dm_v_as_djkfq_info group by uid order by uid\n",
    "\"\"\"\n",
    "data = exec_eql_and_concat(data, djkfq_total_num_sql, ['uid', 'djkfq_total_num'], {'djkfq_total_num': 0})"
   ],
   "metadata": {
    "collapsed": false,
    "pycharm": {
     "name": "#%%\n"
    }
   }
  },
  {
   "cell_type": "code",
   "execution_count": 21,
   "outputs": [],
   "source": [
    "# 平均分期付款月数\n",
    "djkfq_avg_mths_sql = \"\"\"\n",
    "select uid, avg(total_mths) from dm_v_as_djkfq_info group by uid order by uid\n",
    "\"\"\"\n",
    "data = exec_eql_and_concat(data, djkfq_avg_mths_sql, ['uid', 'djkfq_avg_mths'], {'djkfq_avg_mths': 0})"
   ],
   "metadata": {
    "collapsed": false,
    "pycharm": {
     "name": "#%%\n"
    }
   }
  },
  {
   "cell_type": "code",
   "execution_count": 22,
   "outputs": [],
   "source": [
    "# 每月摊销付款金额\n",
    "djkfq_sum_mth_instl_sql = \"\"\"\n",
    "select uid, sum(mth_instl) from dm_v_as_djkfq_info group by uid order by uid;\n",
    "\"\"\"\n",
    "data = exec_eql_and_concat(data, djkfq_sum_mth_instl_sql, ['uid', 'djkfq_sum_mth_instl'], {'djkfq_sum_mth_instl': 0})"
   ],
   "metadata": {
    "collapsed": false,
    "pycharm": {
     "name": "#%%\n"
    }
   }
  },
  {
   "cell_type": "code",
   "execution_count": 23,
   "outputs": [],
   "source": [
    "# 剩余未还本金+费用总和\n",
    "djkfq_remain_unpay_money_sql = \"\"\"\n",
    "select uid, sum(rem_ppl+rem_fee) from dm_v_as_djkfq_info group by uid order by uid\n",
    "\"\"\"\n",
    "data = exec_eql_and_concat(data, djkfq_remain_unpay_money_sql, ['uid', 'djkfq_remain_unpay_money'],\n",
    "                           {'djkfq_remain_unpay_money': 0})"
   ],
   "metadata": {
    "collapsed": false,
    "pycharm": {
     "name": "#%%\n"
    }
   }
  },
  {
   "cell_type": "markdown",
   "source": [],
   "metadata": {
    "collapsed": false,
    "pycharm": {
     "name": "#%% md\n"
    }
   }
  },
  {
   "cell_type": "code",
   "execution_count": 24,
   "outputs": [],
   "source": [
    "# 分析contract表\n",
    "contract_01_sql = \"\"\"\n",
    "select uid,count(*) c,\n",
    "       sum(buss_amt) ,\n",
    "       sum(norm_bal),\n",
    "       sum(dlay_bal),\n",
    "       sum(dull_bal),\n",
    "       sum(frz_amt)\n",
    "from dm_v_tr_contract_mx\n",
    "group by uid order by uid;\n",
    "\"\"\"\n",
    "\n",
    "data = exec_eql_and_concat(data,\n",
    "                           contract_01_sql,\n",
    "                           ['uid',\n",
    "                            'contract_mx_num',\n",
    "                            'contract_mx_buss_amt',\n",
    "                            'contract_mx_norm_bal',\n",
    "                            'contract_mx_dlay_bal',\n",
    "                            'contract_mx_dull_bal',\n",
    "                            'contract_mx_frz_amt'\n",
    "                            ], {'contract_mx_num': 0,\n",
    "                                'contract_mx_buss_amt': 0,\n",
    "                                'contract_mx_norm_bal': 0,\n",
    "                                'contract_mx_dlay_bal': 0,\n",
    "                                'contract_mx_dull_bal': 0,\n",
    "                                'contract_mx_frz_amt': 0})"
   ],
   "metadata": {
    "collapsed": false,
    "pycharm": {
     "name": "#%%\n"
    }
   }
  },
  {
   "cell_type": "code",
   "execution_count": 25,
   "outputs": [],
   "source": [
    "# contract 是否买车\n",
    "contract_buy_car_sql = \"\"\"\n",
    "select uid,1\n",
    "from dm.dm_v_tr_contract_mx\n",
    "where  uid  in (select uid from dm.dm_v_tr_contract_mx where loan_use like '%车%') group by uid\n",
    ";\n",
    "\"\"\"\n",
    "\n",
    "data = exec_eql_and_concat(data,\n",
    "                           contract_buy_car_sql,\n",
    "                           ['uid','contract_buy_car'],\n",
    "                           {'contract_buy_car': 0})"
   ],
   "metadata": {
    "collapsed": false,
    "pycharm": {
     "name": "#%%\n"
    }
   }
  },
  {
   "cell_type": "code",
   "execution_count": 26,
   "outputs": [],
   "source": [
    "# contract 是否买房\n",
    "contract_buy_house_sql = \"\"\"\n",
    "select uid,1\n",
    "from dm.dm_v_tr_contract_mx\n",
    "where uid  in (select uid from dm.dm_v_tr_contract_mx where loan_use like '%房%') group by uid\n",
    ";\n",
    "\"\"\"\n",
    "\n",
    "data = exec_eql_and_concat(data,\n",
    "                           contract_buy_house_sql,\n",
    "                           ['uid','contract_buy_house'],\n",
    "                           {'contract_buy_house': 0})"
   ],
   "metadata": {
    "collapsed": false,
    "pycharm": {
     "name": "#%%\n"
    }
   }
  },
  {
   "cell_type": "code",
   "execution_count": 27,
   "outputs": [],
   "source": [
    "# contract 是否贷款经营\n",
    "contract_business_sql = \"\"\"\n",
    "select uid,1\n",
    "from dm.dm_v_tr_contract_mx\n",
    "where uid  in (select uid from dm.dm_v_tr_contract_mx where loan_use like '%经营%') group by uid\n",
    ";\n",
    "\"\"\"\n",
    "\n",
    "data = exec_eql_and_concat(data,\n",
    "                           contract_business_sql,\n",
    "                           ['uid','contract_business'],\n",
    "                           {'contract_business': 0})"
   ],
   "metadata": {
    "collapsed": false,
    "pycharm": {
     "name": "#%%\n"
    }
   }
  },
  {
   "cell_type": "code",
   "execution_count": 28,
   "outputs": [],
   "source": [
    "# contract 是否贷款消费\n",
    "contract_consume_sql = \"\"\"\n",
    "select uid,1\n",
    "from dm.dm_v_tr_contract_mx\n",
    "where uid  in (select uid from dm.dm_v_tr_contract_mx where loan_use like '%消费%') group by uid\n",
    ";\n",
    "\"\"\"\n",
    "\n",
    "data = exec_eql_and_concat(data,\n",
    "                           contract_consume_sql,\n",
    "                           ['uid','contract_consume'],\n",
    "                           {'contract_consume': 0})"
   ],
   "metadata": {
    "collapsed": false,
    "pycharm": {
     "name": "#%%\n"
    }
   }
  },
  {
   "cell_type": "code",
   "execution_count": 29,
   "outputs": [],
   "source": [
    "# contract 买房/车/经营/消费总金额,交易次数,avg期数\n",
    "contract_buy_car_sum_info_sql = \"\"\"\n",
    "select uid,\n",
    "sum(buss_amt),\n",
    "count(*),\n",
    "avg(term_mth)\n",
    "from dm_v_tr_contract_mx where loan_use like  '%车%' group by uid;\n",
    "\"\"\"\n",
    "\n",
    "data = exec_eql_and_concat(data,\n",
    "                           contract_buy_car_sum_info_sql,\n",
    "                           ['uid','contract_buy_car_sum','contract_buy_car_time','contract_buy_car_term_month'],\n",
    "                           {'contract_buy_car_sum': 0,\n",
    "                            'contract_buy_car_time':0,\n",
    "                            'contract_buy_car_term_month':0})"
   ],
   "metadata": {
    "collapsed": false,
    "pycharm": {
     "name": "#%%\n"
    }
   }
  },
  {
   "cell_type": "code",
   "execution_count": 30,
   "outputs": [],
   "source": [
    "\n",
    "contract_buy_house_sum_info_sql = \"\"\"\n",
    "select uid,\n",
    "sum(buss_amt),\n",
    "count(*),\n",
    "avg(term_mth)\n",
    "from dm_v_tr_contract_mx where loan_use like  '%房%' group by uid;\n",
    "\"\"\"\n",
    "\n",
    "data = exec_eql_and_concat(data,\n",
    "                           contract_buy_house_sum_info_sql,\n",
    "                           ['uid','contract_buy_house_sum','contract_buy_house_time','contract_buy_house_term_month'],\n",
    "                           {'contract_buy_house_sum': 0,\n",
    "                            'contract_buy_house_time':0,\n",
    "                            'contract_buy_house_term_month':0})"
   ],
   "metadata": {
    "collapsed": false,
    "pycharm": {
     "name": "#%%\n"
    }
   }
  },
  {
   "cell_type": "code",
   "execution_count": 31,
   "outputs": [],
   "source": [
    "\n",
    "contract_business_sum_info_sql = \"\"\"\n",
    "select uid,\n",
    "sum(buss_amt),\n",
    "count(*),\n",
    "avg(term_mth)\n",
    "from dm_v_tr_contract_mx where loan_use like  '%经营%' group by uid;\n",
    "\"\"\"\n",
    "\n",
    "data = exec_eql_and_concat(data,\n",
    "                           contract_business_sum_info_sql,\n",
    "                           ['uid','contract_business_sum','contract_business_time','contract_business_term_month'],\n",
    "                           {'contract_business_sum': 0,\n",
    "                            'contract_business_time':0,\n",
    "                            'contract_business_term_month':0})"
   ],
   "metadata": {
    "collapsed": false,
    "pycharm": {
     "name": "#%%\n"
    }
   }
  },
  {
   "cell_type": "code",
   "execution_count": 32,
   "outputs": [],
   "source": [
    "\n",
    "contract_consume_sum_info_sql = \"\"\"\n",
    "select uid,\n",
    "sum(buss_amt),\n",
    "count(*),\n",
    "avg(term_mth)\n",
    "from dm_v_tr_contract_mx where loan_use like  '%消费%' group by uid;\n",
    "\"\"\"\n",
    "\n",
    "data = exec_eql_and_concat(data,\n",
    "                           contract_consume_sum_info_sql,\n",
    "                           ['uid','contract_consume_sum','contract_consume_time','contract_consume_term_month'],\n",
    "                           {'contract_consume_sum': 0,\n",
    "                            'contract_consume_time':0,\n",
    "                            'contract_consume_term_month':0})"
   ],
   "metadata": {
    "collapsed": false,
    "pycharm": {
     "name": "#%%\n"
    }
   }
  },
  {
   "cell_type": "markdown",
   "source": [
    "下面分析贷记卡数据"
   ],
   "metadata": {
    "collapsed": false,
    "pycharm": {
     "name": "#%% md\n"
    }
   }
  },
  {
   "cell_type": "code",
   "execution_count": 33,
   "outputs": [],
   "source": [
    "djk_mx_info_sql = \"\"\"\n",
    "select uid, count(*),sum(tran_amt),avg(tran_amt),max(tran_amt)\n",
    "from dm.dm_v_tr_djk_mx group by uid order by uid;\n",
    "\"\"\"\n",
    "data = exec_eql_and_concat(data,\n",
    "                           djk_mx_info_sql,\n",
    "                           ['uid','djk_mx_count','djk_mx_sum','djk_mx_avg','djk_mx_max'],\n",
    "                           {'djk_mx_count': 0,\n",
    "                            'djk_mx_sum':0,\n",
    "                            'djk_mx_avg':0,\n",
    "                            'djk_mx_max':0})"
   ],
   "metadata": {
    "collapsed": false,
    "pycharm": {
     "name": "#%%\n"
    }
   }
  },
  {
   "cell_type": "code",
   "execution_count": 34,
   "outputs": [],
   "source": [
    "# 贷记卡支出数据+\n",
    "djk_mx_expense_sql = \"\"\"\n",
    "select uid, count(*),sum(tran_amt),avg(tran_amt),max(tran_amt)\n",
    "from dm.dm_v_tr_djk_mx where tran_amt_sign='+' group by uid order by uid;\n",
    "\"\"\"\n",
    "data = exec_eql_and_concat(data,\n",
    "                           djk_mx_expense_sql,\n",
    "                           ['uid','djk_mx_expense_count','djk_mx_expense_sum','djk_mx_expense_avg','djk_mx_expense_max'],\n",
    "                           {'djk_mx_expense_count': 0,\n",
    "                            'djk_mx_expense_sum':0,\n",
    "                            'djk_mx_expense_avg':0,\n",
    "                            'djk_mx_expense_max':0})"
   ],
   "metadata": {
    "collapsed": false,
    "pycharm": {
     "name": "#%%\n"
    }
   }
  },
  {
   "cell_type": "code",
   "execution_count": 35,
   "outputs": [],
   "source": [
    "# 贷记卡收入数据-\n",
    "djk_mx_income_sql = \"\"\"\n",
    "select uid, count(*),sum(tran_amt),avg(tran_amt),max(tran_amt)\n",
    "from dm.dm_v_tr_djk_mx where tran_amt_sign='-' group by uid order by uid;\n",
    "\"\"\"\n",
    "data = exec_eql_and_concat(data,\n",
    "                           djk_mx_income_sql,\n",
    "                           ['uid','djk_mx_income_count','djk_mx_income_sum','djk_mx_income_avg','djk_mx_income_max'],\n",
    "                           {'djk_mx_income_count': 0,\n",
    "                            'djk_mx_income_sum':0,\n",
    "                            'djk_mx_income_avg':0,\n",
    "                            'djk_mx_income_max':0})"
   ],
   "metadata": {
    "collapsed": false,
    "pycharm": {
     "name": "#%%\n"
    }
   }
  },
  {
   "cell_type": "code",
   "execution_count": 36,
   "outputs": [],
   "source": [
    "# 净值变化\n",
    "djk_mx_realchange_sql = \"\"\"\n",
    "select uid,sum(if(tran_amt_sign='+',1,-1)*tran_amt) from dm.dm_v_tr_djk_mx group by uid order by uid\n",
    "\"\"\"\n",
    "data = exec_eql_and_concat(data,\n",
    "                           djk_mx_realchange_sql,\n",
    "                           ['uid','djk_mx_real_tran_amt'],\n",
    "                           {'djk_mx_real_tran_amt': 0})"
   ],
   "metadata": {
    "collapsed": false,
    "pycharm": {
     "name": "#%%\n"
    }
   }
  },
  {
   "cell_type": "code",
   "execution_count": 37,
   "outputs": [],
   "source": [
    "dsf_mx_info_sql = \"\"\"\n",
    "select uid, count(*), sum(tran_amt), avg(tran_amt), max(tran_amt) from dm.dm_v_tr_dsf_mx group by uid order by uid\n",
    "\"\"\"\n",
    "data = exec_eql_and_concat(data,\n",
    "                           dsf_mx_info_sql,\n",
    "                           ['uid','dsf_mx_count','dsf_mx_sum','dsf_mx_avg','dsf_mx_max'],\n",
    "                           {'djk_mx_real_tran_amt': 0,\n",
    "                            'dsf_mx_sum': 0,'dsf_mx_avg': 0,'dsf_mx_max': 0})"
   ],
   "metadata": {
    "collapsed": false,
    "pycharm": {
     "name": "#%%\n"
    }
   }
  },
  {
   "cell_type": "code",
   "execution_count": 38,
   "outputs": [],
   "source": [
    "data.to_csv('./result1-5.csv', encoding='utf-8')"
   ],
   "metadata": {
    "collapsed": false,
    "pycharm": {
     "name": "#%%\n"
    }
   }
  },
  {
   "cell_type": "code",
   "execution_count": 38,
   "outputs": [],
   "source": [],
   "metadata": {
    "collapsed": false,
    "pycharm": {
     "name": "#%%\n"
    }
   }
  }
 ],
 "metadata": {
  "kernelspec": {
   "display_name": "Python 3",
   "language": "python",
   "name": "python3"
  },
  "language_info": {
   "codemirror_mode": {
    "name": "ipython",
    "version": 2
   },
   "file_extension": ".py",
   "mimetype": "text/x-python",
   "name": "python",
   "nbconvert_exporter": "python",
   "pygments_lexer": "ipython2",
   "version": "2.7.6"
  }
 },
 "nbformat": 4,
 "nbformat_minor": 0
}