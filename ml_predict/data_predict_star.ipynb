{
 "cells": [
  {
   "cell_type": "code",
   "execution_count": 1,
   "metadata": {
    "collapsed": true,
    "pycharm": {
     "name": "#%%\n"
    }
   },
   "outputs": [],
   "source": [
    "import pandas as pd"
   ]
  },
  {
   "cell_type": "code",
   "execution_count": 2,
   "outputs": [],
   "source": [
    "# 加载star数据\n",
    "from clickhouse_driver import Client\n",
    "\n",
    "host = \"localhost\"\n",
    "port = 9099\n",
    "user = \"sjjc\"\n",
    "password = \"taosan506\"\n",
    "database = \"dm\"\n",
    "send_receive_timeout = 10\n",
    "client = Client(host=host, port=port, user=user, password=password, database=database,\n",
    "                send_receive_timeout=send_receive_timeout)\n",
    "star_df_list_sql = \"\"\"\n",
    "select uid, star_level from dm.pri_star_info;\n",
    "\"\"\"\n",
    "star_df_list = client.execute(star_df_list_sql)\n",
    "attr_list = ['uid', 'star_level']\n",
    "star_df = pd.DataFrame(columns=attr_list, data=star_df_list)\n",
    "star_df.set_index('uid', inplace=True)"
   ],
   "metadata": {
    "collapsed": false,
    "pycharm": {
     "name": "#%%\n"
    }
   }
  },
  {
   "cell_type": "code",
   "execution_count": 3,
   "outputs": [],
   "source": [
    "# 加载特征数据\n",
    "data1 = pd.read_csv('./result.csv',encoding='utf-8')"
   ],
   "metadata": {
    "collapsed": false,
    "pycharm": {
     "name": "#%%\n"
    }
   }
  },
  {
   "cell_type": "code",
   "execution_count": 16,
   "outputs": [],
   "source": [
    "# 合并到打分表\n",
    "data_all = pd.merge(star_df,data1,how='left',left_index=True, right_index = True,sort=False,copy=True)"
   ],
   "metadata": {
    "collapsed": false,
    "pycharm": {
     "name": "#%%\n"
    }
   }
  },
  {
   "cell_type": "code",
   "execution_count": 17,
   "outputs": [],
   "source": [
    "# 进行空缺值补全，用0补全\n",
    "data_all.fillna(0,inplace=True)\n",
    "data_all['star_level'] = data_all['star_level'].apply(int)"
   ],
   "metadata": {
    "collapsed": false,
    "pycharm": {
     "name": "#%%\n"
    }
   }
  },
  {
   "cell_type": "code",
   "execution_count": 18,
   "outputs": [
    {
     "name": "stdout",
     "output_type": "stream",
     "text": [
      "star_level\n",
      "uid\n",
      "djk_num_x\n",
      "normal_djk_num_x\n",
      "abnormal_djk_num_x\n",
      "not_using_djk\n",
      "djk_credit\n",
      "djk_deposit\n",
      "djk_over_draft\n",
      "djk_dlay_amt\n",
      "djk_bankacct_num\n",
      "djk_bankacct_sum\n",
      "djk_is_etc\n",
      "djk_mode_online\n",
      "djk_sum_dlay_mths\n",
      "djkfq_total_amt\n",
      "djkfq_total_num\n",
      "djkfq_avg_mths\n",
      "djkfq_sum_mth_instl\n",
      "djkfq_remain_unpay_money\n",
      "contract_mx_num\n",
      "contract_mx_buss_amt\n",
      "contract_mx_norm_bal\n",
      "contract_mx_dlay_bal\n",
      "contract_mx_dull_bal\n",
      "contract_mx_frz_amt\n",
      "contract_buy_car\n",
      "contract_buy_house\n",
      "contract_business\n",
      "contract_consume\n",
      "contract_buy_car_sum\n",
      "contract_buy_car_time\n",
      "contract_buy_car_term_month\n",
      "contract_buy_house_sum\n",
      "contract_buy_house_time\n",
      "contract_buy_house_term_month\n",
      "contract_business_sum\n",
      "contract_business_time\n",
      "contract_business_term_month\n",
      "contract_consume_sum\n",
      "contract_consume_time\n",
      "contract_consume_term_month\n",
      "djk_mx_count\n",
      "djk_mx_sum\n",
      "djk_mx_avg\n",
      "djk_mx_max\n",
      "djk_mx_expense_count\n",
      "djk_mx_expense_sum\n",
      "djk_mx_expense_avg\n",
      "djk_mx_expense_max\n",
      "djk_mx_income_count\n",
      "djk_mx_income_sum\n",
      "djk_mx_income_avg\n",
      "djk_mx_income_max\n",
      "djk_mx_real_tran_amt\n",
      "dsf_mx_count\n",
      "dsf_mx_sum\n",
      "dsf_mx_avg\n",
      "dsf_mx_max\n",
      "djk_num_y\n",
      "normal_djk_num_y\n",
      "abnormal_djk_num_y\n",
      "bal_duebill\n",
      "normal_bal_duebill\n",
      "online_tran_duebill\n",
      "offline_tran_duebill\n",
      "has_car_etc\n",
      "has_personal_bank_grwy\n",
      "MCA_times_grwy\n",
      "Core_times_grwy\n",
      "has_social_security_gzdf\n",
      "bal_huanb\n",
      "max_pay_times_huanb\n",
      "tran_amt_huanb\n",
      "tran_times_huanb\n",
      "tran_amt_duebill\n",
      "tran_times_duebill\n",
      "tran_amt_etc\n",
      "tran_times_etc\n",
      "tran_amt_grwy\n",
      "tran_times_grwy\n",
      "tran_amt_gzdf\n",
      "tran_times_gzdf\n",
      "id\n",
      "max_cac_intc_pr\n",
      "max_intr\n",
      "max_pay_term\n",
      "month_avg_huanx_amt\n",
      "month_avg_huanx_count\n",
      "month_avg_sbyb_amt\n",
      "month_avg_sbyb_count\n",
      "month_avg_sdrq_amt\n",
      "month_avg_sdrq_count\n",
      "month_avg_shop_amt\n",
      "month_avg_shop_count\n",
      "sjyh_tran_amt_count\n",
      "sjyh_tran_amt_sum\n",
      "cust_bal_sum\n",
      "cust_all_bal_sum\n",
      "cust_sa_bal\n",
      "cust_fin_bal\n",
      "cust_cd_bal\n",
      "is_black\n",
      "career\n",
      "base_sumloan_amt\n",
      "base_count_loan_amt\n",
      "base_sum_loan_bal\n",
      "base_sum_credit_amt\n",
      "base_max_frst_intr\n",
      "base_max_actu_intr\n",
      "base_max_guar_con_value\n",
      "base_max_book_acct_amt\n",
      "owed_int_times_90l\n",
      "owed_int_times_90g\n",
      "overdue_times_90l\n",
      "overdue_times_90g\n",
      "base_all_bal\n",
      "base_bad_bal\n",
      "base_due_intr\n",
      "base_norm_bal\n",
      "base_delay_bal\n",
      "sex\n",
      "birthday\n",
      "education\n",
      "marrige\n"
     ]
    }
   ],
   "source": [
    "for i in data_all.columns:\n",
    "    print(i)"
   ],
   "metadata": {
    "collapsed": false,
    "pycharm": {
     "name": "#%%\n"
    }
   }
  },
  {
   "cell_type": "code",
   "execution_count": 19,
   "outputs": [],
   "source": [
    "# 提取有效特征\n",
    "# attrs = [ 'star_level',\n",
    "#     'base_max_actu_intr',\n",
    "# 'base_max_frst_intr',\n",
    "# 'dsf_mx_count',\n",
    "# 'max_intr',\n",
    "# 'base_count_loan_amt',\n",
    "# 'abnormal_djk_num_y',\n",
    "# 'abnormal_djk_num_x',\n",
    "# 'max_pay_term',\n",
    "# 'owed_int_times_90g',\n",
    "# 'month_avg_huanx_count',\n",
    "# 'overdue_times_90g',\n",
    "# 'owed_int_times_90l',\n",
    "# 'overdue_times_90l',\n",
    "# 'base_bad_bal',\n",
    "# 'djk_sum_dlay_mths',\n",
    "# 'education',\n",
    "# 'base_due_intr',\n",
    "# 'base_delay_bal',\n",
    "# 'contract_mx_dull_bal',\n",
    "#          'contract_buy_house_time',\n",
    "# 'djk_is_etc',\n",
    "# 'dsf_mx_sum',\n",
    "# 'base_max_book_acct_amt',\n",
    "# 'tran_amt_huanb',\n",
    "# 'month_avg_shop_count',\n",
    "# 'djk_credit',\n",
    "# 'has_car_etc',\n",
    "# 'sjyh_tran_amt_count',\n",
    "# 'tran_amt_duebill',\n",
    "# 'normal_djk_num_y',\n",
    "# 'normal_djk_num_x',\n",
    "# 'djk_mode_online',\n",
    "# 'dsf_mx_avg',\n",
    "# 'contract_consume_sum',\n",
    "# 'dsf_mx_max',\n",
    "# 'month_avg_sdrq_amt',\n",
    "# 'contract_mx_num',\n",
    "# 'not_using_djk',\n",
    "# 'djk_bankacct_num',\n",
    "# 'contract_mx_buss_amt',\n",
    "# 'offline_tran_duebill',\n",
    "# 'month_avg_sbyb_amt',\n",
    "# 'djk_num_x',\n",
    "# 'djk_num_y',\n",
    "# 'contract_business_sum',\n",
    "# 'contract_business',\n",
    "# 'contract_business_term_month',\n",
    "# 'djk_bankacct_sum',\n",
    "# 'sjyh_tran_amt_sum',\n",
    "# 'contract_consume_term_month',\n",
    "# 'cust_bal_sum',\n",
    "# 'contract_consume_time',\n",
    "# 'cust_fin_bal',\n",
    "# 'contract_consume',\n",
    "# 'month_avg_sbyb_count',\n",
    "# 'tran_amt_gzdf',\n",
    "# 'cust_cd_bal',\n",
    "# 'month_avg_sdrq_count',\n",
    "# 'marrige',\n",
    "# 'tran_times_gzdf',\n",
    "# 'cust_sa_bal',\n",
    "# 'birthday',\n",
    "# 'has_social_security_gzdf',\n",
    "# 'cust_all_bal_sum'\n",
    "#          ]\n",
    "attrs = [\n",
    "    'star_level',\n",
    "    'djk_num_x',\n",
    "    'djk_credit',\n",
    "    'djk_bankacct_sum',\n",
    "    'is_black',\n",
    "    'career',\n",
    "    'cust_bal_sum',\n",
    "    'cust_all_bal_sum',\n",
    "    'cust_sa_bal',\n",
    "    'cust_fin_bal',\n",
    "    'cust_cd_bal',\n",
    "    'base_sumloan_amt',\n",
    "    'base_sum_credit_amt',\n",
    "    'base_all_bal',\n",
    "    'base_bad_bal',\n",
    "    'base_norm_bal',\n",
    "    'sex',\n",
    "    'birthday',\n",
    "    'education',\n",
    "    'marrige'\n",
    "]\n",
    "data_all = data_all.loc[:,attrs]"
   ],
   "metadata": {
    "collapsed": false,
    "pycharm": {
     "name": "#%%\n"
    }
   }
  },
  {
   "cell_type": "code",
   "execution_count": 63,
   "outputs": [],
   "source": [
    "# 切分数据集\n",
    "from sklearn.model_selection import train_test_split\n",
    "known_data = data_all[ (data_all['star_level']!=-1)]\n",
    "target_data = data_all[(data_all['star_level']==-1)]"
   ],
   "metadata": {
    "collapsed": false,
    "pycharm": {
     "name": "#%%\n"
    }
   }
  },
  {
   "cell_type": "code",
   "execution_count": 64,
   "outputs": [],
   "source": [
    "x = known_data.iloc[:,1:]\n",
    "y = known_data.iloc[:,0:1]['star_level'].tolist()"
   ],
   "metadata": {
    "collapsed": false,
    "pycharm": {
     "name": "#%%\n"
    }
   }
  },
  {
   "cell_type": "code",
   "execution_count": 65,
   "outputs": [],
   "source": [
    "x_train, x_test, y_train,y_test = train_test_split(x, y, test_size=0.2)"
   ],
   "metadata": {
    "collapsed": false,
    "pycharm": {
     "name": "#%%\n"
    }
   }
  },
  {
   "cell_type": "code",
   "execution_count": 66,
   "outputs": [
    {
     "name": "stdout",
     "output_type": "stream",
     "text": [
      "1 训练集次数 103172 测试集次数 25755\n",
      "2 训练集次数 35414 测试集次数 8837\n",
      "3 训练集次数 30592 测试集次数 7695\n",
      "4 训练集次数 8023 测试集次数 2005\n",
      "5 训练集次数 5673 测试集次数 1412\n",
      "6 训练集次数 2795 测试集次数 710\n",
      "7 训练集次数 36 测试集次数 10\n",
      "8 训练集次数 11 测试集次数 5\n",
      "9 训练集次数 3 测试集次数 1\n"
     ]
    }
   ],
   "source": [
    "for i in range(1,10):\n",
    "    print(i,\"训练集次数\",y_train.count(i),\"测试集次数\",y_test.count(i))"
   ],
   "metadata": {
    "collapsed": false,
    "pycharm": {
     "name": "#%%\n"
    }
   }
  },
  {
   "cell_type": "code",
   "execution_count": 67,
   "outputs": [
    {
     "data": {
      "text/plain": "RandomForestClassifier(max_leaf_nodes=70, n_estimators=1000, n_jobs=-1)"
     },
     "execution_count": 67,
     "metadata": {},
     "output_type": "execute_result"
    }
   ],
   "source": [
    "# 使用随机森林算法\n",
    "from sklearn.ensemble import RandomForestClassifier\n",
    "rf_clf = RandomForestClassifier(n_estimators=1000,n_jobs=-1,max_leaf_nodes=70)\n",
    "rf_clf.fit(x_train,y_train)"
   ],
   "metadata": {
    "collapsed": false,
    "pycharm": {
     "name": "#%%\n"
    }
   }
  },
  {
   "cell_type": "code",
   "execution_count": 60,
   "outputs": [],
   "source": [
    "def true_score(result, test):\n",
    "    t = 0\n",
    "    diff = 0\n",
    "    for i in range(len(result)):\n",
    "        if result[i]==test[i]:\n",
    "            t = t+1\n",
    "        else:\n",
    "            diff = diff + abs(int(result[i])-int(test[i]))\n",
    "\n",
    "    print(\"差距\",diff/len(result))\n",
    "    return t/len(result)"
   ],
   "metadata": {
    "collapsed": false,
    "pycharm": {
     "name": "#%%\n"
    }
   }
  },
  {
   "cell_type": "code",
   "execution_count": 61,
   "outputs": [
    {
     "name": "stdout",
     "output_type": "stream",
     "text": [
      "差距 0.5899957609156422\n",
      "0.6533276812208563\n"
     ]
    }
   ],
   "source": [
    "y_pred = rf_clf.predict(x_test)\n",
    "print(true_score(y_test, y_pred))"
   ],
   "metadata": {
    "collapsed": false,
    "pycharm": {
     "name": "#%%\n"
    }
   }
  },
  {
   "cell_type": "code",
   "execution_count": 62,
   "outputs": [
    {
     "name": "stdout",
     "output_type": "stream",
     "text": [
      "      3  4  5  6  7  8  9\n",
      "3  7706  0  0  0  0  0  0\n",
      "4  1961  0  0  0  0  0  0\n",
      "5  1401  0  0  0  0  0  0\n",
      "6   715  0  0  0  0  0  0\n",
      "7    10  0  0  0  0  0  0\n",
      "8     1  0  0  0  0  0  0\n",
      "9     1  0  0  0  0  0  0\n"
     ]
    }
   ],
   "source": [
    "from sklearn.metrics import confusion_matrix\n",
    "cm = pd.DataFrame(\n",
    "    confusion_matrix(y_test, y_pred),\n",
    "    index = [3,4,5,6,7,8,9],\n",
    "    columns = [3,4,5,6,7,8,9]\n",
    ")\n",
    "print(cm)"
   ],
   "metadata": {
    "collapsed": false,
    "pycharm": {
     "name": "#%%\n"
    }
   }
  },
  {
   "cell_type": "code",
   "execution_count": 28,
   "outputs": [],
   "source": [
    "from sklearn.linear_model import LogisticRegression\n",
    "log_reg = LogisticRegression(multi_class='multinomial',solver='newton-cg')"
   ],
   "metadata": {
    "collapsed": false,
    "pycharm": {
     "name": "#%%\n"
    }
   }
  },
  {
   "cell_type": "code",
   "execution_count": 29,
   "outputs": [
    {
     "data": {
      "text/plain": "LogisticRegression(multi_class='multinomial', solver='newton-cg')"
     },
     "execution_count": 29,
     "metadata": {},
     "output_type": "execute_result"
    }
   ],
   "source": [
    "log_reg.fit(x_train, y_train)"
   ],
   "metadata": {
    "collapsed": false,
    "pycharm": {
     "name": "#%%\n"
    }
   }
  },
  {
   "cell_type": "code",
   "execution_count": 30,
   "outputs": [],
   "source": [
    "predict_train = log_reg.predict(x_train)"
   ],
   "metadata": {
    "collapsed": false,
    "pycharm": {
     "name": "#%%\n"
    }
   }
  },
  {
   "cell_type": "code",
   "execution_count": 31,
   "outputs": [
    {
     "name": "stdout",
     "output_type": "stream",
     "text": [
      "差距 0.8491492569459401\n",
      "0.5527029937540383\n"
     ]
    }
   ],
   "source": [
    "y_pred = log_reg.predict(x_test)\n",
    "print(true_score(y_test, y_pred))"
   ],
   "metadata": {
    "collapsed": false,
    "pycharm": {
     "name": "#%%\n"
    }
   }
  },
  {
   "cell_type": "code",
   "execution_count": 32,
   "outputs": [
    {
     "name": "stdout",
     "output_type": "stream",
     "text": [
      "       1  2  3  4  5  6  7  8  9\n",
      "1  25662  0  0  0  0  0  0  0  0\n",
      "2   9006  0  0  0  0  0  0  0  0\n",
      "3   7725  0  0  0  0  0  0  0  0\n",
      "4   1917  0  0  0  0  0  0  0  0\n",
      "5   1407  0  0  0  0  0  0  0  0\n",
      "6    694  0  0  0  0  0  0  0  0\n",
      "7     13  0  0  0  0  0  0  0  0\n",
      "8      5  0  0  0  0  0  0  0  0\n",
      "9      1  0  0  0  0  0  0  0  0\n"
     ]
    }
   ],
   "source": [
    "from sklearn.metrics import confusion_matrix\n",
    "cm = pd.DataFrame(\n",
    "    confusion_matrix(y_test, y_pred),\n",
    "    index = [1,2,3,4,5,6,7,8,9],\n",
    "    columns = [1,2,3,4,5,6,7,8,9]\n",
    ")\n",
    "print(cm)"
   ],
   "metadata": {
    "collapsed": false,
    "pycharm": {
     "name": "#%%\n"
    }
   }
  },
  {
   "cell_type": "code",
   "execution_count": 27,
   "outputs": [
    {
     "data": {
      "text/plain": "KNeighborsClassifier()"
     },
     "execution_count": 27,
     "metadata": {},
     "output_type": "execute_result"
    }
   ],
   "source": [
    "# knn\n",
    "from sklearn.neighbors import KNeighborsClassifier\n",
    "modelknn = KNeighborsClassifier()\n",
    "modelknn.fit(x_train, y_train)"
   ],
   "metadata": {
    "collapsed": false,
    "pycharm": {
     "name": "#%%\n"
    }
   }
  },
  {
   "cell_type": "code",
   "execution_count": 28,
   "outputs": [
    {
     "ename": "KeyboardInterrupt",
     "evalue": "",
     "output_type": "error",
     "traceback": [
      "\u001B[0;31m---------------------------------------------------------------------------\u001B[0m",
      "\u001B[0;31mKeyboardInterrupt\u001B[0m                         Traceback (most recent call last)",
      "\u001B[0;32m/tmp/ipykernel_15652/3620539639.py\u001B[0m in \u001B[0;36m<module>\u001B[0;34m\u001B[0m\n\u001B[0;32m----> 1\u001B[0;31m \u001B[0my_pred\u001B[0m \u001B[0;34m=\u001B[0m \u001B[0mmodelknn\u001B[0m\u001B[0;34m.\u001B[0m\u001B[0mpredict\u001B[0m\u001B[0;34m(\u001B[0m\u001B[0mx_test\u001B[0m\u001B[0;34m)\u001B[0m\u001B[0;34m\u001B[0m\u001B[0;34m\u001B[0m\u001B[0m\n\u001B[0m\u001B[1;32m      2\u001B[0m \u001B[0mprint\u001B[0m\u001B[0;34m(\u001B[0m\u001B[0mtrue_score\u001B[0m\u001B[0;34m(\u001B[0m\u001B[0my_test\u001B[0m\u001B[0;34m,\u001B[0m \u001B[0my_pred\u001B[0m\u001B[0;34m)\u001B[0m\u001B[0;34m)\u001B[0m\u001B[0;34m\u001B[0m\u001B[0;34m\u001B[0m\u001B[0m\n",
      "\u001B[0;32m~/.local/lib/python3.7/site-packages/sklearn/neighbors/_classification.py\u001B[0m in \u001B[0;36mpredict\u001B[0;34m(self, X)\u001B[0m\n\u001B[1;32m    212\u001B[0m             \u001B[0mClass\u001B[0m \u001B[0mlabels\u001B[0m \u001B[0;32mfor\u001B[0m \u001B[0meach\u001B[0m \u001B[0mdata\u001B[0m \u001B[0msample\u001B[0m\u001B[0;34m.\u001B[0m\u001B[0;34m\u001B[0m\u001B[0;34m\u001B[0m\u001B[0m\n\u001B[1;32m    213\u001B[0m         \"\"\"\n\u001B[0;32m--> 214\u001B[0;31m         \u001B[0mneigh_dist\u001B[0m\u001B[0;34m,\u001B[0m \u001B[0mneigh_ind\u001B[0m \u001B[0;34m=\u001B[0m \u001B[0mself\u001B[0m\u001B[0;34m.\u001B[0m\u001B[0mkneighbors\u001B[0m\u001B[0;34m(\u001B[0m\u001B[0mX\u001B[0m\u001B[0;34m)\u001B[0m\u001B[0;34m\u001B[0m\u001B[0;34m\u001B[0m\u001B[0m\n\u001B[0m\u001B[1;32m    215\u001B[0m         \u001B[0mclasses_\u001B[0m \u001B[0;34m=\u001B[0m \u001B[0mself\u001B[0m\u001B[0;34m.\u001B[0m\u001B[0mclasses_\u001B[0m\u001B[0;34m\u001B[0m\u001B[0;34m\u001B[0m\u001B[0m\n\u001B[1;32m    216\u001B[0m         \u001B[0m_y\u001B[0m \u001B[0;34m=\u001B[0m \u001B[0mself\u001B[0m\u001B[0;34m.\u001B[0m\u001B[0m_y\u001B[0m\u001B[0;34m\u001B[0m\u001B[0;34m\u001B[0m\u001B[0m\n",
      "\u001B[0;32m~/.local/lib/python3.7/site-packages/sklearn/neighbors/_base.py\u001B[0m in \u001B[0;36mkneighbors\u001B[0;34m(self, X, n_neighbors, return_distance)\u001B[0m\n\u001B[1;32m    757\u001B[0m                     \u001B[0mmetric\u001B[0m\u001B[0;34m=\u001B[0m\u001B[0mself\u001B[0m\u001B[0;34m.\u001B[0m\u001B[0meffective_metric_\u001B[0m\u001B[0;34m,\u001B[0m\u001B[0;34m\u001B[0m\u001B[0;34m\u001B[0m\u001B[0m\n\u001B[1;32m    758\u001B[0m                     \u001B[0mn_jobs\u001B[0m\u001B[0;34m=\u001B[0m\u001B[0mn_jobs\u001B[0m\u001B[0;34m,\u001B[0m\u001B[0;34m\u001B[0m\u001B[0;34m\u001B[0m\u001B[0m\n\u001B[0;32m--> 759\u001B[0;31m                     \u001B[0;34m**\u001B[0m\u001B[0mkwds\u001B[0m\u001B[0;34m,\u001B[0m\u001B[0;34m\u001B[0m\u001B[0;34m\u001B[0m\u001B[0m\n\u001B[0m\u001B[1;32m    760\u001B[0m                 )\n\u001B[1;32m    761\u001B[0m             )\n",
      "\u001B[0;32m~/.local/lib/python3.7/site-packages/sklearn/metrics/pairwise.py\u001B[0m in \u001B[0;36mpairwise_distances_chunked\u001B[0;34m(X, Y, reduce_func, metric, n_jobs, working_memory, **kwds)\u001B[0m\n\u001B[1;32m   1715\u001B[0m         \u001B[0;32melse\u001B[0m\u001B[0;34m:\u001B[0m\u001B[0;34m\u001B[0m\u001B[0;34m\u001B[0m\u001B[0m\n\u001B[1;32m   1716\u001B[0m             \u001B[0mX_chunk\u001B[0m \u001B[0;34m=\u001B[0m \u001B[0mX\u001B[0m\u001B[0;34m[\u001B[0m\u001B[0msl\u001B[0m\u001B[0;34m]\u001B[0m\u001B[0;34m\u001B[0m\u001B[0;34m\u001B[0m\u001B[0m\n\u001B[0;32m-> 1717\u001B[0;31m         \u001B[0mD_chunk\u001B[0m \u001B[0;34m=\u001B[0m \u001B[0mpairwise_distances\u001B[0m\u001B[0;34m(\u001B[0m\u001B[0mX_chunk\u001B[0m\u001B[0;34m,\u001B[0m \u001B[0mY\u001B[0m\u001B[0;34m,\u001B[0m \u001B[0mmetric\u001B[0m\u001B[0;34m=\u001B[0m\u001B[0mmetric\u001B[0m\u001B[0;34m,\u001B[0m \u001B[0mn_jobs\u001B[0m\u001B[0;34m=\u001B[0m\u001B[0mn_jobs\u001B[0m\u001B[0;34m,\u001B[0m \u001B[0;34m**\u001B[0m\u001B[0mkwds\u001B[0m\u001B[0;34m)\u001B[0m\u001B[0;34m\u001B[0m\u001B[0;34m\u001B[0m\u001B[0m\n\u001B[0m\u001B[1;32m   1718\u001B[0m         if (X is Y or Y is None) and PAIRWISE_DISTANCE_FUNCTIONS.get(\n\u001B[1;32m   1719\u001B[0m             \u001B[0mmetric\u001B[0m\u001B[0;34m,\u001B[0m \u001B[0;32mNone\u001B[0m\u001B[0;34m\u001B[0m\u001B[0;34m\u001B[0m\u001B[0m\n",
      "\u001B[0;32m~/.local/lib/python3.7/site-packages/sklearn/metrics/pairwise.py\u001B[0m in \u001B[0;36mpairwise_distances\u001B[0;34m(X, Y, metric, n_jobs, force_all_finite, **kwds)\u001B[0m\n\u001B[1;32m   1887\u001B[0m         \u001B[0mfunc\u001B[0m \u001B[0;34m=\u001B[0m \u001B[0mpartial\u001B[0m\u001B[0;34m(\u001B[0m\u001B[0mdistance\u001B[0m\u001B[0;34m.\u001B[0m\u001B[0mcdist\u001B[0m\u001B[0;34m,\u001B[0m \u001B[0mmetric\u001B[0m\u001B[0;34m=\u001B[0m\u001B[0mmetric\u001B[0m\u001B[0;34m,\u001B[0m \u001B[0;34m**\u001B[0m\u001B[0mkwds\u001B[0m\u001B[0;34m)\u001B[0m\u001B[0;34m\u001B[0m\u001B[0;34m\u001B[0m\u001B[0m\n\u001B[1;32m   1888\u001B[0m \u001B[0;34m\u001B[0m\u001B[0m\n\u001B[0;32m-> 1889\u001B[0;31m     \u001B[0;32mreturn\u001B[0m \u001B[0m_parallel_pairwise\u001B[0m\u001B[0;34m(\u001B[0m\u001B[0mX\u001B[0m\u001B[0;34m,\u001B[0m \u001B[0mY\u001B[0m\u001B[0;34m,\u001B[0m \u001B[0mfunc\u001B[0m\u001B[0;34m,\u001B[0m \u001B[0mn_jobs\u001B[0m\u001B[0;34m,\u001B[0m \u001B[0;34m**\u001B[0m\u001B[0mkwds\u001B[0m\u001B[0;34m)\u001B[0m\u001B[0;34m\u001B[0m\u001B[0;34m\u001B[0m\u001B[0m\n\u001B[0m\u001B[1;32m   1890\u001B[0m \u001B[0;34m\u001B[0m\u001B[0m\n\u001B[1;32m   1891\u001B[0m \u001B[0;34m\u001B[0m\u001B[0m\n",
      "\u001B[0;32m~/.local/lib/python3.7/site-packages/sklearn/metrics/pairwise.py\u001B[0m in \u001B[0;36m_parallel_pairwise\u001B[0;34m(X, Y, func, n_jobs, **kwds)\u001B[0m\n\u001B[1;32m   1428\u001B[0m \u001B[0;34m\u001B[0m\u001B[0m\n\u001B[1;32m   1429\u001B[0m     \u001B[0;32mif\u001B[0m \u001B[0meffective_n_jobs\u001B[0m\u001B[0;34m(\u001B[0m\u001B[0mn_jobs\u001B[0m\u001B[0;34m)\u001B[0m \u001B[0;34m==\u001B[0m \u001B[0;36m1\u001B[0m\u001B[0;34m:\u001B[0m\u001B[0;34m\u001B[0m\u001B[0;34m\u001B[0m\u001B[0m\n\u001B[0;32m-> 1430\u001B[0;31m         \u001B[0;32mreturn\u001B[0m \u001B[0mfunc\u001B[0m\u001B[0;34m(\u001B[0m\u001B[0mX\u001B[0m\u001B[0;34m,\u001B[0m \u001B[0mY\u001B[0m\u001B[0;34m,\u001B[0m \u001B[0;34m**\u001B[0m\u001B[0mkwds\u001B[0m\u001B[0;34m)\u001B[0m\u001B[0;34m\u001B[0m\u001B[0;34m\u001B[0m\u001B[0m\n\u001B[0m\u001B[1;32m   1431\u001B[0m \u001B[0;34m\u001B[0m\u001B[0m\n\u001B[1;32m   1432\u001B[0m     \u001B[0;31m# enforce a threading backend to prevent data communication overhead\u001B[0m\u001B[0;34m\u001B[0m\u001B[0;34m\u001B[0m\u001B[0;34m\u001B[0m\u001B[0m\n",
      "\u001B[0;32m~/.local/lib/python3.7/site-packages/sklearn/metrics/pairwise.py\u001B[0m in \u001B[0;36meuclidean_distances\u001B[0;34m(X, Y, Y_norm_squared, squared, X_norm_squared)\u001B[0m\n\u001B[1;32m    328\u001B[0m             )\n\u001B[1;32m    329\u001B[0m \u001B[0;34m\u001B[0m\u001B[0m\n\u001B[0;32m--> 330\u001B[0;31m     \u001B[0;32mreturn\u001B[0m \u001B[0m_euclidean_distances\u001B[0m\u001B[0;34m(\u001B[0m\u001B[0mX\u001B[0m\u001B[0;34m,\u001B[0m \u001B[0mY\u001B[0m\u001B[0;34m,\u001B[0m \u001B[0mX_norm_squared\u001B[0m\u001B[0;34m,\u001B[0m \u001B[0mY_norm_squared\u001B[0m\u001B[0;34m,\u001B[0m \u001B[0msquared\u001B[0m\u001B[0;34m)\u001B[0m\u001B[0;34m\u001B[0m\u001B[0;34m\u001B[0m\u001B[0m\n\u001B[0m\u001B[1;32m    331\u001B[0m \u001B[0;34m\u001B[0m\u001B[0m\n\u001B[1;32m    332\u001B[0m \u001B[0;34m\u001B[0m\u001B[0m\n",
      "\u001B[0;32m~/.local/lib/python3.7/site-packages/sklearn/metrics/pairwise.py\u001B[0m in \u001B[0;36m_euclidean_distances\u001B[0;34m(X, Y, X_norm_squared, Y_norm_squared, squared)\u001B[0m\n\u001B[1;32m    369\u001B[0m     \u001B[0;32melse\u001B[0m\u001B[0;34m:\u001B[0m\u001B[0;34m\u001B[0m\u001B[0;34m\u001B[0m\u001B[0m\n\u001B[1;32m    370\u001B[0m         \u001B[0;31m# if dtype is already float64, no need to chunk and upcast\u001B[0m\u001B[0;34m\u001B[0m\u001B[0;34m\u001B[0m\u001B[0;34m\u001B[0m\u001B[0m\n\u001B[0;32m--> 371\u001B[0;31m         \u001B[0mdistances\u001B[0m \u001B[0;34m=\u001B[0m \u001B[0;34m-\u001B[0m\u001B[0;36m2\u001B[0m \u001B[0;34m*\u001B[0m \u001B[0msafe_sparse_dot\u001B[0m\u001B[0;34m(\u001B[0m\u001B[0mX\u001B[0m\u001B[0;34m,\u001B[0m \u001B[0mY\u001B[0m\u001B[0;34m.\u001B[0m\u001B[0mT\u001B[0m\u001B[0;34m,\u001B[0m \u001B[0mdense_output\u001B[0m\u001B[0;34m=\u001B[0m\u001B[0;32mTrue\u001B[0m\u001B[0;34m)\u001B[0m\u001B[0;34m\u001B[0m\u001B[0;34m\u001B[0m\u001B[0m\n\u001B[0m\u001B[1;32m    372\u001B[0m         \u001B[0mdistances\u001B[0m \u001B[0;34m+=\u001B[0m \u001B[0mXX\u001B[0m\u001B[0;34m\u001B[0m\u001B[0;34m\u001B[0m\u001B[0m\n\u001B[1;32m    373\u001B[0m         \u001B[0mdistances\u001B[0m \u001B[0;34m+=\u001B[0m \u001B[0mYY\u001B[0m\u001B[0;34m\u001B[0m\u001B[0;34m\u001B[0m\u001B[0m\n",
      "\u001B[0;32m~/.local/lib/python3.7/site-packages/sklearn/utils/extmath.py\u001B[0m in \u001B[0;36msafe_sparse_dot\u001B[0;34m(a, b, dense_output)\u001B[0m\n\u001B[1;32m    151\u001B[0m             \u001B[0mret\u001B[0m \u001B[0;34m=\u001B[0m \u001B[0mnp\u001B[0m\u001B[0;34m.\u001B[0m\u001B[0mdot\u001B[0m\u001B[0;34m(\u001B[0m\u001B[0ma\u001B[0m\u001B[0;34m,\u001B[0m \u001B[0mb\u001B[0m\u001B[0;34m)\u001B[0m\u001B[0;34m\u001B[0m\u001B[0;34m\u001B[0m\u001B[0m\n\u001B[1;32m    152\u001B[0m     \u001B[0;32melse\u001B[0m\u001B[0;34m:\u001B[0m\u001B[0;34m\u001B[0m\u001B[0;34m\u001B[0m\u001B[0m\n\u001B[0;32m--> 153\u001B[0;31m         \u001B[0mret\u001B[0m \u001B[0;34m=\u001B[0m \u001B[0ma\u001B[0m \u001B[0;34m@\u001B[0m \u001B[0mb\u001B[0m\u001B[0;34m\u001B[0m\u001B[0;34m\u001B[0m\u001B[0m\n\u001B[0m\u001B[1;32m    154\u001B[0m \u001B[0;34m\u001B[0m\u001B[0m\n\u001B[1;32m    155\u001B[0m     if (\n",
      "\u001B[0;31mKeyboardInterrupt\u001B[0m: "
     ]
    }
   ],
   "source": [
    "y_pred = modelknn.predict(x_test)\n",
    "print(true_score(y_test, y_pred))"
   ],
   "metadata": {
    "collapsed": false,
    "pycharm": {
     "name": "#%%\n"
    }
   }
  },
  {
   "cell_type": "code",
   "execution_count": null,
   "outputs": [],
   "source": [
    "from sklearn.metrics import confusion_matrix\n",
    "cm = pd.DataFrame(\n",
    "    confusion_matrix(y_test, y_pred),\n",
    "    index = [1,2,3,4,5,6,7,8,9],\n",
    "    columns = [1,2,3,4,5,6,7,8,9]\n",
    ")\n",
    "print(cm)"
   ],
   "metadata": {
    "collapsed": false,
    "pycharm": {
     "name": "#%%\n"
    }
   }
  },
  {
   "cell_type": "code",
   "execution_count": 33,
   "outputs": [
    {
     "data": {
      "text/plain": "GradientBoostingClassifier()"
     },
     "execution_count": 33,
     "metadata": {},
     "output_type": "execute_result"
    }
   ],
   "source": [
    "from sklearn.ensemble import GradientBoostingClassifier\n",
    "modelgbdt = GradientBoostingClassifier()\n",
    "modelgbdt.fit(x_train, y_train)"
   ],
   "metadata": {
    "collapsed": false,
    "pycharm": {
     "name": "#%%\n"
    }
   }
  },
  {
   "cell_type": "code",
   "execution_count": 34,
   "outputs": [
    {
     "name": "stdout",
     "output_type": "stream",
     "text": [
      "差距 0.8491492569459401\n",
      "0.5527029937540383\n"
     ]
    }
   ],
   "source": [
    "y_pred = modelgbdt.predict(x_test)\n",
    "print(true_score(y_test, y_pred))"
   ],
   "metadata": {
    "collapsed": false,
    "pycharm": {
     "name": "#%%\n"
    }
   }
  },
  {
   "cell_type": "code",
   "execution_count": 35,
   "outputs": [
    {
     "name": "stdout",
     "output_type": "stream",
     "text": [
      "       1  2  3  4  5  6  7  8  9\n",
      "1  25662  0  0  0  0  0  0  0  0\n",
      "2   9006  0  0  0  0  0  0  0  0\n",
      "3   7725  0  0  0  0  0  0  0  0\n",
      "4   1917  0  0  0  0  0  0  0  0\n",
      "5   1407  0  0  0  0  0  0  0  0\n",
      "6    694  0  0  0  0  0  0  0  0\n",
      "7     13  0  0  0  0  0  0  0  0\n",
      "8      5  0  0  0  0  0  0  0  0\n",
      "9      1  0  0  0  0  0  0  0  0\n"
     ]
    }
   ],
   "source": [
    "from sklearn.metrics import confusion_matrix\n",
    "cm = pd.DataFrame(\n",
    "    confusion_matrix(y_test, y_pred),\n",
    "    index = [1,2,3,4,5,6,7,8,9],\n",
    "    columns = [1,2,3,4,5,6,7,8,9]\n",
    ")\n",
    "print(cm)"
   ],
   "metadata": {
    "collapsed": false,
    "pycharm": {
     "name": "#%%\n"
    }
   }
  },
  {
   "cell_type": "code",
   "execution_count": null,
   "outputs": [],
   "source": [],
   "metadata": {
    "collapsed": false,
    "pycharm": {
     "name": "#%%\n"
    }
   }
  }
 ],
 "metadata": {
  "kernelspec": {
   "display_name": "Python 3",
   "language": "python",
   "name": "python3"
  },
  "language_info": {
   "codemirror_mode": {
    "name": "ipython",
    "version": 2
   },
   "file_extension": ".py",
   "mimetype": "text/x-python",
   "name": "python",
   "nbconvert_exporter": "python",
   "pygments_lexer": "ipython2",
   "version": "2.7.6"
  }
 },
 "nbformat": 4,
 "nbformat_minor": 0
}