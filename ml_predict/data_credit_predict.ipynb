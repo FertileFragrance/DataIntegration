{
 "cells": [
  {
   "cell_type": "code",
   "execution_count": 1,
   "metadata": {
    "collapsed": true,
    "pycharm": {
     "name": "#%%\n"
    }
   },
   "outputs": [],
   "source": [
    "import pandas as pd\n",
    "from clickhouse_driver import Client\n",
    "\n",
    "host = \"localhost\"\n",
    "port = 9099\n",
    "user = \"sjjc\"\n",
    "password = \"taosan506\"\n",
    "database = \"dm\"\n",
    "send_receive_timeout = 10\n",
    "client = Client(host=host, port=port, user=user, password=password, database=database,\n",
    "                send_receive_timeout=send_receive_timeout)\n",
    "credit_df_list_sql = \"\"\"\n",
    "select uid, credit_level from dm.pri_credit_info;\n",
    "\"\"\"\n",
    "credit_df_list = client.execute(credit_df_list_sql)\n",
    "attr_list = ['uid', 'credit_level']\n",
    "credit_df = pd.DataFrame(columns=attr_list, data=credit_df_list)\n",
    "credit_df.set_index('uid', inplace=True)"
   ]
  },
  {
   "cell_type": "code",
   "execution_count": 2,
   "outputs": [],
   "source": [
    "df= pd.read_csv(\"./result.csv\",encoding='utf-8')\n",
    "df.set_index('uid', inplace=True)"
   ],
   "metadata": {
    "collapsed": false,
    "pycharm": {
     "name": "#%%\n"
    }
   }
  },
  {
   "cell_type": "code",
   "execution_count": 3,
   "outputs": [],
   "source": [
    "df.fillna(0,inplace=True)"
   ],
   "metadata": {
    "collapsed": false,
    "pycharm": {
     "name": "#%%\n"
    }
   }
  },
  {
   "cell_type": "code",
   "execution_count": 4,
   "outputs": [],
   "source": [
    "data_all = pd.merge(credit_df,df,how='left',left_index=True, right_index = True,sort=False,copy=True)"
   ],
   "metadata": {
    "collapsed": false,
    "pycharm": {
     "name": "#%%\n"
    }
   }
  },
  {
   "cell_type": "code",
   "execution_count": 5,
   "outputs": [],
   "source": [
    "from sklearn.model_selection import train_test_split\n",
    "data_all['credit_level'] = data_all['credit_level'].apply(int)\n",
    "known_data = data_all[(data_all['credit_level']!=-1)]\n",
    "target_data = data_all[(data_all['credit_level']==-1)]\n",
    "x = known_data.iloc[:,1:]\n",
    "y = known_data.iloc[:,0:1]['credit_level'].tolist()"
   ],
   "metadata": {
    "collapsed": false,
    "pycharm": {
     "name": "#%%\n"
    }
   }
  },
  {
   "cell_type": "code",
   "execution_count": 6,
   "outputs": [],
   "source": [
    "x_train, x_test, y_train,y_test = train_test_split(x, y, test_size=0.25)"
   ],
   "metadata": {
    "collapsed": false,
    "pycharm": {
     "name": "#%%\n"
    }
   }
  },
  {
   "cell_type": "code",
   "execution_count": 18,
   "outputs": [
    {
     "name": "stdout",
     "output_type": "stream",
     "text": [
      "35 训练集次数 6 测试集次数 1\n",
      "50 训练集次数 93 测试集次数 23\n",
      "60 训练集次数 14057 测试集次数 4698\n",
      "70 训练集次数 5984 测试集次数 1972\n",
      "85 训练集次数 2740 测试集次数 933\n"
     ]
    }
   ],
   "source": [
    "for i in [35,50,60,70,85]:\n",
    "    print(i,\"训练集次数\",y_train.count(i),\"测试集次数\",y_test.count(i))"
   ],
   "metadata": {
    "collapsed": false,
    "pycharm": {
     "name": "#%%\n"
    }
   }
  },
  {
   "cell_type": "code",
   "execution_count": 8,
   "outputs": [],
   "source": [
    "from sklearn.linear_model import LogisticRegression\n",
    "log_reg = LogisticRegression(multi_class='multinomial',solver='newton-cg',max_iter=500)"
   ],
   "metadata": {
    "collapsed": false,
    "pycharm": {
     "name": "#%%\n"
    }
   }
  },
  {
   "cell_type": "code",
   "execution_count": 9,
   "outputs": [
    {
     "name": "stderr",
     "output_type": "stream",
     "text": [
      "/home/fguohao/.local/lib/python3.7/site-packages/sklearn/utils/optimize.py:212: ConvergenceWarning: newton-cg failed to converge. Increase the number of iterations.\n",
      "  ConvergenceWarning,\n"
     ]
    }
   ],
   "source": [
    "log_reg.fit(x_train, y_train)\n",
    "predict_train = log_reg.predict(x_train)"
   ],
   "metadata": {
    "collapsed": false,
    "pycharm": {
     "name": "#%%\n"
    }
   }
  },
  {
   "cell_type": "code",
   "execution_count": 10,
   "outputs": [],
   "source": [
    "predict_test = log_reg.predict(x_test)"
   ],
   "metadata": {
    "collapsed": false,
    "pycharm": {
     "name": "#%%\n"
    }
   }
  },
  {
   "cell_type": "code",
   "execution_count": 11,
   "outputs": [],
   "source": [
    "def true_score(result, test):\n",
    "    t = 0\n",
    "    full_def = 0\n",
    "    for i in range(len(result)):\n",
    "        if result[i]!=test[i]:\n",
    "            t = t+1\n",
    "            full_def = full_def + abs(int(result[i])-int(test[i]))\n",
    "    print(full_def/len(test))\n",
    "    return 1-t/len(result)"
   ],
   "metadata": {
    "collapsed": false,
    "pycharm": {
     "name": "#%%\n"
    }
   }
  },
  {
   "cell_type": "code",
   "execution_count": 12,
   "outputs": [
    {
     "name": "stdout",
     "output_type": "stream",
     "text": [
      "5.328234265734266\n",
      "0.6251311188811188\n",
      "5.352694375245838\n",
      "0.624229710239937\n"
     ]
    }
   ],
   "source": [
    "print(true_score(predict_train, y_train))\n",
    "print(true_score(predict_test,y_test))"
   ],
   "metadata": {
    "collapsed": false,
    "pycharm": {
     "name": "#%%\n"
    }
   }
  },
  {
   "cell_type": "code",
   "execution_count": 13,
   "outputs": [
    {
     "name": "stdout",
     "output_type": "stream",
     "text": [
      "    35  50    60   70  85\n",
      "35   0   0     1    0   0\n",
      "50   0   0    20    3   0\n",
      "60   0   5  4446  241   6\n",
      "70   0   3  1651  311   7\n",
      "85   0   0   732  197   4\n"
     ]
    }
   ],
   "source": [
    "from sklearn.metrics import confusion_matrix\n",
    "cm = pd.DataFrame(\n",
    "    confusion_matrix(y_test, predict_test),\n",
    "    index = [35,50,60,70,85],\n",
    "    columns = [35,50,60,70,85]\n",
    ")\n",
    "print(cm)"
   ],
   "metadata": {
    "collapsed": false,
    "pycharm": {
     "name": "#%%\n"
    }
   }
  },
  {
   "cell_type": "code",
   "execution_count": null,
   "outputs": [],
   "source": [],
   "metadata": {
    "collapsed": false,
    "pycharm": {
     "name": "#%%\n"
    }
   }
  },
  {
   "cell_type": "code",
   "execution_count": 36,
   "outputs": [
    {
     "data": {
      "text/plain": "RandomForestClassifier(max_leaf_nodes=10000, n_estimators=750, n_jobs=-1)"
     },
     "execution_count": 36,
     "metadata": {},
     "output_type": "execute_result"
    }
   ],
   "source": [
    "from sklearn.ensemble import RandomForestClassifier\n",
    "rf_clf = RandomForestClassifier(n_estimators=750\n",
    ",n_jobs=-1,max_leaf_nodes=10000)\n",
    "rf_clf.fit(x_train,y_train)\n"
   ],
   "metadata": {
    "collapsed": false,
    "pycharm": {
     "name": "#%%\n"
    }
   }
  },
  {
   "cell_type": "code",
   "execution_count": 37,
   "outputs": [],
   "source": [
    "y_pred = rf_clf.predict(x_test)"
   ],
   "metadata": {
    "collapsed": false,
    "pycharm": {
     "name": "#%%\n"
    }
   }
  },
  {
   "cell_type": "code",
   "execution_count": 38,
   "outputs": [
    {
     "name": "stdout",
     "output_type": "stream",
     "text": [
      "    35  50    60    70   85\n",
      "35   0   0     0     1    0\n",
      "50   0   0    17     6    0\n",
      "60   0   0  4162   481   55\n",
      "70   0   0   642  1168  162\n",
      "85   0   0   211   537  185\n"
     ]
    }
   ],
   "source": [
    "from sklearn.metrics import confusion_matrix\n",
    "cm = pd.DataFrame(\n",
    "    confusion_matrix(y_test, y_pred),\n",
    "    index = [35,50,60,70,85],\n",
    "    columns = [35,50,60,70,85]\n",
    ")\n",
    "print(cm)"
   ],
   "metadata": {
    "collapsed": false,
    "pycharm": {
     "name": "#%%\n"
    }
   }
  },
  {
   "cell_type": "code",
   "execution_count": 39,
   "outputs": [
    {
     "name": "stdout",
     "output_type": "stream",
     "text": [
      "3.7616362921201\n",
      "0.7230890258292907\n"
     ]
    }
   ],
   "source": [
    "print(true_score(y_test, y_pred))"
   ],
   "metadata": {
    "collapsed": false,
    "pycharm": {
     "name": "#%%\n"
    }
   }
  },
  {
   "cell_type": "code",
   "execution_count": 50,
   "outputs": [],
   "source": [
    "x_target = target_data.iloc[:,1:]\n",
    "y_target = target_data.iloc[:,0:1]['credit_level'].tolist()\n",
    "y_result = rf_clf.predict(x_target)\n",
    "i = 0\n",
    "ans = []\n",
    "for item in x_target.iterrows():\n",
    "    ans.append((item[0],y_result[i]))\n",
    "    i = i+1"
   ],
   "metadata": {
    "collapsed": false,
    "pycharm": {
     "name": "#%%\n"
    }
   }
  },
  {
   "cell_type": "code",
   "execution_count": 51,
   "outputs": [],
   "source": [
    "dataans = pd.DataFrame(columns=['uid','credit_level'], data=ans)\n",
    "dataans.to_csv('credit_level_result.csv',index=False, encoding='utf-8')"
   ],
   "metadata": {
    "collapsed": false,
    "pycharm": {
     "name": "#%%\n"
    }
   }
  }
 ],
 "metadata": {
  "kernelspec": {
   "display_name": "Python 3",
   "language": "python",
   "name": "python3"
  },
  "language_info": {
   "codemirror_mode": {
    "name": "ipython",
    "version": 2
   },
   "file_extension": ".py",
   "mimetype": "text/x-python",
   "name": "python",
   "nbconvert_exporter": "python",
   "pygments_lexer": "ipython2",
   "version": "2.7.6"
  }
 },
 "nbformat": 4,
 "nbformat_minor": 0
}