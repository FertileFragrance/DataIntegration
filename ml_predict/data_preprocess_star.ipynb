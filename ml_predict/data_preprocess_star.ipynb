{
 "cells": [
  {
   "cell_type": "code",
   "execution_count": 1,
   "metadata": {
    "collapsed": true,
    "pycharm": {
     "name": "#%%\n"
    }
   },
   "outputs": [
    {
     "data": {
      "text/plain": "                    djk_num  normal_djk_num  abnormal_djk_num  not_using_djk  \\\nuid                                                                            \n110103195608215687      0.0             0.0               0.0            0.0   \n11010319750908502X      0.0             0.0               0.0            0.0   \n110104197003065474      0.0             0.0               0.0            0.0   \n11010420141003552X      0.0             0.0               0.0            0.0   \n110110196711285649      0.0             0.0               0.0            0.0   \n...                     ...             ...               ...            ...   \n810000200811269255      0.0             0.0               0.0            0.0   \n830000194403109397      0.0             0.0               0.0            0.0   \n830000197007029225      0.0             0.0               0.0            0.0   \n830000200706189396      0.0             0.0               0.0            0.0   \n91320982840521971X      0.0             0.0               0.0            0.0   \n\n                    bal_duebill  normal_bal_duebill  online_tran_duebill  \\\nuid                                                                        \n110103195608215687          0.0                 0.0                  0.0   \n11010319750908502X          0.0                 0.0                  0.0   \n110104197003065474          0.0                 0.0                  0.0   \n11010420141003552X          0.0                 0.0                  0.0   \n110110196711285649          0.0                 0.0                  0.0   \n...                         ...                 ...                  ...   \n810000200811269255          0.0                 0.0                  0.0   \n830000194403109397          0.0                 0.0                  0.0   \n830000197007029225          0.0                 0.0                  0.0   \n830000200706189396          0.0                 0.0                  0.0   \n91320982840521971X          0.0                 0.0                  0.0   \n\n                    offline_tran_duebill  has_car_etc  has_personal_bank_grwy  \\\nuid                                                                             \n110103195608215687                   0.0          0.0                     0.0   \n11010319750908502X                   0.0          0.0                     0.0   \n110104197003065474                   0.0          0.0                     0.0   \n11010420141003552X                   0.0          0.0                     0.0   \n110110196711285649                   0.0          0.0                     0.0   \n...                                  ...          ...                     ...   \n810000200811269255                   0.0          0.0                     0.0   \n830000194403109397                   0.0          0.0                     0.0   \n830000197007029225                   0.0          0.0                     0.0   \n830000200706189396                   0.0          0.0                     0.0   \n91320982840521971X                   0.0          0.0                     0.0   \n\n                    ...  tran_amt_huanb  tran_times_huanb  tran_amt_duebill  \\\nuid                 ...                                                       \n110103195608215687  ...             0.0               0.0               0.0   \n11010319750908502X  ...             0.0               0.0               0.0   \n110104197003065474  ...             0.0               0.0               0.0   \n11010420141003552X  ...             0.0               0.0               0.0   \n110110196711285649  ...             0.0               0.0               0.0   \n...                 ...             ...               ...               ...   \n810000200811269255  ...             0.0               0.0               0.0   \n830000194403109397  ...             0.0               0.0               0.0   \n830000197007029225  ...             0.0               0.0               0.0   \n830000200706189396  ...             0.0               0.0               0.0   \n91320982840521971X  ...             0.0               0.0               0.0   \n\n                    tran_times_duebill  tran_amt_etc  tran_times_etc  \\\nuid                                                                    \n110103195608215687                 0.0           0.0             0.0   \n11010319750908502X                 0.0           0.0             0.0   \n110104197003065474                 0.0           0.0             0.0   \n11010420141003552X                 0.0           0.0             0.0   \n110110196711285649                 0.0           0.0             0.0   \n...                                ...           ...             ...   \n810000200811269255                 0.0           0.0             0.0   \n830000194403109397                 0.0           0.0             0.0   \n830000197007029225                 0.0           0.0             0.0   \n830000200706189396                 0.0           0.0             0.0   \n91320982840521971X                 0.0           0.0             0.0   \n\n                    tran_amt_grwy  tran_times_grwy  tran_amt_gzdf  \\\nuid                                                                 \n110103195608215687            0.0              0.0            0.0   \n11010319750908502X            0.0              0.0            0.0   \n110104197003065474            0.0              0.0            0.0   \n11010420141003552X            0.0              0.0            0.0   \n110110196711285649            0.0              0.0            0.0   \n...                           ...              ...            ...   \n810000200811269255            0.0              0.0          157.0   \n830000194403109397            0.0              0.0            0.0   \n830000197007029225            0.0              0.0            0.0   \n830000200706189396            0.0              0.0          260.0   \n91320982840521971X            0.0              0.0          682.8   \n\n                    tran_times_gzdf  \nuid                                  \n110103195608215687              0.0  \n11010319750908502X              0.0  \n110104197003065474              0.0  \n11010420141003552X              0.0  \n110110196711285649              0.0  \n...                             ...  \n810000200811269255              3.0  \n830000194403109397              0.0  \n830000197007029225              0.0  \n830000200706189396              1.0  \n91320982840521971X              2.0  \n\n[376430 rows x 25 columns]",
      "text/html": "<div>\n<style scoped>\n    .dataframe tbody tr th:only-of-type {\n        vertical-align: middle;\n    }\n\n    .dataframe tbody tr th {\n        vertical-align: top;\n    }\n\n    .dataframe thead th {\n        text-align: right;\n    }\n</style>\n<table border=\"1\" class=\"dataframe\">\n  <thead>\n    <tr style=\"text-align: right;\">\n      <th></th>\n      <th>djk_num</th>\n      <th>normal_djk_num</th>\n      <th>abnormal_djk_num</th>\n      <th>not_using_djk</th>\n      <th>bal_duebill</th>\n      <th>normal_bal_duebill</th>\n      <th>online_tran_duebill</th>\n      <th>offline_tran_duebill</th>\n      <th>has_car_etc</th>\n      <th>has_personal_bank_grwy</th>\n      <th>...</th>\n      <th>tran_amt_huanb</th>\n      <th>tran_times_huanb</th>\n      <th>tran_amt_duebill</th>\n      <th>tran_times_duebill</th>\n      <th>tran_amt_etc</th>\n      <th>tran_times_etc</th>\n      <th>tran_amt_grwy</th>\n      <th>tran_times_grwy</th>\n      <th>tran_amt_gzdf</th>\n      <th>tran_times_gzdf</th>\n    </tr>\n    <tr>\n      <th>uid</th>\n      <th></th>\n      <th></th>\n      <th></th>\n      <th></th>\n      <th></th>\n      <th></th>\n      <th></th>\n      <th></th>\n      <th></th>\n      <th></th>\n      <th></th>\n      <th></th>\n      <th></th>\n      <th></th>\n      <th></th>\n      <th></th>\n      <th></th>\n      <th></th>\n      <th></th>\n      <th></th>\n      <th></th>\n    </tr>\n  </thead>\n  <tbody>\n    <tr>\n      <th>110103195608215687</th>\n      <td>0.0</td>\n      <td>0.0</td>\n      <td>0.0</td>\n      <td>0.0</td>\n      <td>0.0</td>\n      <td>0.0</td>\n      <td>0.0</td>\n      <td>0.0</td>\n      <td>0.0</td>\n      <td>0.0</td>\n      <td>...</td>\n      <td>0.0</td>\n      <td>0.0</td>\n      <td>0.0</td>\n      <td>0.0</td>\n      <td>0.0</td>\n      <td>0.0</td>\n      <td>0.0</td>\n      <td>0.0</td>\n      <td>0.0</td>\n      <td>0.0</td>\n    </tr>\n    <tr>\n      <th>11010319750908502X</th>\n      <td>0.0</td>\n      <td>0.0</td>\n      <td>0.0</td>\n      <td>0.0</td>\n      <td>0.0</td>\n      <td>0.0</td>\n      <td>0.0</td>\n      <td>0.0</td>\n      <td>0.0</td>\n      <td>0.0</td>\n      <td>...</td>\n      <td>0.0</td>\n      <td>0.0</td>\n      <td>0.0</td>\n      <td>0.0</td>\n      <td>0.0</td>\n      <td>0.0</td>\n      <td>0.0</td>\n      <td>0.0</td>\n      <td>0.0</td>\n      <td>0.0</td>\n    </tr>\n    <tr>\n      <th>110104197003065474</th>\n      <td>0.0</td>\n      <td>0.0</td>\n      <td>0.0</td>\n      <td>0.0</td>\n      <td>0.0</td>\n      <td>0.0</td>\n      <td>0.0</td>\n      <td>0.0</td>\n      <td>0.0</td>\n      <td>0.0</td>\n      <td>...</td>\n      <td>0.0</td>\n      <td>0.0</td>\n      <td>0.0</td>\n      <td>0.0</td>\n      <td>0.0</td>\n      <td>0.0</td>\n      <td>0.0</td>\n      <td>0.0</td>\n      <td>0.0</td>\n      <td>0.0</td>\n    </tr>\n    <tr>\n      <th>11010420141003552X</th>\n      <td>0.0</td>\n      <td>0.0</td>\n      <td>0.0</td>\n      <td>0.0</td>\n      <td>0.0</td>\n      <td>0.0</td>\n      <td>0.0</td>\n      <td>0.0</td>\n      <td>0.0</td>\n      <td>0.0</td>\n      <td>...</td>\n      <td>0.0</td>\n      <td>0.0</td>\n      <td>0.0</td>\n      <td>0.0</td>\n      <td>0.0</td>\n      <td>0.0</td>\n      <td>0.0</td>\n      <td>0.0</td>\n      <td>0.0</td>\n      <td>0.0</td>\n    </tr>\n    <tr>\n      <th>110110196711285649</th>\n      <td>0.0</td>\n      <td>0.0</td>\n      <td>0.0</td>\n      <td>0.0</td>\n      <td>0.0</td>\n      <td>0.0</td>\n      <td>0.0</td>\n      <td>0.0</td>\n      <td>0.0</td>\n      <td>0.0</td>\n      <td>...</td>\n      <td>0.0</td>\n      <td>0.0</td>\n      <td>0.0</td>\n      <td>0.0</td>\n      <td>0.0</td>\n      <td>0.0</td>\n      <td>0.0</td>\n      <td>0.0</td>\n      <td>0.0</td>\n      <td>0.0</td>\n    </tr>\n    <tr>\n      <th>...</th>\n      <td>...</td>\n      <td>...</td>\n      <td>...</td>\n      <td>...</td>\n      <td>...</td>\n      <td>...</td>\n      <td>...</td>\n      <td>...</td>\n      <td>...</td>\n      <td>...</td>\n      <td>...</td>\n      <td>...</td>\n      <td>...</td>\n      <td>...</td>\n      <td>...</td>\n      <td>...</td>\n      <td>...</td>\n      <td>...</td>\n      <td>...</td>\n      <td>...</td>\n      <td>...</td>\n    </tr>\n    <tr>\n      <th>810000200811269255</th>\n      <td>0.0</td>\n      <td>0.0</td>\n      <td>0.0</td>\n      <td>0.0</td>\n      <td>0.0</td>\n      <td>0.0</td>\n      <td>0.0</td>\n      <td>0.0</td>\n      <td>0.0</td>\n      <td>0.0</td>\n      <td>...</td>\n      <td>0.0</td>\n      <td>0.0</td>\n      <td>0.0</td>\n      <td>0.0</td>\n      <td>0.0</td>\n      <td>0.0</td>\n      <td>0.0</td>\n      <td>0.0</td>\n      <td>157.0</td>\n      <td>3.0</td>\n    </tr>\n    <tr>\n      <th>830000194403109397</th>\n      <td>0.0</td>\n      <td>0.0</td>\n      <td>0.0</td>\n      <td>0.0</td>\n      <td>0.0</td>\n      <td>0.0</td>\n      <td>0.0</td>\n      <td>0.0</td>\n      <td>0.0</td>\n      <td>0.0</td>\n      <td>...</td>\n      <td>0.0</td>\n      <td>0.0</td>\n      <td>0.0</td>\n      <td>0.0</td>\n      <td>0.0</td>\n      <td>0.0</td>\n      <td>0.0</td>\n      <td>0.0</td>\n      <td>0.0</td>\n      <td>0.0</td>\n    </tr>\n    <tr>\n      <th>830000197007029225</th>\n      <td>0.0</td>\n      <td>0.0</td>\n      <td>0.0</td>\n      <td>0.0</td>\n      <td>0.0</td>\n      <td>0.0</td>\n      <td>0.0</td>\n      <td>0.0</td>\n      <td>0.0</td>\n      <td>0.0</td>\n      <td>...</td>\n      <td>0.0</td>\n      <td>0.0</td>\n      <td>0.0</td>\n      <td>0.0</td>\n      <td>0.0</td>\n      <td>0.0</td>\n      <td>0.0</td>\n      <td>0.0</td>\n      <td>0.0</td>\n      <td>0.0</td>\n    </tr>\n    <tr>\n      <th>830000200706189396</th>\n      <td>0.0</td>\n      <td>0.0</td>\n      <td>0.0</td>\n      <td>0.0</td>\n      <td>0.0</td>\n      <td>0.0</td>\n      <td>0.0</td>\n      <td>0.0</td>\n      <td>0.0</td>\n      <td>0.0</td>\n      <td>...</td>\n      <td>0.0</td>\n      <td>0.0</td>\n      <td>0.0</td>\n      <td>0.0</td>\n      <td>0.0</td>\n      <td>0.0</td>\n      <td>0.0</td>\n      <td>0.0</td>\n      <td>260.0</td>\n      <td>1.0</td>\n    </tr>\n    <tr>\n      <th>91320982840521971X</th>\n      <td>0.0</td>\n      <td>0.0</td>\n      <td>0.0</td>\n      <td>0.0</td>\n      <td>0.0</td>\n      <td>0.0</td>\n      <td>0.0</td>\n      <td>0.0</td>\n      <td>0.0</td>\n      <td>0.0</td>\n      <td>...</td>\n      <td>0.0</td>\n      <td>0.0</td>\n      <td>0.0</td>\n      <td>0.0</td>\n      <td>0.0</td>\n      <td>0.0</td>\n      <td>0.0</td>\n      <td>0.0</td>\n      <td>682.8</td>\n      <td>2.0</td>\n    </tr>\n  </tbody>\n</table>\n<p>376430 rows × 25 columns</p>\n</div>"
     },
     "execution_count": 1,
     "metadata": {},
     "output_type": "execute_result"
    }
   ],
   "source": [
    "import pandas as pd"
   ]
  },
  {
   "cell_type": "code",
   "execution_count": 2,
   "outputs": [],
   "source": [
    "from clickhouse_driver import Client\n",
    "\n",
    "host = \"localhost\"\n",
    "port = 9099\n",
    "user = \"sjjc\"\n",
    "password = \"taosan506\"\n",
    "database = \"dm\"\n",
    "send_receive_timeout = 10\n",
    "client = Client(host=host, port=port, user=user, password=password, database=database,\n",
    "                send_receive_timeout=send_receive_timeout)\n",
    "df16_other_sql = \"\"\"\n",
    "select * from Result_16plus;\n",
    "\"\"\"\n",
    "df16_other_list = client.execute(df16_other_sql)"
   ],
   "metadata": {
    "collapsed": false,
    "pycharm": {
     "name": "#%%\n"
    }
   }
  },
  {
   "cell_type": "code",
   "execution_count": 3,
   "outputs": [],
   "source": [
    "attr_list = ['uid', 'sjyh_tran_amt_count', 'sjyh_tran_amt_sum', 'cust_bal_sum', 'cust_all_bal_sum', 'cust_sa_bal', 'cust_fin_bal', 'cust_cd_bal', 'is_black', 'career', 'base_sumloan_amt', 'base_count_loan_amt', 'base_sum_loan_bal', 'base_sum_credit_amt', 'base_max_frst_intr', 'base_max_actu_intr', 'base_max_guar_con_value', 'base_max_book_acct_amt', 'owed_int_times_90l', 'owed_int_times_90g', 'overdue_times_90l', 'overdue_times_90g', 'base_all_bal', 'base_bad_bal', 'base_due_intr', 'base_norm_bal', 'base_delay_bal', 'sex', 'birthday', 'education', 'marrige', 'reg_add', 'home_add']\n",
    "new_data_df = pd.DataFrame(columns=attr_list, data=df16_other_list)"
   ],
   "metadata": {
    "collapsed": false,
    "pycharm": {
     "name": "#%%\n"
    }
   }
  },
  {
   "cell_type": "code",
   "execution_count": 8,
   "outputs": [],
   "source": [
    "new_data_df=new_data_df.fillna({\n",
    "    'sjyh_tran_amt_count' :0 ,\n",
    "    'sjyh_tran_amt_sum' :0 ,\n",
    "    'cust_bal_sum' :0 ,\n",
    "    'cust_all_bal_sum' :0 ,\n",
    "    'cust_sa_bal'  :0 ,\n",
    "    'cust_fin_bal'  :0 ,\n",
    "    'cust_cd_bal'  :0 ,\n",
    "    'is_black' :0 ,\n",
    "    'career'  :0 ,\n",
    "    'base_sumloan_amt' :0 ,\n",
    "    'base_count_loan_amt' :0 ,\n",
    "    'base_sum_loan_bal':0 ,\n",
    "    'base_sum_credit_amt':0 ,\n",
    "    'base_max_frst_intr':0 ,\n",
    "    'base_max_actu_intr':0 ,\n",
    "    'base_max_guar_con_value':0 ,\n",
    "    'base_max_book_acct_amt':0,\n",
    "    'owed_int_times_90l':0,\n",
    "    'owed_int_times_90g':0,\n",
    "    'overdue_times_90l':0,\n",
    "    'overdue_times_90g':0,\n",
    "    'base_all_bal':0,\n",
    "    'base_bad_bal':0,\n",
    "    'base_due_intr':0,\n",
    "    'base_norm_bal':0,\n",
    "    'base_delay_bal':0,\n",
    "    'sex':0,\n",
    "    'birthday':0,\n",
    "    'education':0,\n",
    "    'marrige':0,\n",
    "    'reg_add':0,\n",
    "    'home_add':0\n",
    "})"
   ],
   "metadata": {
    "collapsed": false,
    "pycharm": {
     "name": "#%%\n"
    }
   }
  },
  {
   "cell_type": "code",
   "execution_count": 9,
   "outputs": [],
   "source": [
    "def is_black_convert(s):\n",
    "    if s=='Y':\n",
    "        return 1\n",
    "    elif s=='N':\n",
    "        return 0\n",
    "    return -1"
   ],
   "metadata": {
    "collapsed": false,
    "pycharm": {
     "name": "#%%\n"
    }
   }
  },
  {
   "cell_type": "code",
   "execution_count": 11,
   "outputs": [],
   "source": [
    "new_data_df['is_black'] = new_data_df['is_black'].apply(is_black_convert)"
   ],
   "metadata": {
    "collapsed": false,
    "pycharm": {
     "name": "#%%\n"
    }
   }
  },
  {
   "cell_type": "code",
   "execution_count": 12,
   "outputs": [],
   "source": [
    "def gender_convert(s):\n",
    "    if s=='男':\n",
    "        return 1\n",
    "    elif s=='女':\n",
    "        return 0\n",
    "    return -1"
   ],
   "metadata": {
    "collapsed": false,
    "pycharm": {
     "name": "#%%\n"
    }
   }
  },
  {
   "cell_type": "code",
   "execution_count": 13,
   "outputs": [],
   "source": [
    "new_data_df['sex'] = new_data_df['sex'].apply(gender_convert)"
   ],
   "metadata": {
    "collapsed": false,
    "pycharm": {
     "name": "#%%\n"
    }
   }
  },
  {
   "cell_type": "code",
   "execution_count": 14,
   "outputs": [],
   "source": [
    "def birthdat_convert(s):\n",
    "    b = 2022-int(s[0:4])\n",
    "    if b<0 or b>200:\n",
    "        return -1\n",
    "    return b"
   ],
   "metadata": {
    "collapsed": false,
    "pycharm": {
     "name": "#%%\n"
    }
   }
  },
  {
   "cell_type": "code",
   "execution_count": 15,
   "outputs": [],
   "source": [
    "new_data_df['birthday'] = new_data_df['birthday'].apply(birthdat_convert)"
   ],
   "metadata": {
    "collapsed": false,
    "pycharm": {
     "name": "#%%\n"
    }
   }
  },
  {
   "cell_type": "code",
   "execution_count": 16,
   "outputs": [],
   "source": [
    "def education_converter(ed):\n",
    "    if ed=='其他':\n",
    "        return 1\n",
    "    elif ed=='初中':\n",
    "        return 2\n",
    "    elif ed=='中专':\n",
    "        return 3\n",
    "    elif ed=='高中':\n",
    "        return 4\n",
    "    elif ed=='大专' or ed=='技术学校':\n",
    "        return 5\n",
    "    elif ed=='大学本科':\n",
    "        return 6\n",
    "    elif ed=='研究生':\n",
    "        return 7\n",
    "    elif ed=='博士后':\n",
    "        return 8\n",
    "    return 0"
   ],
   "metadata": {
    "collapsed": false,
    "pycharm": {
     "name": "#%%\n"
    }
   }
  },
  {
   "cell_type": "code",
   "execution_count": 17,
   "outputs": [],
   "source": [
    "new_data_df['education'] = new_data_df['education'].apply(education_converter)"
   ],
   "metadata": {
    "collapsed": false,
    "pycharm": {
     "name": "#%%\n"
    }
   }
  },
  {
   "cell_type": "code",
   "execution_count": 18,
   "outputs": [],
   "source": [
    "def marriage_converter(m):\n",
    "    if m=='未婚':\n",
    "        return 1\n",
    "    elif m=='已婚' or m=='初婚' or m=='复婚' or m=='再婚':\n",
    "        return 2\n",
    "    elif m==\"丧偶\" or m==\"离婚\":\n",
    "        return 3\n",
    "    else:\n",
    "        return 0\n"
   ],
   "metadata": {
    "collapsed": false,
    "pycharm": {
     "name": "#%%\n"
    }
   }
  },
  {
   "cell_type": "code",
   "execution_count": 20,
   "outputs": [],
   "source": [
    "new_data_df['marrige'] = new_data_df['marrige'].apply(marriage_converter)"
   ],
   "metadata": {
    "collapsed": false,
    "pycharm": {
     "name": "#%%\n"
    }
   }
  },
  {
   "cell_type": "code",
   "execution_count": 21,
   "outputs": [],
   "source": [
    "def career_converter(c):\n",
    "    if c=='生产、运输设备操作人员及有关人员':\n",
    "        return 1\n",
    "    elif c=='专业技术人员':\n",
    "        return 2\n",
    "    elif c=='农、林、牧、渔、水利业生产人员':\n",
    "        return 3\n",
    "    elif c=='军人':\n",
    "        return 4\n",
    "    elif c=='国家机关、党群组织、企业、事业单位负责人' or c=='办事人员和有关人员':\n",
    "        return 5\n",
    "    elif c=='商业、服务业人员':\n",
    "        return 6\n",
    "    return 0"
   ],
   "metadata": {
    "collapsed": false,
    "pycharm": {
     "name": "#%%\n"
    }
   }
  },
  {
   "cell_type": "code",
   "execution_count": 22,
   "outputs": [],
   "source": [
    "new_data_df['career'] = new_data_df['career'].apply(marriage_converter)"
   ],
   "metadata": {
    "collapsed": false,
    "pycharm": {
     "name": "#%%\n"
    }
   }
  },
  {
   "cell_type": "code",
   "execution_count": 24,
   "outputs": [],
   "source": [
    "new_data_df = new_data_df.drop(columns=['reg_add','home_add'])"
   ],
   "metadata": {
    "collapsed": false,
    "pycharm": {
     "name": "#%%\n"
    }
   }
  },
  {
   "cell_type": "code",
   "execution_count": 26,
   "outputs": [],
   "source": [
    "new_data_df.to_csv('./result16-other.csv',encoding='utf-8',index=False)"
   ],
   "metadata": {
    "collapsed": false,
    "pycharm": {
     "name": "#%%\n"
    }
   }
  }
 ],
 "metadata": {
  "kernelspec": {
   "display_name": "Python 3",
   "language": "python",
   "name": "python3"
  },
  "language_info": {
   "codemirror_mode": {
    "name": "ipython",
    "version": 2
   },
   "file_extension": ".py",
   "mimetype": "text/x-python",
   "name": "python",
   "nbconvert_exporter": "python",
   "pygments_lexer": "ipython2",
   "version": "2.7.6"
  }
 },
 "nbformat": 4,
 "nbformat_minor": 0
}